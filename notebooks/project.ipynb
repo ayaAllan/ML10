{
 "cells": [
  {
   "cell_type": "code",
   "execution_count": 41,
   "id": "320a2a72",
   "metadata": {},
   "outputs": [],
   "source": [
    "import pandas as pd\n",
    "import numpy as np\n",
    "from sklearn.preprocessing import StandardScaler\n",
    "from sklearn.cluster import KMeans\n",
    "from sklearn.decomposition import PCA\n",
    "import matplotlib.pyplot as plt"
   ]
  },
  {
   "cell_type": "code",
   "execution_count": null,
   "id": "4d5447ca",
   "metadata": {},
   "outputs": [],
   "source": [
    "df = pd.read_csv('../data-raw/crypto-markets.csv')\n",
    "\n",
    "df = df.drop(columns=['slug'])\n",
    "df['date'] = pd.to_datetime(df['date'])\n",
    "min_date = df['date'].min()\n",
    "max_date = df['date'].max()\n",
    "df = df.sort_values(['symbol', 'date'])\n",
    "\n",
    "coin_ranges = df.groupby('symbol')['date'].agg(['min', 'max']).reset_index()\n",
    "coin_ranges.head\n",
    "\n"
   ]
  },
  {
   "cell_type": "code",
   "execution_count": null,
   "id": "0d419312",
   "metadata": {},
   "outputs": [
    {
     "name": "stderr",
     "output_type": "stream",
     "text": [
      "/var/folders/0n/kwcts2ks32n5v8884446s1j40000gn/T/ipykernel_77841/824071327.py:13: FutureWarning: DataFrameGroupBy.apply operated on the grouping columns. This behavior is deprecated, and in a future version of pandas the grouping columns will be excluded from the operation. Either pass `include_groups=False` to exclude the groupings or explicitly select the grouping columns after groupby to silence this warning.\n",
      "  feature_df = df.groupby('symbol').apply(extract_coin_features).dropna()\n"
     ]
    },
    {
     "data": {
      "text/html": [
       "<div>\n",
       "<style scoped>\n",
       "    .dataframe tbody tr th:only-of-type {\n",
       "        vertical-align: middle;\n",
       "    }\n",
       "\n",
       "    .dataframe tbody tr th {\n",
       "        vertical-align: top;\n",
       "    }\n",
       "\n",
       "    .dataframe thead th {\n",
       "        text-align: right;\n",
       "    }\n",
       "</style>\n",
       "<table border=\"1\" class=\"dataframe\">\n",
       "  <thead>\n",
       "    <tr style=\"text-align: right;\">\n",
       "      <th></th>\n",
       "      <th>ranknow_mean</th>\n",
       "      <th>ranknow_std</th>\n",
       "      <th>ranknow_min</th>\n",
       "      <th>ranknow_max</th>\n",
       "      <th>ranknow_trend</th>\n",
       "      <th>open_mean</th>\n",
       "      <th>open_std</th>\n",
       "      <th>open_min</th>\n",
       "      <th>open_max</th>\n",
       "      <th>open_trend</th>\n",
       "      <th>...</th>\n",
       "      <th>close_ratio_mean</th>\n",
       "      <th>close_ratio_std</th>\n",
       "      <th>close_ratio_min</th>\n",
       "      <th>close_ratio_max</th>\n",
       "      <th>close_ratio_trend</th>\n",
       "      <th>spread_mean</th>\n",
       "      <th>spread_std</th>\n",
       "      <th>spread_min</th>\n",
       "      <th>spread_max</th>\n",
       "      <th>spread_trend</th>\n",
       "    </tr>\n",
       "    <tr>\n",
       "      <th>symbol</th>\n",
       "      <th></th>\n",
       "      <th></th>\n",
       "      <th></th>\n",
       "      <th></th>\n",
       "      <th></th>\n",
       "      <th></th>\n",
       "      <th></th>\n",
       "      <th></th>\n",
       "      <th></th>\n",
       "      <th></th>\n",
       "      <th></th>\n",
       "      <th></th>\n",
       "      <th></th>\n",
       "      <th></th>\n",
       "      <th></th>\n",
       "      <th></th>\n",
       "      <th></th>\n",
       "      <th></th>\n",
       "      <th></th>\n",
       "      <th></th>\n",
       "      <th></th>\n",
       "    </tr>\n",
       "  </thead>\n",
       "  <tbody>\n",
       "    <tr>\n",
       "      <th>$$$</th>\n",
       "      <td>1634.0</td>\n",
       "      <td>0.0</td>\n",
       "      <td>1634.0</td>\n",
       "      <td>1634.0</td>\n",
       "      <td>1.017259e-15</td>\n",
       "      <td>0.000976</td>\n",
       "      <td>0.001649</td>\n",
       "      <td>5.000000e-06</td>\n",
       "      <td>0.017379</td>\n",
       "      <td>2.548267e-06</td>\n",
       "      <td>...</td>\n",
       "      <td>0.361878</td>\n",
       "      <td>0.364105</td>\n",
       "      <td>0.0000</td>\n",
       "      <td>1.0</td>\n",
       "      <td>0.000191</td>\n",
       "      <td>0.000036</td>\n",
       "      <td>0.000601</td>\n",
       "      <td>0.00</td>\n",
       "      <td>0.01</td>\n",
       "      <td>8.227026e-08</td>\n",
       "    </tr>\n",
       "    <tr>\n",
       "      <th>$PAC</th>\n",
       "      <td>419.0</td>\n",
       "      <td>0.0</td>\n",
       "      <td>419.0</td>\n",
       "      <td>419.0</td>\n",
       "      <td>-8.666773e-16</td>\n",
       "      <td>0.001041</td>\n",
       "      <td>0.002181</td>\n",
       "      <td>2.500000e-09</td>\n",
       "      <td>0.016133</td>\n",
       "      <td>3.908197e-06</td>\n",
       "      <td>...</td>\n",
       "      <td>0.433197</td>\n",
       "      <td>0.326306</td>\n",
       "      <td>-0.5000</td>\n",
       "      <td>1.0</td>\n",
       "      <td>0.000039</td>\n",
       "      <td>0.000000</td>\n",
       "      <td>0.000000</td>\n",
       "      <td>0.00</td>\n",
       "      <td>0.00</td>\n",
       "      <td>0.000000e+00</td>\n",
       "    </tr>\n",
       "    <tr>\n",
       "      <th>0XBTC</th>\n",
       "      <td>706.0</td>\n",
       "      <td>0.0</td>\n",
       "      <td>706.0</td>\n",
       "      <td>706.0</td>\n",
       "      <td>-2.062632e-15</td>\n",
       "      <td>0.758279</td>\n",
       "      <td>0.583010</td>\n",
       "      <td>2.617410e-01</td>\n",
       "      <td>4.230000</td>\n",
       "      <td>-7.844581e-03</td>\n",
       "      <td>...</td>\n",
       "      <td>0.455226</td>\n",
       "      <td>0.275456</td>\n",
       "      <td>0.0000</td>\n",
       "      <td>1.0</td>\n",
       "      <td>0.000587</td>\n",
       "      <td>0.181117</td>\n",
       "      <td>0.251914</td>\n",
       "      <td>0.03</td>\n",
       "      <td>2.14</td>\n",
       "      <td>-2.483774e-03</td>\n",
       "    </tr>\n",
       "    <tr>\n",
       "      <th>1337</th>\n",
       "      <td>1251.0</td>\n",
       "      <td>0.0</td>\n",
       "      <td>1251.0</td>\n",
       "      <td>1251.0</td>\n",
       "      <td>1.155274e-15</td>\n",
       "      <td>0.000075</td>\n",
       "      <td>0.000114</td>\n",
       "      <td>6.500000e-07</td>\n",
       "      <td>0.001085</td>\n",
       "      <td>1.387695e-07</td>\n",
       "      <td>...</td>\n",
       "      <td>0.439675</td>\n",
       "      <td>0.357820</td>\n",
       "      <td>0.0000</td>\n",
       "      <td>1.0</td>\n",
       "      <td>0.000030</td>\n",
       "      <td>0.000000</td>\n",
       "      <td>0.000000</td>\n",
       "      <td>0.00</td>\n",
       "      <td>0.00</td>\n",
       "      <td>0.000000e+00</td>\n",
       "    </tr>\n",
       "    <tr>\n",
       "      <th>1ST</th>\n",
       "      <td>498.0</td>\n",
       "      <td>0.0</td>\n",
       "      <td>498.0</td>\n",
       "      <td>498.0</td>\n",
       "      <td>4.375284e-16</td>\n",
       "      <td>0.360271</td>\n",
       "      <td>0.396487</td>\n",
       "      <td>3.207100e-02</td>\n",
       "      <td>2.730000</td>\n",
       "      <td>-1.264999e-04</td>\n",
       "      <td>...</td>\n",
       "      <td>0.486337</td>\n",
       "      <td>0.302157</td>\n",
       "      <td>0.0000</td>\n",
       "      <td>1.0</td>\n",
       "      <td>-0.000137</td>\n",
       "      <td>0.067011</td>\n",
       "      <td>0.126574</td>\n",
       "      <td>0.00</td>\n",
       "      <td>1.84</td>\n",
       "      <td>-3.032604e-05</td>\n",
       "    </tr>\n",
       "    <tr>\n",
       "      <th>...</th>\n",
       "      <td>...</td>\n",
       "      <td>...</td>\n",
       "      <td>...</td>\n",
       "      <td>...</td>\n",
       "      <td>...</td>\n",
       "      <td>...</td>\n",
       "      <td>...</td>\n",
       "      <td>...</td>\n",
       "      <td>...</td>\n",
       "      <td>...</td>\n",
       "      <td>...</td>\n",
       "      <td>...</td>\n",
       "      <td>...</td>\n",
       "      <td>...</td>\n",
       "      <td>...</td>\n",
       "      <td>...</td>\n",
       "      <td>...</td>\n",
       "      <td>...</td>\n",
       "      <td>...</td>\n",
       "      <td>...</td>\n",
       "      <td>...</td>\n",
       "    </tr>\n",
       "    <tr>\n",
       "      <th>ZT</th>\n",
       "      <td>2065.0</td>\n",
       "      <td>0.0</td>\n",
       "      <td>2065.0</td>\n",
       "      <td>2065.0</td>\n",
       "      <td>-6.612451e-14</td>\n",
       "      <td>0.100920</td>\n",
       "      <td>0.014361</td>\n",
       "      <td>7.351200e-02</td>\n",
       "      <td>0.127372</td>\n",
       "      <td>-1.117907e-03</td>\n",
       "      <td>...</td>\n",
       "      <td>0.463774</td>\n",
       "      <td>0.270296</td>\n",
       "      <td>0.0956</td>\n",
       "      <td>1.0</td>\n",
       "      <td>-0.000818</td>\n",
       "      <td>0.010263</td>\n",
       "      <td>0.004925</td>\n",
       "      <td>0.00</td>\n",
       "      <td>0.02</td>\n",
       "      <td>-1.422475e-05</td>\n",
       "    </tr>\n",
       "    <tr>\n",
       "      <th>ZUR</th>\n",
       "      <td>1596.0</td>\n",
       "      <td>0.0</td>\n",
       "      <td>1596.0</td>\n",
       "      <td>1596.0</td>\n",
       "      <td>1.185062e-16</td>\n",
       "      <td>0.001341</td>\n",
       "      <td>0.002008</td>\n",
       "      <td>1.200000e-05</td>\n",
       "      <td>0.020219</td>\n",
       "      <td>2.682945e-06</td>\n",
       "      <td>...</td>\n",
       "      <td>0.419587</td>\n",
       "      <td>0.364857</td>\n",
       "      <td>0.0000</td>\n",
       "      <td>1.0</td>\n",
       "      <td>0.000180</td>\n",
       "      <td>0.000188</td>\n",
       "      <td>0.001741</td>\n",
       "      <td>0.00</td>\n",
       "      <td>0.03</td>\n",
       "      <td>2.921763e-08</td>\n",
       "    </tr>\n",
       "    <tr>\n",
       "      <th>ZXC</th>\n",
       "      <td>1034.0</td>\n",
       "      <td>0.0</td>\n",
       "      <td>1034.0</td>\n",
       "      <td>1034.0</td>\n",
       "      <td>-4.955544e-15</td>\n",
       "      <td>0.011653</td>\n",
       "      <td>0.010145</td>\n",
       "      <td>1.905000e-03</td>\n",
       "      <td>0.039791</td>\n",
       "      <td>-2.092171e-04</td>\n",
       "      <td>...</td>\n",
       "      <td>0.421050</td>\n",
       "      <td>0.269192</td>\n",
       "      <td>0.0000</td>\n",
       "      <td>1.0</td>\n",
       "      <td>-0.001422</td>\n",
       "      <td>0.000638</td>\n",
       "      <td>0.002453</td>\n",
       "      <td>0.00</td>\n",
       "      <td>0.01</td>\n",
       "      <td>-2.084850e-05</td>\n",
       "    </tr>\n",
       "    <tr>\n",
       "      <th>ZYD</th>\n",
       "      <td>1662.0</td>\n",
       "      <td>0.0</td>\n",
       "      <td>1662.0</td>\n",
       "      <td>1662.0</td>\n",
       "      <td>5.704900e-15</td>\n",
       "      <td>0.006759</td>\n",
       "      <td>0.003499</td>\n",
       "      <td>8.930000e-04</td>\n",
       "      <td>0.021010</td>\n",
       "      <td>-1.358107e-06</td>\n",
       "      <td>...</td>\n",
       "      <td>0.466949</td>\n",
       "      <td>0.360141</td>\n",
       "      <td>0.0000</td>\n",
       "      <td>1.0</td>\n",
       "      <td>0.000145</td>\n",
       "      <td>0.000722</td>\n",
       "      <td>0.002589</td>\n",
       "      <td>0.00</td>\n",
       "      <td>0.01</td>\n",
       "      <td>-2.311466e-06</td>\n",
       "    </tr>\n",
       "    <tr>\n",
       "      <th>ZZC</th>\n",
       "      <td>1541.0</td>\n",
       "      <td>0.0</td>\n",
       "      <td>1541.0</td>\n",
       "      <td>1541.0</td>\n",
       "      <td>-1.777828e-15</td>\n",
       "      <td>0.535608</td>\n",
       "      <td>0.664326</td>\n",
       "      <td>1.585900e-02</td>\n",
       "      <td>3.400000</td>\n",
       "      <td>-5.042573e-03</td>\n",
       "      <td>...</td>\n",
       "      <td>0.419587</td>\n",
       "      <td>0.358831</td>\n",
       "      <td>0.0000</td>\n",
       "      <td>1.0</td>\n",
       "      <td>-0.000300</td>\n",
       "      <td>0.225165</td>\n",
       "      <td>0.413300</td>\n",
       "      <td>0.00</td>\n",
       "      <td>3.07</td>\n",
       "      <td>-1.282797e-03</td>\n",
       "    </tr>\n",
       "  </tbody>\n",
       "</table>\n",
       "<p>2005 rows × 45 columns</p>\n",
       "</div>"
      ],
      "text/plain": [
       "        ranknow_mean  ranknow_std  ranknow_min  ranknow_max  ranknow_trend  \\\n",
       "symbol                                                                       \n",
       "$$$           1634.0          0.0       1634.0       1634.0   1.017259e-15   \n",
       "$PAC           419.0          0.0        419.0        419.0  -8.666773e-16   \n",
       "0XBTC          706.0          0.0        706.0        706.0  -2.062632e-15   \n",
       "1337          1251.0          0.0       1251.0       1251.0   1.155274e-15   \n",
       "1ST            498.0          0.0        498.0        498.0   4.375284e-16   \n",
       "...              ...          ...          ...          ...            ...   \n",
       "ZT            2065.0          0.0       2065.0       2065.0  -6.612451e-14   \n",
       "ZUR           1596.0          0.0       1596.0       1596.0   1.185062e-16   \n",
       "ZXC           1034.0          0.0       1034.0       1034.0  -4.955544e-15   \n",
       "ZYD           1662.0          0.0       1662.0       1662.0   5.704900e-15   \n",
       "ZZC           1541.0          0.0       1541.0       1541.0  -1.777828e-15   \n",
       "\n",
       "        open_mean  open_std      open_min  open_max    open_trend  ...  \\\n",
       "symbol                                                             ...   \n",
       "$$$      0.000976  0.001649  5.000000e-06  0.017379  2.548267e-06  ...   \n",
       "$PAC     0.001041  0.002181  2.500000e-09  0.016133  3.908197e-06  ...   \n",
       "0XBTC    0.758279  0.583010  2.617410e-01  4.230000 -7.844581e-03  ...   \n",
       "1337     0.000075  0.000114  6.500000e-07  0.001085  1.387695e-07  ...   \n",
       "1ST      0.360271  0.396487  3.207100e-02  2.730000 -1.264999e-04  ...   \n",
       "...           ...       ...           ...       ...           ...  ...   \n",
       "ZT       0.100920  0.014361  7.351200e-02  0.127372 -1.117907e-03  ...   \n",
       "ZUR      0.001341  0.002008  1.200000e-05  0.020219  2.682945e-06  ...   \n",
       "ZXC      0.011653  0.010145  1.905000e-03  0.039791 -2.092171e-04  ...   \n",
       "ZYD      0.006759  0.003499  8.930000e-04  0.021010 -1.358107e-06  ...   \n",
       "ZZC      0.535608  0.664326  1.585900e-02  3.400000 -5.042573e-03  ...   \n",
       "\n",
       "        close_ratio_mean  close_ratio_std  close_ratio_min  close_ratio_max  \\\n",
       "symbol                                                                        \n",
       "$$$             0.361878         0.364105           0.0000              1.0   \n",
       "$PAC            0.433197         0.326306          -0.5000              1.0   \n",
       "0XBTC           0.455226         0.275456           0.0000              1.0   \n",
       "1337            0.439675         0.357820           0.0000              1.0   \n",
       "1ST             0.486337         0.302157           0.0000              1.0   \n",
       "...                  ...              ...              ...              ...   \n",
       "ZT              0.463774         0.270296           0.0956              1.0   \n",
       "ZUR             0.419587         0.364857           0.0000              1.0   \n",
       "ZXC             0.421050         0.269192           0.0000              1.0   \n",
       "ZYD             0.466949         0.360141           0.0000              1.0   \n",
       "ZZC             0.419587         0.358831           0.0000              1.0   \n",
       "\n",
       "        close_ratio_trend  spread_mean  spread_std  spread_min  spread_max  \\\n",
       "symbol                                                                       \n",
       "$$$              0.000191     0.000036    0.000601        0.00        0.01   \n",
       "$PAC             0.000039     0.000000    0.000000        0.00        0.00   \n",
       "0XBTC            0.000587     0.181117    0.251914        0.03        2.14   \n",
       "1337             0.000030     0.000000    0.000000        0.00        0.00   \n",
       "1ST             -0.000137     0.067011    0.126574        0.00        1.84   \n",
       "...                   ...          ...         ...         ...         ...   \n",
       "ZT              -0.000818     0.010263    0.004925        0.00        0.02   \n",
       "ZUR              0.000180     0.000188    0.001741        0.00        0.03   \n",
       "ZXC             -0.001422     0.000638    0.002453        0.00        0.01   \n",
       "ZYD              0.000145     0.000722    0.002589        0.00        0.01   \n",
       "ZZC             -0.000300     0.225165    0.413300        0.00        3.07   \n",
       "\n",
       "        spread_trend  \n",
       "symbol                \n",
       "$$$     8.227026e-08  \n",
       "$PAC    0.000000e+00  \n",
       "0XBTC  -2.483774e-03  \n",
       "1337    0.000000e+00  \n",
       "1ST    -3.032604e-05  \n",
       "...              ...  \n",
       "ZT     -1.422475e-05  \n",
       "ZUR     2.921763e-08  \n",
       "ZXC    -2.084850e-05  \n",
       "ZYD    -2.311466e-06  \n",
       "ZZC    -1.282797e-03  \n",
       "\n",
       "[2005 rows x 45 columns]"
      ]
     },
     "execution_count": 43,
     "metadata": {},
     "output_type": "execute_result"
    }
   ],
   "source": [
    "# Extract time-series summary features per df numeric feature per coin\n",
    "numeric_cols = df.select_dtypes(include=[np.number]).columns.tolist()\n",
    "\n",
    "def extract_coin_features(group):\n",
    "    features = {}\n",
    "    for col in numeric_cols:\n",
    "        series = group[col]\n",
    "        features[f'{col}_mean'] = series.mean()\n",
    "        features[f'{col}_std'] = series.std()\n",
    "        features[f'{col}_min'] = series.min()\n",
    "        features[f'{col}_max'] = series.max()\n",
    "        features[f'{col}_trend'] = np.polyfit(range(len(series)), series, deg=1)[0] if len(series) > 1 else 0\n",
    "    return pd.Series(features)\n",
    "\n",
    "feature_df = df.groupby('symbol').apply(extract_coin_features).dropna()\n",
    "feature_df"
   ]
  },
  {
   "cell_type": "code",
   "execution_count": 44,
   "id": "489eafb7",
   "metadata": {},
   "outputs": [
    {
     "name": "stderr",
     "output_type": "stream",
     "text": [
      "/opt/miniconda3/envs/dsi_participant/lib/python3.9/site-packages/sklearn/cluster/_kmeans.py:870: FutureWarning: The default value of `n_init` will change from 10 to 'auto' in 1.4. Set the value of `n_init` explicitly to suppress the warning\n",
      "  warnings.warn(\n",
      "/opt/miniconda3/envs/dsi_participant/lib/python3.9/site-packages/sklearn/cluster/_kmeans.py:870: FutureWarning: The default value of `n_init` will change from 10 to 'auto' in 1.4. Set the value of `n_init` explicitly to suppress the warning\n",
      "  warnings.warn(\n",
      "/opt/miniconda3/envs/dsi_participant/lib/python3.9/site-packages/sklearn/cluster/_kmeans.py:870: FutureWarning: The default value of `n_init` will change from 10 to 'auto' in 1.4. Set the value of `n_init` explicitly to suppress the warning\n",
      "  warnings.warn(\n",
      "/opt/miniconda3/envs/dsi_participant/lib/python3.9/site-packages/sklearn/cluster/_kmeans.py:870: FutureWarning: The default value of `n_init` will change from 10 to 'auto' in 1.4. Set the value of `n_init` explicitly to suppress the warning\n",
      "  warnings.warn(\n",
      "/opt/miniconda3/envs/dsi_participant/lib/python3.9/site-packages/sklearn/cluster/_kmeans.py:870: FutureWarning: The default value of `n_init` will change from 10 to 'auto' in 1.4. Set the value of `n_init` explicitly to suppress the warning\n",
      "  warnings.warn(\n",
      "/opt/miniconda3/envs/dsi_participant/lib/python3.9/site-packages/sklearn/cluster/_kmeans.py:870: FutureWarning: The default value of `n_init` will change from 10 to 'auto' in 1.4. Set the value of `n_init` explicitly to suppress the warning\n",
      "  warnings.warn(\n",
      "/opt/miniconda3/envs/dsi_participant/lib/python3.9/site-packages/sklearn/cluster/_kmeans.py:870: FutureWarning: The default value of `n_init` will change from 10 to 'auto' in 1.4. Set the value of `n_init` explicitly to suppress the warning\n",
      "  warnings.warn(\n",
      "/opt/miniconda3/envs/dsi_participant/lib/python3.9/site-packages/sklearn/cluster/_kmeans.py:870: FutureWarning: The default value of `n_init` will change from 10 to 'auto' in 1.4. Set the value of `n_init` explicitly to suppress the warning\n",
      "  warnings.warn(\n",
      "/opt/miniconda3/envs/dsi_participant/lib/python3.9/site-packages/sklearn/cluster/_kmeans.py:870: FutureWarning: The default value of `n_init` will change from 10 to 'auto' in 1.4. Set the value of `n_init` explicitly to suppress the warning\n",
      "  warnings.warn(\n",
      "/opt/miniconda3/envs/dsi_participant/lib/python3.9/site-packages/sklearn/cluster/_kmeans.py:870: FutureWarning: The default value of `n_init` will change from 10 to 'auto' in 1.4. Set the value of `n_init` explicitly to suppress the warning\n",
      "  warnings.warn(\n",
      "/opt/miniconda3/envs/dsi_participant/lib/python3.9/site-packages/sklearn/cluster/_kmeans.py:870: FutureWarning: The default value of `n_init` will change from 10 to 'auto' in 1.4. Set the value of `n_init` explicitly to suppress the warning\n",
      "  warnings.warn(\n",
      "/opt/miniconda3/envs/dsi_participant/lib/python3.9/site-packages/sklearn/cluster/_kmeans.py:870: FutureWarning: The default value of `n_init` will change from 10 to 'auto' in 1.4. Set the value of `n_init` explicitly to suppress the warning\n",
      "  warnings.warn(\n",
      "/opt/miniconda3/envs/dsi_participant/lib/python3.9/site-packages/sklearn/cluster/_kmeans.py:870: FutureWarning: The default value of `n_init` will change from 10 to 'auto' in 1.4. Set the value of `n_init` explicitly to suppress the warning\n",
      "  warnings.warn(\n",
      "/opt/miniconda3/envs/dsi_participant/lib/python3.9/site-packages/sklearn/cluster/_kmeans.py:870: FutureWarning: The default value of `n_init` will change from 10 to 'auto' in 1.4. Set the value of `n_init` explicitly to suppress the warning\n",
      "  warnings.warn(\n",
      "/opt/miniconda3/envs/dsi_participant/lib/python3.9/site-packages/sklearn/cluster/_kmeans.py:870: FutureWarning: The default value of `n_init` will change from 10 to 'auto' in 1.4. Set the value of `n_init` explicitly to suppress the warning\n",
      "  warnings.warn(\n",
      "/opt/miniconda3/envs/dsi_participant/lib/python3.9/site-packages/sklearn/cluster/_kmeans.py:870: FutureWarning: The default value of `n_init` will change from 10 to 'auto' in 1.4. Set the value of `n_init` explicitly to suppress the warning\n",
      "  warnings.warn(\n",
      "/opt/miniconda3/envs/dsi_participant/lib/python3.9/site-packages/sklearn/cluster/_kmeans.py:870: FutureWarning: The default value of `n_init` will change from 10 to 'auto' in 1.4. Set the value of `n_init` explicitly to suppress the warning\n",
      "  warnings.warn(\n",
      "/opt/miniconda3/envs/dsi_participant/lib/python3.9/site-packages/sklearn/cluster/_kmeans.py:870: FutureWarning: The default value of `n_init` will change from 10 to 'auto' in 1.4. Set the value of `n_init` explicitly to suppress the warning\n",
      "  warnings.warn(\n",
      "/opt/miniconda3/envs/dsi_participant/lib/python3.9/site-packages/sklearn/cluster/_kmeans.py:870: FutureWarning: The default value of `n_init` will change from 10 to 'auto' in 1.4. Set the value of `n_init` explicitly to suppress the warning\n",
      "  warnings.warn(\n",
      "/opt/miniconda3/envs/dsi_participant/lib/python3.9/site-packages/sklearn/cluster/_kmeans.py:870: FutureWarning: The default value of `n_init` will change from 10 to 'auto' in 1.4. Set the value of `n_init` explicitly to suppress the warning\n",
      "  warnings.warn(\n",
      "/opt/miniconda3/envs/dsi_participant/lib/python3.9/site-packages/sklearn/cluster/_kmeans.py:870: FutureWarning: The default value of `n_init` will change from 10 to 'auto' in 1.4. Set the value of `n_init` explicitly to suppress the warning\n",
      "  warnings.warn(\n",
      "/opt/miniconda3/envs/dsi_participant/lib/python3.9/site-packages/sklearn/cluster/_kmeans.py:870: FutureWarning: The default value of `n_init` will change from 10 to 'auto' in 1.4. Set the value of `n_init` explicitly to suppress the warning\n",
      "  warnings.warn(\n",
      "/opt/miniconda3/envs/dsi_participant/lib/python3.9/site-packages/sklearn/cluster/_kmeans.py:870: FutureWarning: The default value of `n_init` will change from 10 to 'auto' in 1.4. Set the value of `n_init` explicitly to suppress the warning\n",
      "  warnings.warn(\n",
      "/opt/miniconda3/envs/dsi_participant/lib/python3.9/site-packages/sklearn/cluster/_kmeans.py:870: FutureWarning: The default value of `n_init` will change from 10 to 'auto' in 1.4. Set the value of `n_init` explicitly to suppress the warning\n",
      "  warnings.warn(\n",
      "/opt/miniconda3/envs/dsi_participant/lib/python3.9/site-packages/sklearn/cluster/_kmeans.py:870: FutureWarning: The default value of `n_init` will change from 10 to 'auto' in 1.4. Set the value of `n_init` explicitly to suppress the warning\n",
      "  warnings.warn(\n",
      "/opt/miniconda3/envs/dsi_participant/lib/python3.9/site-packages/sklearn/cluster/_kmeans.py:870: FutureWarning: The default value of `n_init` will change from 10 to 'auto' in 1.4. Set the value of `n_init` explicitly to suppress the warning\n",
      "  warnings.warn(\n",
      "/opt/miniconda3/envs/dsi_participant/lib/python3.9/site-packages/sklearn/cluster/_kmeans.py:870: FutureWarning: The default value of `n_init` will change from 10 to 'auto' in 1.4. Set the value of `n_init` explicitly to suppress the warning\n",
      "  warnings.warn(\n",
      "/opt/miniconda3/envs/dsi_participant/lib/python3.9/site-packages/sklearn/cluster/_kmeans.py:870: FutureWarning: The default value of `n_init` will change from 10 to 'auto' in 1.4. Set the value of `n_init` explicitly to suppress the warning\n",
      "  warnings.warn(\n",
      "/opt/miniconda3/envs/dsi_participant/lib/python3.9/site-packages/sklearn/cluster/_kmeans.py:870: FutureWarning: The default value of `n_init` will change from 10 to 'auto' in 1.4. Set the value of `n_init` explicitly to suppress the warning\n",
      "  warnings.warn(\n",
      "/opt/miniconda3/envs/dsi_participant/lib/python3.9/site-packages/sklearn/cluster/_kmeans.py:870: FutureWarning: The default value of `n_init` will change from 10 to 'auto' in 1.4. Set the value of `n_init` explicitly to suppress the warning\n",
      "  warnings.warn(\n",
      "/opt/miniconda3/envs/dsi_participant/lib/python3.9/site-packages/sklearn/cluster/_kmeans.py:870: FutureWarning: The default value of `n_init` will change from 10 to 'auto' in 1.4. Set the value of `n_init` explicitly to suppress the warning\n",
      "  warnings.warn(\n",
      "/opt/miniconda3/envs/dsi_participant/lib/python3.9/site-packages/sklearn/cluster/_kmeans.py:870: FutureWarning: The default value of `n_init` will change from 10 to 'auto' in 1.4. Set the value of `n_init` explicitly to suppress the warning\n",
      "  warnings.warn(\n",
      "/opt/miniconda3/envs/dsi_participant/lib/python3.9/site-packages/sklearn/cluster/_kmeans.py:870: FutureWarning: The default value of `n_init` will change from 10 to 'auto' in 1.4. Set the value of `n_init` explicitly to suppress the warning\n",
      "  warnings.warn(\n",
      "/opt/miniconda3/envs/dsi_participant/lib/python3.9/site-packages/sklearn/cluster/_kmeans.py:870: FutureWarning: The default value of `n_init` will change from 10 to 'auto' in 1.4. Set the value of `n_init` explicitly to suppress the warning\n",
      "  warnings.warn(\n",
      "/opt/miniconda3/envs/dsi_participant/lib/python3.9/site-packages/sklearn/cluster/_kmeans.py:870: FutureWarning: The default value of `n_init` will change from 10 to 'auto' in 1.4. Set the value of `n_init` explicitly to suppress the warning\n",
      "  warnings.warn(\n"
     ]
    },
    {
     "data": {
      "image/png": "[encoded data removed]",
      "text/plain": [
       "<Figure size 640x480 with 1 Axes>"
      ]
     },
     "metadata": {},
     "output_type": "display_data"
    }
   ],
   "source": [
    "scaler = StandardScaler()\n",
    "scaled_feature_df = scaler.fit_transform(feature_df)\n",
    "\n",
    "wcss = []\n",
    "for k in range(5, 40):\n",
    "    kmeans = KMeans(n_clusters=k, random_state=42)\n",
    "    kmeans.fit(scaled_feature_df)\n",
    "    wcss.append(kmeans.inertia_)  # inertia_ is the WCSS (within-cluster sum of squares)\n",
    "\n",
    "plt.plot(range(5, 40), wcss, marker='o')\n",
    "plt.xlabel('Number of Clusters (k)')\n",
    "plt.ylabel('WCSS')\n",
    "plt.title('Elbow Method')\n",
    "plt.show()"
   ]
  },
  {
   "cell_type": "code",
   "execution_count": 45,
   "id": "11f263f0",
   "metadata": {},
   "outputs": [
    {
     "name": "stderr",
     "output_type": "stream",
     "text": [
      "/opt/miniconda3/envs/dsi_participant/lib/python3.9/site-packages/sklearn/cluster/_kmeans.py:870: FutureWarning: The default value of `n_init` will change from 10 to 'auto' in 1.4. Set the value of `n_init` explicitly to suppress the warning\n",
      "  warnings.warn(\n",
      "/opt/miniconda3/envs/dsi_participant/lib/python3.9/site-packages/sklearn/cluster/_kmeans.py:870: FutureWarning: The default value of `n_init` will change from 10 to 'auto' in 1.4. Set the value of `n_init` explicitly to suppress the warning\n",
      "  warnings.warn(\n"
     ]
    },
    {
     "name": "stdout",
     "output_type": "stream",
     "text": [
      "k=5, silhouette score=0.344\n",
      "k=6, silhouette score=0.349\n"
     ]
    },
    {
     "name": "stderr",
     "output_type": "stream",
     "text": [
      "/opt/miniconda3/envs/dsi_participant/lib/python3.9/site-packages/sklearn/cluster/_kmeans.py:870: FutureWarning: The default value of `n_init` will change from 10 to 'auto' in 1.4. Set the value of `n_init` explicitly to suppress the warning\n",
      "  warnings.warn(\n",
      "/opt/miniconda3/envs/dsi_participant/lib/python3.9/site-packages/sklearn/cluster/_kmeans.py:870: FutureWarning: The default value of `n_init` will change from 10 to 'auto' in 1.4. Set the value of `n_init` explicitly to suppress the warning\n",
      "  warnings.warn(\n"
     ]
    },
    {
     "name": "stdout",
     "output_type": "stream",
     "text": [
      "k=7, silhouette score=0.359\n",
      "k=8, silhouette score=0.360\n"
     ]
    },
    {
     "name": "stderr",
     "output_type": "stream",
     "text": [
      "/opt/miniconda3/envs/dsi_participant/lib/python3.9/site-packages/sklearn/cluster/_kmeans.py:870: FutureWarning: The default value of `n_init` will change from 10 to 'auto' in 1.4. Set the value of `n_init` explicitly to suppress the warning\n",
      "  warnings.warn(\n",
      "/opt/miniconda3/envs/dsi_participant/lib/python3.9/site-packages/sklearn/cluster/_kmeans.py:870: FutureWarning: The default value of `n_init` will change from 10 to 'auto' in 1.4. Set the value of `n_init` explicitly to suppress the warning\n",
      "  warnings.warn(\n"
     ]
    },
    {
     "name": "stdout",
     "output_type": "stream",
     "text": [
      "k=9, silhouette score=0.360\n",
      "k=10, silhouette score=0.374\n"
     ]
    },
    {
     "name": "stderr",
     "output_type": "stream",
     "text": [
      "/opt/miniconda3/envs/dsi_participant/lib/python3.9/site-packages/sklearn/cluster/_kmeans.py:870: FutureWarning: The default value of `n_init` will change from 10 to 'auto' in 1.4. Set the value of `n_init` explicitly to suppress the warning\n",
      "  warnings.warn(\n",
      "/opt/miniconda3/envs/dsi_participant/lib/python3.9/site-packages/sklearn/cluster/_kmeans.py:870: FutureWarning: The default value of `n_init` will change from 10 to 'auto' in 1.4. Set the value of `n_init` explicitly to suppress the warning\n",
      "  warnings.warn(\n"
     ]
    },
    {
     "name": "stdout",
     "output_type": "stream",
     "text": [
      "k=11, silhouette score=0.378\n",
      "k=12, silhouette score=0.378\n"
     ]
    },
    {
     "name": "stderr",
     "output_type": "stream",
     "text": [
      "/opt/miniconda3/envs/dsi_participant/lib/python3.9/site-packages/sklearn/cluster/_kmeans.py:870: FutureWarning: The default value of `n_init` will change from 10 to 'auto' in 1.4. Set the value of `n_init` explicitly to suppress the warning\n",
      "  warnings.warn(\n",
      "/opt/miniconda3/envs/dsi_participant/lib/python3.9/site-packages/sklearn/cluster/_kmeans.py:870: FutureWarning: The default value of `n_init` will change from 10 to 'auto' in 1.4. Set the value of `n_init` explicitly to suppress the warning\n",
      "  warnings.warn(\n"
     ]
    },
    {
     "name": "stdout",
     "output_type": "stream",
     "text": [
      "k=13, silhouette score=0.242\n",
      "k=14, silhouette score=0.295\n"
     ]
    },
    {
     "name": "stderr",
     "output_type": "stream",
     "text": [
      "/opt/miniconda3/envs/dsi_participant/lib/python3.9/site-packages/sklearn/cluster/_kmeans.py:870: FutureWarning: The default value of `n_init` will change from 10 to 'auto' in 1.4. Set the value of `n_init` explicitly to suppress the warning\n",
      "  warnings.warn(\n"
     ]
    },
    {
     "name": "stdout",
     "output_type": "stream",
     "text": [
      "k=15, silhouette score=0.304\n",
      "k=16, silhouette score=0.301\n"
     ]
    },
    {
     "name": "stderr",
     "output_type": "stream",
     "text": [
      "/opt/miniconda3/envs/dsi_participant/lib/python3.9/site-packages/sklearn/cluster/_kmeans.py:870: FutureWarning: The default value of `n_init` will change from 10 to 'auto' in 1.4. Set the value of `n_init` explicitly to suppress the warning\n",
      "  warnings.warn(\n",
      "/opt/miniconda3/envs/dsi_participant/lib/python3.9/site-packages/sklearn/cluster/_kmeans.py:870: FutureWarning: The default value of `n_init` will change from 10 to 'auto' in 1.4. Set the value of `n_init` explicitly to suppress the warning\n",
      "  warnings.warn(\n"
     ]
    },
    {
     "name": "stdout",
     "output_type": "stream",
     "text": [
      "k=17, silhouette score=0.298\n"
     ]
    },
    {
     "name": "stderr",
     "output_type": "stream",
     "text": [
      "/opt/miniconda3/envs/dsi_participant/lib/python3.9/site-packages/sklearn/cluster/_kmeans.py:870: FutureWarning: The default value of `n_init` will change from 10 to 'auto' in 1.4. Set the value of `n_init` explicitly to suppress the warning\n",
      "  warnings.warn(\n"
     ]
    },
    {
     "name": "stdout",
     "output_type": "stream",
     "text": [
      "k=18, silhouette score=0.248\n"
     ]
    },
    {
     "name": "stderr",
     "output_type": "stream",
     "text": [
      "/opt/miniconda3/envs/dsi_participant/lib/python3.9/site-packages/sklearn/cluster/_kmeans.py:870: FutureWarning: The default value of `n_init` will change from 10 to 'auto' in 1.4. Set the value of `n_init` explicitly to suppress the warning\n",
      "  warnings.warn(\n"
     ]
    },
    {
     "name": "stdout",
     "output_type": "stream",
     "text": [
      "k=19, silhouette score=0.235\n"
     ]
    },
    {
     "name": "stderr",
     "output_type": "stream",
     "text": [
      "/opt/miniconda3/envs/dsi_participant/lib/python3.9/site-packages/sklearn/cluster/_kmeans.py:870: FutureWarning: The default value of `n_init` will change from 10 to 'auto' in 1.4. Set the value of `n_init` explicitly to suppress the warning\n",
      "  warnings.warn(\n"
     ]
    },
    {
     "name": "stdout",
     "output_type": "stream",
     "text": [
      "k=20, silhouette score=0.250\n"
     ]
    },
    {
     "name": "stderr",
     "output_type": "stream",
     "text": [
      "/opt/miniconda3/envs/dsi_participant/lib/python3.9/site-packages/sklearn/cluster/_kmeans.py:870: FutureWarning: The default value of `n_init` will change from 10 to 'auto' in 1.4. Set the value of `n_init` explicitly to suppress the warning\n",
      "  warnings.warn(\n"
     ]
    },
    {
     "name": "stdout",
     "output_type": "stream",
     "text": [
      "k=21, silhouette score=0.243\n"
     ]
    },
    {
     "name": "stderr",
     "output_type": "stream",
     "text": [
      "/opt/miniconda3/envs/dsi_participant/lib/python3.9/site-packages/sklearn/cluster/_kmeans.py:870: FutureWarning: The default value of `n_init` will change from 10 to 'auto' in 1.4. Set the value of `n_init` explicitly to suppress the warning\n",
      "  warnings.warn(\n"
     ]
    },
    {
     "name": "stdout",
     "output_type": "stream",
     "text": [
      "k=22, silhouette score=0.234\n"
     ]
    },
    {
     "name": "stderr",
     "output_type": "stream",
     "text": [
      "/opt/miniconda3/envs/dsi_participant/lib/python3.9/site-packages/sklearn/cluster/_kmeans.py:870: FutureWarning: The default value of `n_init` will change from 10 to 'auto' in 1.4. Set the value of `n_init` explicitly to suppress the warning\n",
      "  warnings.warn(\n"
     ]
    },
    {
     "name": "stdout",
     "output_type": "stream",
     "text": [
      "k=23, silhouette score=0.227\n"
     ]
    },
    {
     "name": "stderr",
     "output_type": "stream",
     "text": [
      "/opt/miniconda3/envs/dsi_participant/lib/python3.9/site-packages/sklearn/cluster/_kmeans.py:870: FutureWarning: The default value of `n_init` will change from 10 to 'auto' in 1.4. Set the value of `n_init` explicitly to suppress the warning\n",
      "  warnings.warn(\n"
     ]
    },
    {
     "name": "stdout",
     "output_type": "stream",
     "text": [
      "k=24, silhouette score=0.253\n"
     ]
    },
    {
     "name": "stderr",
     "output_type": "stream",
     "text": [
      "/opt/miniconda3/envs/dsi_participant/lib/python3.9/site-packages/sklearn/cluster/_kmeans.py:870: FutureWarning: The default value of `n_init` will change from 10 to 'auto' in 1.4. Set the value of `n_init` explicitly to suppress the warning\n",
      "  warnings.warn(\n"
     ]
    },
    {
     "name": "stdout",
     "output_type": "stream",
     "text": [
      "k=25, silhouette score=0.246\n"
     ]
    },
    {
     "name": "stderr",
     "output_type": "stream",
     "text": [
      "/opt/miniconda3/envs/dsi_participant/lib/python3.9/site-packages/sklearn/cluster/_kmeans.py:870: FutureWarning: The default value of `n_init` will change from 10 to 'auto' in 1.4. Set the value of `n_init` explicitly to suppress the warning\n",
      "  warnings.warn(\n"
     ]
    },
    {
     "name": "stdout",
     "output_type": "stream",
     "text": [
      "k=26, silhouette score=0.239\n"
     ]
    },
    {
     "name": "stderr",
     "output_type": "stream",
     "text": [
      "/opt/miniconda3/envs/dsi_participant/lib/python3.9/site-packages/sklearn/cluster/_kmeans.py:870: FutureWarning: The default value of `n_init` will change from 10 to 'auto' in 1.4. Set the value of `n_init` explicitly to suppress the warning\n",
      "  warnings.warn(\n"
     ]
    },
    {
     "name": "stdout",
     "output_type": "stream",
     "text": [
      "k=27, silhouette score=0.237\n"
     ]
    },
    {
     "name": "stderr",
     "output_type": "stream",
     "text": [
      "/opt/miniconda3/envs/dsi_participant/lib/python3.9/site-packages/sklearn/cluster/_kmeans.py:870: FutureWarning: The default value of `n_init` will change from 10 to 'auto' in 1.4. Set the value of `n_init` explicitly to suppress the warning\n",
      "  warnings.warn(\n"
     ]
    },
    {
     "name": "stdout",
     "output_type": "stream",
     "text": [
      "k=28, silhouette score=0.237\n"
     ]
    },
    {
     "name": "stderr",
     "output_type": "stream",
     "text": [
      "/opt/miniconda3/envs/dsi_participant/lib/python3.9/site-packages/sklearn/cluster/_kmeans.py:870: FutureWarning: The default value of `n_init` will change from 10 to 'auto' in 1.4. Set the value of `n_init` explicitly to suppress the warning\n",
      "  warnings.warn(\n"
     ]
    },
    {
     "name": "stdout",
     "output_type": "stream",
     "text": [
      "k=29, silhouette score=0.233\n"
     ]
    },
    {
     "name": "stderr",
     "output_type": "stream",
     "text": [
      "/opt/miniconda3/envs/dsi_participant/lib/python3.9/site-packages/sklearn/cluster/_kmeans.py:870: FutureWarning: The default value of `n_init` will change from 10 to 'auto' in 1.4. Set the value of `n_init` explicitly to suppress the warning\n",
      "  warnings.warn(\n"
     ]
    },
    {
     "name": "stdout",
     "output_type": "stream",
     "text": [
      "k=30, silhouette score=0.243\n"
     ]
    },
    {
     "name": "stderr",
     "output_type": "stream",
     "text": [
      "/opt/miniconda3/envs/dsi_participant/lib/python3.9/site-packages/sklearn/cluster/_kmeans.py:870: FutureWarning: The default value of `n_init` will change from 10 to 'auto' in 1.4. Set the value of `n_init` explicitly to suppress the warning\n",
      "  warnings.warn(\n"
     ]
    },
    {
     "name": "stdout",
     "output_type": "stream",
     "text": [
      "k=31, silhouette score=0.241\n"
     ]
    },
    {
     "name": "stderr",
     "output_type": "stream",
     "text": [
      "/opt/miniconda3/envs/dsi_participant/lib/python3.9/site-packages/sklearn/cluster/_kmeans.py:870: FutureWarning: The default value of `n_init` will change from 10 to 'auto' in 1.4. Set the value of `n_init` explicitly to suppress the warning\n",
      "  warnings.warn(\n"
     ]
    },
    {
     "name": "stdout",
     "output_type": "stream",
     "text": [
      "k=32, silhouette score=0.240\n"
     ]
    },
    {
     "name": "stderr",
     "output_type": "stream",
     "text": [
      "/opt/miniconda3/envs/dsi_participant/lib/python3.9/site-packages/sklearn/cluster/_kmeans.py:870: FutureWarning: The default value of `n_init` will change from 10 to 'auto' in 1.4. Set the value of `n_init` explicitly to suppress the warning\n",
      "  warnings.warn(\n"
     ]
    },
    {
     "name": "stdout",
     "output_type": "stream",
     "text": [
      "k=33, silhouette score=0.239\n"
     ]
    },
    {
     "name": "stderr",
     "output_type": "stream",
     "text": [
      "/opt/miniconda3/envs/dsi_participant/lib/python3.9/site-packages/sklearn/cluster/_kmeans.py:870: FutureWarning: The default value of `n_init` will change from 10 to 'auto' in 1.4. Set the value of `n_init` explicitly to suppress the warning\n",
      "  warnings.warn(\n"
     ]
    },
    {
     "name": "stdout",
     "output_type": "stream",
     "text": [
      "k=34, silhouette score=0.206\n"
     ]
    },
    {
     "name": "stderr",
     "output_type": "stream",
     "text": [
      "/opt/miniconda3/envs/dsi_participant/lib/python3.9/site-packages/sklearn/cluster/_kmeans.py:870: FutureWarning: The default value of `n_init` will change from 10 to 'auto' in 1.4. Set the value of `n_init` explicitly to suppress the warning\n",
      "  warnings.warn(\n"
     ]
    },
    {
     "name": "stdout",
     "output_type": "stream",
     "text": [
      "k=35, silhouette score=0.211\n"
     ]
    },
    {
     "name": "stderr",
     "output_type": "stream",
     "text": [
      "/opt/miniconda3/envs/dsi_participant/lib/python3.9/site-packages/sklearn/cluster/_kmeans.py:870: FutureWarning: The default value of `n_init` will change from 10 to 'auto' in 1.4. Set the value of `n_init` explicitly to suppress the warning\n",
      "  warnings.warn(\n"
     ]
    },
    {
     "name": "stdout",
     "output_type": "stream",
     "text": [
      "k=36, silhouette score=0.213\n"
     ]
    },
    {
     "name": "stderr",
     "output_type": "stream",
     "text": [
      "/opt/miniconda3/envs/dsi_participant/lib/python3.9/site-packages/sklearn/cluster/_kmeans.py:870: FutureWarning: The default value of `n_init` will change from 10 to 'auto' in 1.4. Set the value of `n_init` explicitly to suppress the warning\n",
      "  warnings.warn(\n"
     ]
    },
    {
     "name": "stdout",
     "output_type": "stream",
     "text": [
      "k=37, silhouette score=0.211\n"
     ]
    },
    {
     "name": "stderr",
     "output_type": "stream",
     "text": [
      "/opt/miniconda3/envs/dsi_participant/lib/python3.9/site-packages/sklearn/cluster/_kmeans.py:870: FutureWarning: The default value of `n_init` will change from 10 to 'auto' in 1.4. Set the value of `n_init` explicitly to suppress the warning\n",
      "  warnings.warn(\n"
     ]
    },
    {
     "name": "stdout",
     "output_type": "stream",
     "text": [
      "k=38, silhouette score=0.205\n"
     ]
    },
    {
     "name": "stderr",
     "output_type": "stream",
     "text": [
      "/opt/miniconda3/envs/dsi_participant/lib/python3.9/site-packages/sklearn/cluster/_kmeans.py:870: FutureWarning: The default value of `n_init` will change from 10 to 'auto' in 1.4. Set the value of `n_init` explicitly to suppress the warning\n",
      "  warnings.warn(\n"
     ]
    },
    {
     "name": "stdout",
     "output_type": "stream",
     "text": [
      "k=39, silhouette score=0.208\n"
     ]
    }
   ],
   "source": [
    "from sklearn.metrics import silhouette_score\n",
    "\n",
    "for k in range(5, 40):\n",
    "    kmeans = KMeans(n_clusters=k, random_state=42)\n",
    "    labels = kmeans.fit_predict(scaled_feature_df)\n",
    "    score = silhouette_score(scaled_feature_df, labels)\n",
    "    print(f\"k={k}, silhouette score={score:.3f}\")\n",
    "\n",
    "pca = PCA(n_components=2)\n",
    "X_pca = pca.fit_transform(scaled_feature_df)\n"
   ]
  },
  {
   "cell_type": "code",
   "execution_count": 46,
   "id": "c25afdc5",
   "metadata": {},
   "outputs": [
    {
     "name": "stderr",
     "output_type": "stream",
     "text": [
      "/opt/miniconda3/envs/dsi_participant/lib/python3.9/site-packages/sklearn/cluster/_kmeans.py:870: FutureWarning: The default value of `n_init` will change from 10 to 'auto' in 1.4. Set the value of `n_init` explicitly to suppress the warning\n",
      "  warnings.warn(\n"
     ]
    },
    {
     "data": {
      "image/png": "[encoded data removed]",
      "text/plain": [
       "<Figure size 640x480 with 1 Axes>"
      ]
     },
     "metadata": {},
     "output_type": "display_data"
    }
   ],
   "source": [
    "kmeans = KMeans(n_clusters=5)\n",
    "clusters = kmeans.fit_predict(scaled_feature_df)\n",
    "\n",
    "plt.scatter(X_pca[:, 0], X_pca[:, 1], c=clusters, cmap='tab10')\n",
    "plt.title(\"Cluster Visualization (PCA)\")\n",
    "plt.xlabel(\"PC1\")\n",
    "plt.ylabel(\"PC2\")\n",
    "plt.show()"
   ]
  },
  {
   "cell_type": "code",
   "execution_count": 47,
   "id": "aaa9814e",
   "metadata": {},
   "outputs": [
    {
     "name": "stdout",
     "output_type": "stream",
     "text": [
      "\n",
      "🟢 Cluster 0 (1008 coins):\n",
      "$PAC, 0XBTC, 1ST, 1WO, 2GIVE, AAC, ABL, ABT, ABX, ABY, ABYSS, AC3, ACAT, ACE, ACM, ACT, ADA, ADB, ADC, ADH, ADI, ADST, ADT, ADX, AE, AEON, AGI, AID, AIDOC, AION, AIT, AIX, AKA, ALI, ALIS, ALX, AMB, AMLT, AMM, AMN, AMO, AMP, ANT, AOA, AOG, APH, APIS, APL, APPC, APR, ARC, ARCT, ARDR, ARG, ARK, ARN, ARO, ART, ARY, AST, ATB, ATCC, ATL, ATMI, ATN, AU, AUC, AUR, AURA, AUTO, AUX, AVA, AVT, AXPR, B2B, BANCA, BAT, BAX, BAY, BBC, BBK, BBN, BBO, BBP, BBR, BCA, BCAC, BCD, BCH, BCI, BCN, BCO, BCPT, BCY, BCZERO, BDG, BDT, BEE, BEET, BELA, BERRY, BETHER, BETR, BEZ, BFT, BHPC, BIR, BIS, BITB, BITCNY, BITG, BITUSD, BITX, BIX, BKX, BLK, BLOC, BLOCK, BLT, BLUE, BMC, BMX, BNB, BND, BNT, BNTY, BOB, BOE, BON, BOS, BOT, BOUTS, BOX, BOXX, BPT, BRD, BRK, BRM, BRZC, BSD, BSV, BTCP, BTCZ, BTG, BTK, BTM, BTN, BTO, BTS, BTT, BTX, BTXC, BUNNY, BURST, BWK, BWT, BWX, BZ, BZNT, C20, CAG, CANN, CAPP, CARD, CAS, CBC, CBT, CCCX, CCL, CCRB, CDM, CDT, CEEK, CENNZ, CFL, CFUN, CHAT, CHP, CHSB, CHX, CLAM, CLN, CLO, CLOAK, CMCT, CND, CNN, CNX, COB, COFI, COIN, COLX, COSM, COSS, COV, COVAL, CPC, CPLO, CPT, CPX, CREA, CREDO, CRPT, CRW, CS, CSC, CSNO, CST, CTC, CTXC, CURE, CV, CVC, CVN, CVT, CXO, CZR, D, DACS, DADI, DAG, DAGT, DAI, DAN, DAPS, DASH, DAT, DATA, DATX, DAV, DAX, DBC, DBET, DBIX, DCC, DCN, DCR, DCT, DDD, DEB, DEC, DENT, DERO, DEV, DEW, DGB, DGD, DGTX, DGX, DICE, DIG, DIM, DIME, DIN, DIVI, DIVX, DLT, DMD, DMT, DNA, DNT, DOCK, DOGE, DOPE, DOR, DPY, DRGN, DROP, DRT, DTA, DTB, DTH, DTR, DX, DXT, DYN, EBC, EBST, ECA, ECC, ECOM, ECOREAL, EDG, EDN, EDO, EDR, EDRC, EFX, EGC, EGEM, EGT, EKO, EKT, ELA, ELEC, ELF, ELIX, ELY, EMC, EMC2, ENG, ENJ, EOS, EOSDAC, EQL, EQT, ERO, ESN, ESP, ETA, ETC, ETHO, ETHOS, ETK, ETN, ETP, EUNO, EURS, EVC, EVE, EVN, EVR, EVX, EXCL, EXMR, EXP, EXRN, EXY, FACE, FAIR, FCT, FDZ, FLASH, FLDC, FLIXX, FLO, FLOT, FLP, FLUZ, FMF, FORK, FOTA, FOXT, FREC, FREE, FSN, FTC, FTI, FTM, FTT, FTX, FTXT, FUEL, FUN, FXT, GAM, GAME, GARD, GAS, GAT, GBC, GBX, GBYTE, GCR, GEM, GEN, GENE, GEO, GETX, GIC, GIN, GLA, GLD, GNO, GNR, GNT, GNX, GO, GOLOS, GRC, GRFT, GRS, GSC, GTC, GTM, GTO, GUP, GUSD, GVT, GXS, GZRO, HAV, HB, HBZ, HC, HELP, HER, HKN, HLC, HMQ, HOLD, HORUS, HOT, HPB, HPC, HQX, HSC, HST, HT, HTML, HUC, HUM, HUR, HVN, HWC, HXX, HYDRO, HYP, IC, ICN, ICR, ICX, IDH, IETH, IFOOD, IGNIS, IHT, IMT, INB, INCNT, IND, ING, INK, INO, INS, INSTAR, INT, INV, INVE, INXT, IOC, IOG, ION, IOP, IOST, IOTX, IPL, IPSX, IQ, IQN, ITC, IVY, J8T, JNT, JOT, JSE, KAN, KCASH, KCS, KICK, KIN, KLKS, KLN, KMD, KORE, KRB, KRL, KRM, KWATT, LA, LALA, LATX, LBA, LBC, LCC, LCS, LDC, LEDU, LEND, LEO, LET, LEV, LGO, LGS, LIF, LIFE, LIKE, LINA, LINDA, LINK, LINX, LKY, LND, LOBS, LOC, LOCI, LOG, LOKI, LOOM, LPC, LQD, LRC, LRN, LSK, LTC, LTHN, LUC, LUN, LUX, LXT, LYL, LYM, MAID, MAN, MANA, MAO, MAS, MCAP, MCO, MDA, MDS, MDT, MED, MEDIC, MEDX, MEME, MER, MET, META, METM, MFG, MFIT, MFT, MGD, MGO, MIB, MIOTA, MITH, MITX, MKR, MLC, MLM, MLN, MNP, MNTP, MNX, MOAC, MOBI, MOC, MOD, MOL, MONA, MONK, MORE, MOT, MRK, MRPH, MSP, MSR, MTC, MTH, MTL, MTN, MTX, MUE, MUSIC, MVC, MVL, MVP, MWAT, MYB, MYST, NANJ, NANO, NAS, NAV, NAVI, NBR, NCASH, NCC, NCT, NDC, NDX, NEBL, NEC, NEO, NEOS, NET, NEU, NEXO, NGC, NIM, NIO, NIX, NKC, NKN, NLC2, NLG, NLX, NMC, NMR, NOAH, NOTE, NPER, NPW, NPX, NPXS, NPXSXEM, NRG, NRVE, NSD, NTK, NTRN, NTY, NULS, NUSD, NVC, NXS, NXT, NYC, OAX, OCN, OCT, ODE, OK, OLE, OLT, OMG, OMNI, OMX, ONE, ONION, ONL, ONT, OOT, OPT, OPTI, ORME, OSA, OST, OTN, OWN, OXY, PAL, PARETO, PART, PASC, PAT, PAX, PAY, PAYX, PBL, PCH, PCL, PEDI, PENG, PEPECASH, PGT, PHR, PHX, PINK, PIRL, PIVX, PKT, PLAY, PLBT, PLR, PMA, PMNT, PND, PNK, POA, POE, POLIS, POLL, POLY, POT, POWR, PPC, PPT, PPY, PRA, PRE, PRIX, PRJ, PRO, PSM, PST, PTOY, PTT, PURA, PYLNT, PYN, PZM, QASH, QBIT, QCH, QKC, QLC, QNT, QNTU, QRL, QSP, QTUM, QUAN, QUN, QWARK, R, RADS, RATING, RBLX, RCN, RCT, RDD, RDN, REBL, REF, REM, REN, REP, REPO, REQ, RET, RFR, RHOC, RISE, RLC, RLX, RMESH, RMT, RNT, RNTB, ROCK2, ROX, RPD, RPM, RSTR, RTE, RTH, RUFF, RUP, RVN, RVR, RVT, RYO, S, SAFEX, SALT, SAN, SBD, SC, SCR, SCRIV, SCRL, SCT, SDA, SEELE, SEM, SEN, SENC, SEND, SENSE, SENT, SHARD, SHB, SHIFT, SHND, SHP, SIB, SIC, SINS, SIX, SKB, SKIN, SKM, SKY, SLR, SLS, SMART, SMT, SNC, SND, SNET, SNGLS, SNM, SNOV, SNT, SNTR, SOC, SOUL, SPANK, SPC, SPD, SPF, SPHR, SPHTX, SPRTS, SPX, SRCOIN, SRN, SS, SSC, SSP, STAR, STEEM, STK, STORJ, STORM, STQ, STRAT, STU, STX, SUB, SUMO, SUQA, SVD, SWFTC, SWM, SWT, SWTH, SXDT, SXUT, SYNX, SYS, TAAS, TAC, TAU, TBX, TCC, TCT, TDP, TEL, TEN, TERN, TFD, TFL, TGAME, THC, THETA, THR, THRT, TIC, TIME, TIX, TKN, TKY, TMC, TMT, TNB, TNC, TNS, TNT, TOA, TOL, TOLL, TOMO, TPAY, TRAC, TRAK, TRC, TRF, TRIO, TRST, TRTL, TRTT, TRUE, TRX, TRXC, TSL, TTT, TTU, TTV, TUBE, TUSD, TX, UBEX, UBQ, UBT, UCASH, UCN, UDOO, UFR, UGC, UKG, UNIT, UNO, UP, UPP, UQC, USDC, USDT, USNBT, UT, UTK, UTNP, UTT, UUU, VEE, VERI, VET, VEX, VIA, VIB, VIBE, VIN, VIPS, VITAE, VITE, VITES, VLD, VME, VRC, VRS, VTC, WAB, WABI, WAN, WAND, WAVES, WAX, WEB, WET, WGR, WHL, WICC, WINGS, WIRE, WISH, WIX, WPR, WRC, WSD, WSX, WTC, WTL, WWB, X8X, XAP, XAS, XAUR, XBC, XBI, XBP, XBY, XCASH, XCEL, XCLR, XCP, XDCE, XDN, XDNA, XEL, XEM, XET, XGS, XHI, XHV, XIN, XLM, XLQ, XLR, XMCC, XMCT, XMR, XMX, XMY, XNK, XP, XPM, XPX, XRL, XRP, XSG, XSH, XSN, XSPEC, XTL, XTO, XTZ, XVG, XWC, XYO, XZC, YEE, YEED, YOC, YOYOW, ZAP, ZCL, ZCN, ZCO, ZCR, ZEC, ZEL, ZEN, ZER, ZIL, ZIP, ZIPT, ZLA, ZMN, ZP, ZPR, ZPT, ZRC, ZRX, ZSC, ZXC\n",
      "\n",
      "🟢 Cluster 1 (1 coins):\n",
      "NANOX\n",
      "\n",
      "🟢 Cluster 2 (993 coins):\n",
      "$$$, 1337, 2GO, 300, 42, 611, 808, 8BIT, AAA, ABBC, ABC, ABDT, ABS, AC, ACC, ACDC, ACED, ACES, ACOIN, ACP, ACRE, ACTP, ADCN, ADK, ADL, ADZ, AEC, AEG, AGLT, AI, AIB, ALC, ALL, ALT, ALTX, AMMO, AMS, ANC, ANI, ANON, APC, APOT, APX, ARB, ARCO, AREPA, ARGUS, ARI, ARION, ASA, ASAFE2, AT, ATC, ATD, ATH, ATM, ATMOS, ATOM, ATP, ATS, ATX, AV, AVH, AVINOC, AXIOM, AZART, B2X, B@, BAAS, BANK, BBS, BC, BCARD, BCDN, BCDT, BCF, BCV, BCX, BDL, BEAT, BEN, BENJI, BENZ, BERN, BET, BFF, BGG, BIFI, BIGUP, BIO, BIRDS, BIT, BITBTC, BITCF, BITEUR, BITF, BITGOLD, BITS, BITSILVER, BKBT, BLACK, BLAST, BLAZR, BLC, BLN, BLU, BLZ, BMH, BNC, BNK, BNN, BOAT, BOC, BOLI, BOST, BPL, BQ, BQT, BRAT, BRIA, BRIT, BRO, BRX, BSC, BSM, BSN, BSTN, BSTY, BSX, BTA, BTAD, BTB, BTBC, BTCM, BTCN, BTCONE, BTCRED, BTCS, BTDX, BTNT, BTPL, BTQ, BTR, BTRN, BTW, BU, BUB, BUBO, BUMBA, BUN, BUT, BUZZ, BWS, BZL, BZX, C2, C2C, C2P, C8, CAB, CAN, CANDY, CAR, CARAT, CARBON, CARE, CASH, CAT, CATO, CAZ, CBX, CCC, CCO, CCT, CDC, CDN, CDX, CEDEX, CEFS, CEL, CEN, CET, CF, CFC, CFI, CGEN, CHE, CHEESE, CHESS, CHEX, CHIPS, CIF, CIT, CIV, CJ, CJS, CJT, CKUSD, CL, CLUB, CMIT, CMM, CMPCO, CMS, CMT, CNET, CNNC, CNO, CNT, COAL, COBRA, COMP, CONI, CONX, COR, COTN, COU, COUPE, CPAY, CPN, CPY, CRAVE, CRB, CRBT, CRC, CRD, CRE, CRED, CREVA, CRM, CROAT, CROP, CRYP, CSM, CSTL, CTIC2, CTIC3, CTL, CTRT, CTX, CWV, CXT, CYFM, CYL, CYMT, DAC, DACC, DACH, DALC, DAR, DART, DASC, DATP, DAXT, DAXX, DAY, DCY, DDX, DEAL, DEEX, DELIZ, DELTA, DEM, DEUS, DEX, DFT, DGC, DGS, DIT, DIX, DKPC, DLC, DMB, DMC, DML, DNZ, DOLLAR, DOT, DOV, DOW, DP, DPN, DRG, DRM, DRPU, DRXNE, DSR, DT, DTC, DTEM, DTRC, DTX, DUO, DUTCH, DWS, EAG, EARTH, EBET, EBTC, ECASH, ECO, ECOB, ECT, EDS, EDT, EDU, EFL, EFYT, EGCC, EGX, EJOY, EL, ELE, ELI, ELITE, ELLA, ELLI, ELS, ELTCOIN, EMB, EMD, EMPR, ENGT, ENT, ENTS, EPLUS, EPY, ERA, ERC20, ERT, ERY, ESCE, ESCO, ESS, EST, ESZ, ETBS, ETG, ETHD, ETHM, ETI, ETT, ETZ, EUC, EVI, EVIL, EXC, EXT, EZT, EZW, F1C, FANS, FBN, FDX, FGC, FID, FIL, FJC, FKX, FLAX, FLIK, FLM, FLT, FND, FNKOS, FNTB, FOIN, FOOD, FOR, FOX, FRC, FRGC, FRN, FRST, FSBT, FST, FT, FTO, FUNDZ, FUZZ, FYP, GAP, GARY, GB, GBG, GCC, GCN, GCS, GDC, GEERT, GET, GIO, GLT, GMCN, GOD, GOLF, GOOD, GOSS, GOT, GPKR, GRID, GRIM, GRLC, GRMD, GRPH, GRWI, GRX, GSE, GSR, GST, GUESS, GVE, GZE, HAC, HAL, HALLO, HAND, HAVY, HBC, HBT, HDAC, HEAT, HERO, HGT, HIRE, HIT, HLM, HMC, HNC, HNDC, HODL, HONEY, HORSE, HPY, HQT, HRC, HSN, HTH, HUSH, HUZU, HVCO, HYB, HYC, I0C, IBANK, IBTC, ICNQ, ICOB, ICON, ICOO, IDOL, IDT, IDXM, IFC, IFLT, IFP, IFT, IG, IHF, IIC, ILC, IMP, IMS, IMX, INC, INCO, INCX, INDI, INFX, INN, INSN, INSUR, IONC, IOV, IPC, IQT, IRD, IRL, ISR, ITI, ITL, ITT, ITZ, IXC, IXE, IXT, J, JC, JET, JEW, JIN, JIYO, JIYOX, JOINT, JS, KARMA, KB3, KBC, KBR, KED, KEK, KEY, KIND, KNC, KNDC, KNOW, KNT, KOBO, KRONE, KST, KUN, KURT, KWH, KXC, KZC, LABH, LANA, LBTC, LCP, LDOGE, LEMO, LFT, LIGHT, LION, LIVE, LKK, LMC, LNC, LST, LSTR, LTB, LTCR, LTCU, LUNA, LWF, LYNX, MAG, MAGE, MAGN, MANNA, MAR, MARS, MASH, MAX, MAY, MBC, MBI, MBRS, MCC, MCI, MCRN, MCT, MEC, MEDIBIT, MEET, MEETONE, MERO, MESSE, MEX, MFTU, MGM, MIC, MICRO, MILO, MINEX, MINT, MIR, MMO, MNC, MNE, MODX, MOF, MOIN, MOJO, MOLK, MOON, MOTO, MRI, MRQ, MRT, MSCN, MSD, MST, MT, MTNC, MTRC, MXM, MXT, NAM, NBAI, NBC, NCP, NEOG, NER, NETKO, NEVA, NEWOS, NKA, NMS, NOBL, NOBS, NOKU, NOR, NOX, NRO, NRP, NSR, NTO, NUG, NUKO, NXC, NYAN, NYEX, OBITS, OBT, OBTC, OBX, OC, OCC, OCL, ODN, OF, OLMP, OMEN, ONG, ONX, OPAL, OPC, OPCX, OPEN, ORB, ORE, ORI, ORS, OTB, OUR, PAI, PAK, PASL, PASS, PAWS, PAXEX, PBT, PC, PCN, PCO, PCOIN, PCS, PDX, PEX, PFR, PGN, PHI, PHO, PHON, PIGGY, PING, PIPL, PIX, PKB, PKC, PKG, PLACO, PLAN, PLC, PLNC, PLU, PLURA, PLUS1, PLX, PLY, PNDM, PNT, PNX, PNY, PONZI, POP, POS, POSS, POST, POSW, PPP, PRC, PRES, PRG, PRIV, PRL, PROC, PROUD, PRS, PRTX, PSC, PTC, PTN, PTS, PUREX, PUT, PWR, PXC, PXI, PYX, Q2C, QAC, QBC, QBIC, QBT, QNO, QRK, QTL, QUBE, QURO, QVT, RAGNA, RAIN, RBBT, RBIES, RBMC, RBT, RBY, RC, RCD, RDC, READ, REAL, REC, RED, REX, RGS, RIYA, RKC, RKT, RLT, RMC, RNS, ROBET, ROCK, RPC, RPI, RPL, RRC, RTB, RUNNERS, RUPX, SAC, SAGA, SAKE, SAL, SANDG, SBTC, SCC, SCL, SCRT, SCS, SDRN, SDS, SEAL, SEER, SEQ, SETH, SEXC, SGN, SGP, SGR, SHADE, SHDW, SHE, SHIP, SHOW, SHPING, SIG, SIGMA, SIGT, SIM, SJCX, SJW, SKC, SKR, SLT, SMC, SMLY, SMOKE, SMQ, SMS, SNIP, SNO, SNR, SNRG, SOAR, SOCC, SOIL, SOL, SONG, SONIQ, SONO, SOON, SOP, SPK, SPN, SPND, SPR, SRC, SSS, STA, STAC, STACS, STAK, START, STC, STEX, STN, STR, SUBX, SUP, SUPER, SUR, SURE, SWING, SWTC, SZC, TAG, TAJ, TALAO, TALK, TCH, TCN, TDC, TDS, TDX, TEAM, TEK, TELL, TELOS, TER, TES, TESLA, TGT, TIE, TIG, TIPS, TIT, TKA, TKR, TKS, TKT, TMTG, TOK, TOKC, TOPC, TOS, TOTO, TRAID, TRCT, TRDT, TRI, TRK, TROLL, TRUMP, TSC, TTC, TV, TWIST, TYPE, TZC, UBC, UBTC, UC, UCT, UFO, UIP, UIS, UNI, UNIFY, UNRC, URALS, USC, USE, UST, UTC, V, VCT, VDG, VEC2, VEST, VIDZ, VIKKY, VIT, VIU, VIVID, VIVO, VLC, VLT, VLU, VNX, VOCO, VOISE, VOLT, VOT, VPRC, VRM, VSC, VSL, VSTR, VSX, VTA, VTHO, VULC, VZT, W3C, WA, WAGE, WBB, WBL, WC, WCT, WDC, WELL, WETH, WGO, WIC, WIKI, WILD, WIN, WINK, WIT, WIZ, WOMEN, WSP, WT, WTN, WXC, WYS, X12, XBL, XBTC21, XCD, XCG, XCN, XCO, XCT, XCXT, XES, XG, XGOX, XID, XIND, XJO, XLC, XMC, XMG, XMO, XNN, XNV, XOT, XOV, XPA, XPAT, XPD, XPTX, XPY, XQN, XRA, XRE, XRH, XRT, XSD, XST, XSTC, XTRD, XUC, XUN, XXX, YCC, YLC, YOU, YTN, YUKI, YUP, ZB, ZBA, ZEIT, ZENGOLD, ZENI, ZEPH, ZEST, ZET, ZEUS, ZINC, ZNT, ZNY, ZT, ZUR, ZYD, ZZC\n",
      "\n",
      "🟢 Cluster 3 (1 coins):\n",
      "BTWTY\n",
      "\n",
      "🟢 Cluster 4 (2 coins):\n",
      "BTC, ETH\n"
     ]
    }
   ],
   "source": [
    "clustered_df = pd.DataFrame({\n",
    "    'symbol': feature_df.index, \n",
    "    'cluster': clusters\n",
    "})\n",
    "\n",
    "for cluster_id in sorted(clustered_df['cluster'].unique()):\n",
    "    group = clustered_df[clustered_df['cluster'] == cluster_id]\n",
    "    symbols = group['symbol'].tolist()\n",
    "    print(f\"\\n🟢 Cluster {cluster_id} ({len(symbols)} coins):\")\n",
    "    print(\", \".join(symbols))"
   ]
  },
  {
   "cell_type": "code",
   "execution_count": null,
   "id": "6b5eac16",
   "metadata": {},
   "outputs": [],
   "source": []
  }
 ],
 "metadata": {
  "kernelspec": {
   "display_name": "dsi_participant",
   "language": "python",
   "name": "python3"
  },
  "language_info": {
   "codemirror_mode": {
    "name": "ipython",
    "version": 3
   },
   "file_extension": ".py",
   "mimetype": "text/x-python",
   "name": "python",
   "nbconvert_exporter": "python",
   "pygments_lexer": "ipython3",
   "version": "3.9.7"
  }
 },
 "nbformat": 4,
 "nbformat_minor": 5
}
