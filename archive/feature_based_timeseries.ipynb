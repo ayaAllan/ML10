{
 "cells": [
  {
   "cell_type": "code",
   "execution_count": 18,
   "id": "320a2a72",
   "metadata": {},
   "outputs": [],
   "source": [
    "import pandas as pd\n",
    "import numpy as np\n",
    "from sklearn.preprocessing import StandardScaler\n",
    "from sklearn.cluster import KMeans\n",
    "from sklearn.decomposition import PCA\n",
    "import matplotlib.pyplot as plt"
   ]
  },
  {
   "cell_type": "code",
   "execution_count": 19,
   "id": "4d5447ca",
   "metadata": {},
   "outputs": [
    {
     "name": "stdout",
     "output_type": "stream",
     "text": [
      "Removed 7 coins with low liquidity.\n"
     ]
    },
    {
     "data": {
      "text/plain": [
       "False"
      ]
     },
     "execution_count": 19,
     "metadata": {},
     "output_type": "execute_result"
    }
   ],
   "source": [
    "df = pd.read_csv('../data/crypto-markets.csv')\n",
    "\n",
    "df = df.drop(columns=['slug'])\n",
    "df['date'] = pd.to_datetime(df['date'])\n",
    "# min_date = df['date'].min()\n",
    "# max_date = df['date'].max()\n",
    "df = df.sort_values(['symbol', 'date'])\n",
    "\n",
    "# df['log_volume'] = np.log1p(df['volume'])\n",
    "df['log_market'] = np.log1p(df['market'])\n",
    "df.drop(columns=['market'], inplace=True)\n",
    "\n",
    "coin_ranges = df.groupby('symbol')['date'].agg(['min', 'max']).reset_index()\n",
    "coin_ranges.head\n",
    "\n",
    "zero_volume_ratio = df.groupby('symbol')['volume'].apply(lambda x: (x == 0).mean())\n",
    "threshold = 0.5\n",
    "low_liquidity_coins = zero_volume_ratio[zero_volume_ratio > threshold].index\n",
    "filtered_df = df[~df['symbol'].isin(low_liquidity_coins)]\n",
    "\n",
    "print(f\"Removed {len(low_liquidity_coins)} coins with low liquidity.\")\n",
    "\n",
    "# df.replace(['null', 'NULL', 'N/A', '', 'unknown'], np.nan, inplace=True)\n",
    "df.isnull().values.any()\n"
   ]
  },
  {
   "cell_type": "code",
   "execution_count": 20,
   "id": "0d419312",
   "metadata": {},
   "outputs": [
    {
     "name": "stderr",
     "output_type": "stream",
     "text": [
      "/var/folders/0n/kwcts2ks32n5v8884446s1j40000gn/T/ipykernel_61943/3523200896.py:15: FutureWarning: DataFrameGroupBy.apply operated on the grouping columns. This behavior is deprecated, and in a future version of pandas the grouping columns will be excluded from the operation. Either pass `include_groups=False` to exclude the groupings or explicitly select the grouping columns after groupby to silence this warning.\n",
      "  feature_df = df.groupby('symbol').apply(extract_coin_features).dropna()\n"
     ]
    },
    {
     "data": {
      "text/html": [
       "<div>\n",
       "<style scoped>\n",
       "    .dataframe tbody tr th:only-of-type {\n",
       "        vertical-align: middle;\n",
       "    }\n",
       "\n",
       "    .dataframe tbody tr th {\n",
       "        vertical-align: top;\n",
       "    }\n",
       "\n",
       "    .dataframe thead th {\n",
       "        text-align: right;\n",
       "    }\n",
       "</style>\n",
       "<table border=\"1\" class=\"dataframe\">\n",
       "  <thead>\n",
       "    <tr style=\"text-align: right;\">\n",
       "      <th></th>\n",
       "      <th>ranknow_mean</th>\n",
       "      <th>ranknow_std</th>\n",
       "      <th>ranknow_min</th>\n",
       "      <th>ranknow_max</th>\n",
       "      <th>ranknow_trend</th>\n",
       "      <th>open_mean</th>\n",
       "      <th>open_std</th>\n",
       "      <th>open_min</th>\n",
       "      <th>open_max</th>\n",
       "      <th>open_trend</th>\n",
       "      <th>...</th>\n",
       "      <th>spread_mean</th>\n",
       "      <th>spread_std</th>\n",
       "      <th>spread_min</th>\n",
       "      <th>spread_max</th>\n",
       "      <th>spread_trend</th>\n",
       "      <th>log_market_mean</th>\n",
       "      <th>log_market_std</th>\n",
       "      <th>log_market_min</th>\n",
       "      <th>log_market_max</th>\n",
       "      <th>log_market_trend</th>\n",
       "    </tr>\n",
       "    <tr>\n",
       "      <th>symbol</th>\n",
       "      <th></th>\n",
       "      <th></th>\n",
       "      <th></th>\n",
       "      <th></th>\n",
       "      <th></th>\n",
       "      <th></th>\n",
       "      <th></th>\n",
       "      <th></th>\n",
       "      <th></th>\n",
       "      <th></th>\n",
       "      <th></th>\n",
       "      <th></th>\n",
       "      <th></th>\n",
       "      <th></th>\n",
       "      <th></th>\n",
       "      <th></th>\n",
       "      <th></th>\n",
       "      <th></th>\n",
       "      <th></th>\n",
       "      <th></th>\n",
       "      <th></th>\n",
       "    </tr>\n",
       "  </thead>\n",
       "  <tbody>\n",
       "    <tr>\n",
       "      <th>$$$</th>\n",
       "      <td>1634.0</td>\n",
       "      <td>0.0</td>\n",
       "      <td>1634.0</td>\n",
       "      <td>1634.0</td>\n",
       "      <td>1.017259e-15</td>\n",
       "      <td>0.000976</td>\n",
       "      <td>0.001649</td>\n",
       "      <td>5.000000e-06</td>\n",
       "      <td>0.017379</td>\n",
       "      <td>2.548267e-06</td>\n",
       "      <td>...</td>\n",
       "      <td>0.000036</td>\n",
       "      <td>0.000601</td>\n",
       "      <td>0.00</td>\n",
       "      <td>0.01</td>\n",
       "      <td>8.227026e-08</td>\n",
       "      <td>8.815137</td>\n",
       "      <td>2.658548</td>\n",
       "      <td>0.000000</td>\n",
       "      <td>13.587910</td>\n",
       "      <td>0.007016</td>\n",
       "    </tr>\n",
       "    <tr>\n",
       "      <th>$PAC</th>\n",
       "      <td>419.0</td>\n",
       "      <td>0.0</td>\n",
       "      <td>419.0</td>\n",
       "      <td>419.0</td>\n",
       "      <td>-8.666773e-16</td>\n",
       "      <td>0.001041</td>\n",
       "      <td>0.002181</td>\n",
       "      <td>2.500000e-09</td>\n",
       "      <td>0.016133</td>\n",
       "      <td>3.908197e-06</td>\n",
       "      <td>...</td>\n",
       "      <td>0.000000</td>\n",
       "      <td>0.000000</td>\n",
       "      <td>0.00</td>\n",
       "      <td>0.00</td>\n",
       "      <td>0.000000e+00</td>\n",
       "      <td>5.017080</td>\n",
       "      <td>7.705440</td>\n",
       "      <td>0.000000</td>\n",
       "      <td>20.388653</td>\n",
       "      <td>0.018320</td>\n",
       "    </tr>\n",
       "    <tr>\n",
       "      <th>0XBTC</th>\n",
       "      <td>706.0</td>\n",
       "      <td>0.0</td>\n",
       "      <td>706.0</td>\n",
       "      <td>706.0</td>\n",
       "      <td>-2.062632e-15</td>\n",
       "      <td>0.758279</td>\n",
       "      <td>0.583010</td>\n",
       "      <td>2.617410e-01</td>\n",
       "      <td>4.230000</td>\n",
       "      <td>-7.844581e-03</td>\n",
       "      <td>...</td>\n",
       "      <td>0.181117</td>\n",
       "      <td>0.251914</td>\n",
       "      <td>0.03</td>\n",
       "      <td>2.14</td>\n",
       "      <td>-2.483774e-03</td>\n",
       "      <td>13.680182</td>\n",
       "      <td>3.181086</td>\n",
       "      <td>0.000000</td>\n",
       "      <td>15.653049</td>\n",
       "      <td>0.017491</td>\n",
       "    </tr>\n",
       "    <tr>\n",
       "      <th>1337</th>\n",
       "      <td>1251.0</td>\n",
       "      <td>0.0</td>\n",
       "      <td>1251.0</td>\n",
       "      <td>1251.0</td>\n",
       "      <td>1.155274e-15</td>\n",
       "      <td>0.000075</td>\n",
       "      <td>0.000114</td>\n",
       "      <td>6.500000e-07</td>\n",
       "      <td>0.001085</td>\n",
       "      <td>1.387695e-07</td>\n",
       "      <td>...</td>\n",
       "      <td>0.000000</td>\n",
       "      <td>0.000000</td>\n",
       "      <td>0.00</td>\n",
       "      <td>0.00</td>\n",
       "      <td>0.000000e+00</td>\n",
       "      <td>11.992352</td>\n",
       "      <td>2.967336</td>\n",
       "      <td>0.000000</td>\n",
       "      <td>17.096907</td>\n",
       "      <td>0.007527</td>\n",
       "    </tr>\n",
       "    <tr>\n",
       "      <th>1ST</th>\n",
       "      <td>498.0</td>\n",
       "      <td>0.0</td>\n",
       "      <td>498.0</td>\n",
       "      <td>498.0</td>\n",
       "      <td>4.375284e-16</td>\n",
       "      <td>0.360271</td>\n",
       "      <td>0.396487</td>\n",
       "      <td>3.207100e-02</td>\n",
       "      <td>2.730000</td>\n",
       "      <td>-1.264999e-04</td>\n",
       "      <td>...</td>\n",
       "      <td>0.067011</td>\n",
       "      <td>0.126574</td>\n",
       "      <td>0.00</td>\n",
       "      <td>1.84</td>\n",
       "      <td>-3.032604e-05</td>\n",
       "      <td>14.683922</td>\n",
       "      <td>5.779979</td>\n",
       "      <td>0.000000</td>\n",
       "      <td>19.276841</td>\n",
       "      <td>0.013363</td>\n",
       "    </tr>\n",
       "    <tr>\n",
       "      <th>...</th>\n",
       "      <td>...</td>\n",
       "      <td>...</td>\n",
       "      <td>...</td>\n",
       "      <td>...</td>\n",
       "      <td>...</td>\n",
       "      <td>...</td>\n",
       "      <td>...</td>\n",
       "      <td>...</td>\n",
       "      <td>...</td>\n",
       "      <td>...</td>\n",
       "      <td>...</td>\n",
       "      <td>...</td>\n",
       "      <td>...</td>\n",
       "      <td>...</td>\n",
       "      <td>...</td>\n",
       "      <td>...</td>\n",
       "      <td>...</td>\n",
       "      <td>...</td>\n",
       "      <td>...</td>\n",
       "      <td>...</td>\n",
       "      <td>...</td>\n",
       "    </tr>\n",
       "    <tr>\n",
       "      <th>ZT</th>\n",
       "      <td>2065.0</td>\n",
       "      <td>0.0</td>\n",
       "      <td>2065.0</td>\n",
       "      <td>2065.0</td>\n",
       "      <td>-6.612451e-14</td>\n",
       "      <td>0.100920</td>\n",
       "      <td>0.014361</td>\n",
       "      <td>7.351200e-02</td>\n",
       "      <td>0.127372</td>\n",
       "      <td>-1.117907e-03</td>\n",
       "      <td>...</td>\n",
       "      <td>0.010263</td>\n",
       "      <td>0.004925</td>\n",
       "      <td>0.00</td>\n",
       "      <td>0.02</td>\n",
       "      <td>-1.422475e-05</td>\n",
       "      <td>0.000000</td>\n",
       "      <td>0.000000</td>\n",
       "      <td>0.000000</td>\n",
       "      <td>0.000000</td>\n",
       "      <td>0.000000</td>\n",
       "    </tr>\n",
       "    <tr>\n",
       "      <th>ZUR</th>\n",
       "      <td>1596.0</td>\n",
       "      <td>0.0</td>\n",
       "      <td>1596.0</td>\n",
       "      <td>1596.0</td>\n",
       "      <td>1.185062e-16</td>\n",
       "      <td>0.001341</td>\n",
       "      <td>0.002008</td>\n",
       "      <td>1.200000e-05</td>\n",
       "      <td>0.020219</td>\n",
       "      <td>2.682945e-06</td>\n",
       "      <td>...</td>\n",
       "      <td>0.000188</td>\n",
       "      <td>0.001741</td>\n",
       "      <td>0.00</td>\n",
       "      <td>0.03</td>\n",
       "      <td>2.921763e-08</td>\n",
       "      <td>10.436853</td>\n",
       "      <td>1.844675</td>\n",
       "      <td>6.684612</td>\n",
       "      <td>14.380406</td>\n",
       "      <td>0.005899</td>\n",
       "    </tr>\n",
       "    <tr>\n",
       "      <th>ZXC</th>\n",
       "      <td>1034.0</td>\n",
       "      <td>0.0</td>\n",
       "      <td>1034.0</td>\n",
       "      <td>1034.0</td>\n",
       "      <td>-4.955544e-15</td>\n",
       "      <td>0.011653</td>\n",
       "      <td>0.010145</td>\n",
       "      <td>1.905000e-03</td>\n",
       "      <td>0.039791</td>\n",
       "      <td>-2.092171e-04</td>\n",
       "      <td>...</td>\n",
       "      <td>0.000638</td>\n",
       "      <td>0.002453</td>\n",
       "      <td>0.00</td>\n",
       "      <td>0.01</td>\n",
       "      <td>-2.084850e-05</td>\n",
       "      <td>11.318317</td>\n",
       "      <td>5.038921</td>\n",
       "      <td>0.000000</td>\n",
       "      <td>14.722284</td>\n",
       "      <td>0.069892</td>\n",
       "    </tr>\n",
       "    <tr>\n",
       "      <th>ZYD</th>\n",
       "      <td>1662.0</td>\n",
       "      <td>0.0</td>\n",
       "      <td>1662.0</td>\n",
       "      <td>1662.0</td>\n",
       "      <td>5.704900e-15</td>\n",
       "      <td>0.006759</td>\n",
       "      <td>0.003499</td>\n",
       "      <td>8.930000e-04</td>\n",
       "      <td>0.021010</td>\n",
       "      <td>-1.358107e-06</td>\n",
       "      <td>...</td>\n",
       "      <td>0.000722</td>\n",
       "      <td>0.002589</td>\n",
       "      <td>0.00</td>\n",
       "      <td>0.01</td>\n",
       "      <td>-2.311466e-06</td>\n",
       "      <td>10.330837</td>\n",
       "      <td>0.813420</td>\n",
       "      <td>7.308543</td>\n",
       "      <td>11.703628</td>\n",
       "      <td>0.001296</td>\n",
       "    </tr>\n",
       "    <tr>\n",
       "      <th>ZZC</th>\n",
       "      <td>1541.0</td>\n",
       "      <td>0.0</td>\n",
       "      <td>1541.0</td>\n",
       "      <td>1541.0</td>\n",
       "      <td>-1.777828e-15</td>\n",
       "      <td>0.535608</td>\n",
       "      <td>0.664326</td>\n",
       "      <td>1.585900e-02</td>\n",
       "      <td>3.400000</td>\n",
       "      <td>-5.042573e-03</td>\n",
       "      <td>...</td>\n",
       "      <td>0.225165</td>\n",
       "      <td>0.413300</td>\n",
       "      <td>0.00</td>\n",
       "      <td>3.07</td>\n",
       "      <td>-1.282797e-03</td>\n",
       "      <td>11.840930</td>\n",
       "      <td>2.688281</td>\n",
       "      <td>0.000000</td>\n",
       "      <td>15.152393</td>\n",
       "      <td>0.003484</td>\n",
       "    </tr>\n",
       "  </tbody>\n",
       "</table>\n",
       "<p>2005 rows × 45 columns</p>\n",
       "</div>"
      ],
      "text/plain": [
       "        ranknow_mean  ranknow_std  ranknow_min  ranknow_max  ranknow_trend  \\\n",
       "symbol                                                                       \n",
       "$$$           1634.0          0.0       1634.0       1634.0   1.017259e-15   \n",
       "$PAC           419.0          0.0        419.0        419.0  -8.666773e-16   \n",
       "0XBTC          706.0          0.0        706.0        706.0  -2.062632e-15   \n",
       "1337          1251.0          0.0       1251.0       1251.0   1.155274e-15   \n",
       "1ST            498.0          0.0        498.0        498.0   4.375284e-16   \n",
       "...              ...          ...          ...          ...            ...   \n",
       "ZT            2065.0          0.0       2065.0       2065.0  -6.612451e-14   \n",
       "ZUR           1596.0          0.0       1596.0       1596.0   1.185062e-16   \n",
       "ZXC           1034.0          0.0       1034.0       1034.0  -4.955544e-15   \n",
       "ZYD           1662.0          0.0       1662.0       1662.0   5.704900e-15   \n",
       "ZZC           1541.0          0.0       1541.0       1541.0  -1.777828e-15   \n",
       "\n",
       "        open_mean  open_std      open_min  open_max    open_trend  ...  \\\n",
       "symbol                                                             ...   \n",
       "$$$      0.000976  0.001649  5.000000e-06  0.017379  2.548267e-06  ...   \n",
       "$PAC     0.001041  0.002181  2.500000e-09  0.016133  3.908197e-06  ...   \n",
       "0XBTC    0.758279  0.583010  2.617410e-01  4.230000 -7.844581e-03  ...   \n",
       "1337     0.000075  0.000114  6.500000e-07  0.001085  1.387695e-07  ...   \n",
       "1ST      0.360271  0.396487  3.207100e-02  2.730000 -1.264999e-04  ...   \n",
       "...           ...       ...           ...       ...           ...  ...   \n",
       "ZT       0.100920  0.014361  7.351200e-02  0.127372 -1.117907e-03  ...   \n",
       "ZUR      0.001341  0.002008  1.200000e-05  0.020219  2.682945e-06  ...   \n",
       "ZXC      0.011653  0.010145  1.905000e-03  0.039791 -2.092171e-04  ...   \n",
       "ZYD      0.006759  0.003499  8.930000e-04  0.021010 -1.358107e-06  ...   \n",
       "ZZC      0.535608  0.664326  1.585900e-02  3.400000 -5.042573e-03  ...   \n",
       "\n",
       "        spread_mean  spread_std  spread_min  spread_max  spread_trend  \\\n",
       "symbol                                                                  \n",
       "$$$        0.000036    0.000601        0.00        0.01  8.227026e-08   \n",
       "$PAC       0.000000    0.000000        0.00        0.00  0.000000e+00   \n",
       "0XBTC      0.181117    0.251914        0.03        2.14 -2.483774e-03   \n",
       "1337       0.000000    0.000000        0.00        0.00  0.000000e+00   \n",
       "1ST        0.067011    0.126574        0.00        1.84 -3.032604e-05   \n",
       "...             ...         ...         ...         ...           ...   \n",
       "ZT         0.010263    0.004925        0.00        0.02 -1.422475e-05   \n",
       "ZUR        0.000188    0.001741        0.00        0.03  2.921763e-08   \n",
       "ZXC        0.000638    0.002453        0.00        0.01 -2.084850e-05   \n",
       "ZYD        0.000722    0.002589        0.00        0.01 -2.311466e-06   \n",
       "ZZC        0.225165    0.413300        0.00        3.07 -1.282797e-03   \n",
       "\n",
       "        log_market_mean  log_market_std  log_market_min  log_market_max  \\\n",
       "symbol                                                                    \n",
       "$$$            8.815137        2.658548        0.000000       13.587910   \n",
       "$PAC           5.017080        7.705440        0.000000       20.388653   \n",
       "0XBTC         13.680182        3.181086        0.000000       15.653049   \n",
       "1337          11.992352        2.967336        0.000000       17.096907   \n",
       "1ST           14.683922        5.779979        0.000000       19.276841   \n",
       "...                 ...             ...             ...             ...   \n",
       "ZT             0.000000        0.000000        0.000000        0.000000   \n",
       "ZUR           10.436853        1.844675        6.684612       14.380406   \n",
       "ZXC           11.318317        5.038921        0.000000       14.722284   \n",
       "ZYD           10.330837        0.813420        7.308543       11.703628   \n",
       "ZZC           11.840930        2.688281        0.000000       15.152393   \n",
       "\n",
       "        log_market_trend  \n",
       "symbol                    \n",
       "$$$             0.007016  \n",
       "$PAC            0.018320  \n",
       "0XBTC           0.017491  \n",
       "1337            0.007527  \n",
       "1ST             0.013363  \n",
       "...                  ...  \n",
       "ZT              0.000000  \n",
       "ZUR             0.005899  \n",
       "ZXC             0.069892  \n",
       "ZYD             0.001296  \n",
       "ZZC             0.003484  \n",
       "\n",
       "[2005 rows x 45 columns]"
      ]
     },
     "execution_count": 20,
     "metadata": {},
     "output_type": "execute_result"
    }
   ],
   "source": [
    "# Extract time-series summary features per df numeric feature per coin\n",
    "numeric_cols = df.select_dtypes(include=[np.number]).columns.tolist()\n",
    "\n",
    "def extract_coin_features(group):\n",
    "    features = {}\n",
    "    for col in numeric_cols:\n",
    "        series = group[col]\n",
    "        features[f'{col}_mean'] = series.mean()\n",
    "        features[f'{col}_std'] = series.std()\n",
    "        features[f'{col}_min'] = series.min()\n",
    "        features[f'{col}_max'] = series.max()\n",
    "        features[f'{col}_trend'] = np.polyfit(range(len(series)), series, deg=1)[0] if len(series) > 1 else 0\n",
    "    return pd.Series(features)\n",
    "\n",
    "feature_df = df.groupby('symbol').apply(extract_coin_features).dropna()\n",
    "feature_df"
   ]
  },
  {
   "cell_type": "code",
   "execution_count": 21,
   "id": "489eafb7",
   "metadata": {},
   "outputs": [
    {
     "name": "stderr",
     "output_type": "stream",
     "text": [
      "/opt/miniconda3/envs/dsi_participant/lib/python3.9/site-packages/sklearn/cluster/_kmeans.py:870: FutureWarning: The default value of `n_init` will change from 10 to 'auto' in 1.4. Set the value of `n_init` explicitly to suppress the warning\n",
      "  warnings.warn(\n",
      "/opt/miniconda3/envs/dsi_participant/lib/python3.9/site-packages/sklearn/cluster/_kmeans.py:870: FutureWarning: The default value of `n_init` will change from 10 to 'auto' in 1.4. Set the value of `n_init` explicitly to suppress the warning\n",
      "  warnings.warn(\n",
      "/opt/miniconda3/envs/dsi_participant/lib/python3.9/site-packages/sklearn/cluster/_kmeans.py:870: FutureWarning: The default value of `n_init` will change from 10 to 'auto' in 1.4. Set the value of `n_init` explicitly to suppress the warning\n",
      "  warnings.warn(\n",
      "/opt/miniconda3/envs/dsi_participant/lib/python3.9/site-packages/sklearn/cluster/_kmeans.py:870: FutureWarning: The default value of `n_init` will change from 10 to 'auto' in 1.4. Set the value of `n_init` explicitly to suppress the warning\n",
      "  warnings.warn(\n",
      "/opt/miniconda3/envs/dsi_participant/lib/python3.9/site-packages/sklearn/cluster/_kmeans.py:870: FutureWarning: The default value of `n_init` will change from 10 to 'auto' in 1.4. Set the value of `n_init` explicitly to suppress the warning\n",
      "  warnings.warn(\n",
      "/opt/miniconda3/envs/dsi_participant/lib/python3.9/site-packages/sklearn/cluster/_kmeans.py:870: FutureWarning: The default value of `n_init` will change from 10 to 'auto' in 1.4. Set the value of `n_init` explicitly to suppress the warning\n",
      "  warnings.warn(\n",
      "/opt/miniconda3/envs/dsi_participant/lib/python3.9/site-packages/sklearn/cluster/_kmeans.py:870: FutureWarning: The default value of `n_init` will change from 10 to 'auto' in 1.4. Set the value of `n_init` explicitly to suppress the warning\n",
      "  warnings.warn(\n",
      "/opt/miniconda3/envs/dsi_participant/lib/python3.9/site-packages/sklearn/cluster/_kmeans.py:870: FutureWarning: The default value of `n_init` will change from 10 to 'auto' in 1.4. Set the value of `n_init` explicitly to suppress the warning\n",
      "  warnings.warn(\n",
      "/opt/miniconda3/envs/dsi_participant/lib/python3.9/site-packages/sklearn/cluster/_kmeans.py:870: FutureWarning: The default value of `n_init` will change from 10 to 'auto' in 1.4. Set the value of `n_init` explicitly to suppress the warning\n",
      "  warnings.warn(\n",
      "/opt/miniconda3/envs/dsi_participant/lib/python3.9/site-packages/sklearn/cluster/_kmeans.py:870: FutureWarning: The default value of `n_init` will change from 10 to 'auto' in 1.4. Set the value of `n_init` explicitly to suppress the warning\n",
      "  warnings.warn(\n",
      "/opt/miniconda3/envs/dsi_participant/lib/python3.9/site-packages/sklearn/cluster/_kmeans.py:870: FutureWarning: The default value of `n_init` will change from 10 to 'auto' in 1.4. Set the value of `n_init` explicitly to suppress the warning\n",
      "  warnings.warn(\n",
      "/opt/miniconda3/envs/dsi_participant/lib/python3.9/site-packages/sklearn/cluster/_kmeans.py:870: FutureWarning: The default value of `n_init` will change from 10 to 'auto' in 1.4. Set the value of `n_init` explicitly to suppress the warning\n",
      "  warnings.warn(\n",
      "/opt/miniconda3/envs/dsi_participant/lib/python3.9/site-packages/sklearn/cluster/_kmeans.py:870: FutureWarning: The default value of `n_init` will change from 10 to 'auto' in 1.4. Set the value of `n_init` explicitly to suppress the warning\n",
      "  warnings.warn(\n",
      "/opt/miniconda3/envs/dsi_participant/lib/python3.9/site-packages/sklearn/cluster/_kmeans.py:870: FutureWarning: The default value of `n_init` will change from 10 to 'auto' in 1.4. Set the value of `n_init` explicitly to suppress the warning\n",
      "  warnings.warn(\n",
      "/opt/miniconda3/envs/dsi_participant/lib/python3.9/site-packages/sklearn/cluster/_kmeans.py:870: FutureWarning: The default value of `n_init` will change from 10 to 'auto' in 1.4. Set the value of `n_init` explicitly to suppress the warning\n",
      "  warnings.warn(\n",
      "/opt/miniconda3/envs/dsi_participant/lib/python3.9/site-packages/sklearn/cluster/_kmeans.py:870: FutureWarning: The default value of `n_init` will change from 10 to 'auto' in 1.4. Set the value of `n_init` explicitly to suppress the warning\n",
      "  warnings.warn(\n",
      "/opt/miniconda3/envs/dsi_participant/lib/python3.9/site-packages/sklearn/cluster/_kmeans.py:870: FutureWarning: The default value of `n_init` will change from 10 to 'auto' in 1.4. Set the value of `n_init` explicitly to suppress the warning\n",
      "  warnings.warn(\n",
      "/opt/miniconda3/envs/dsi_participant/lib/python3.9/site-packages/sklearn/cluster/_kmeans.py:870: FutureWarning: The default value of `n_init` will change from 10 to 'auto' in 1.4. Set the value of `n_init` explicitly to suppress the warning\n",
      "  warnings.warn(\n",
      "/opt/miniconda3/envs/dsi_participant/lib/python3.9/site-packages/sklearn/cluster/_kmeans.py:870: FutureWarning: The default value of `n_init` will change from 10 to 'auto' in 1.4. Set the value of `n_init` explicitly to suppress the warning\n",
      "  warnings.warn(\n",
      "/opt/miniconda3/envs/dsi_participant/lib/python3.9/site-packages/sklearn/cluster/_kmeans.py:870: FutureWarning: The default value of `n_init` will change from 10 to 'auto' in 1.4. Set the value of `n_init` explicitly to suppress the warning\n",
      "  warnings.warn(\n",
      "/opt/miniconda3/envs/dsi_participant/lib/python3.9/site-packages/sklearn/cluster/_kmeans.py:870: FutureWarning: The default value of `n_init` will change from 10 to 'auto' in 1.4. Set the value of `n_init` explicitly to suppress the warning\n",
      "  warnings.warn(\n",
      "/opt/miniconda3/envs/dsi_participant/lib/python3.9/site-packages/sklearn/cluster/_kmeans.py:870: FutureWarning: The default value of `n_init` will change from 10 to 'auto' in 1.4. Set the value of `n_init` explicitly to suppress the warning\n",
      "  warnings.warn(\n",
      "/opt/miniconda3/envs/dsi_participant/lib/python3.9/site-packages/sklearn/cluster/_kmeans.py:870: FutureWarning: The default value of `n_init` will change from 10 to 'auto' in 1.4. Set the value of `n_init` explicitly to suppress the warning\n",
      "  warnings.warn(\n"
     ]
    },
    {
     "data": {
      "image/png": "[encoded data removed]",
      "text/plain": [
       "<Figure size 640x480 with 1 Axes>"
      ]
     },
     "metadata": {},
     "output_type": "display_data"
    }
   ],
   "source": [
    "scaler = StandardScaler()\n",
    "scaled_feature_df = scaler.fit_transform(feature_df)\n",
    "\n",
    "wcss = []\n",
    "for k in range(2, 25):\n",
    "    kmeans = KMeans(n_clusters=k, random_state=42)\n",
    "    kmeans.fit(scaled_feature_df)\n",
    "    wcss.append(kmeans.inertia_)  # inertia_ is the WCSS (within-cluster sum of squares)\n",
    "\n",
    "plt.plot(range(2, 25), wcss, marker='o')\n",
    "plt.xlabel('Number of Clusters (k)')\n",
    "plt.ylabel('WCSS')\n",
    "plt.title('Elbow Method')\n",
    "plt.show()"
   ]
  },
  {
   "cell_type": "code",
   "execution_count": 22,
   "id": "11f263f0",
   "metadata": {},
   "outputs": [
    {
     "name": "stderr",
     "output_type": "stream",
     "text": [
      "/opt/miniconda3/envs/dsi_participant/lib/python3.9/site-packages/sklearn/cluster/_kmeans.py:870: FutureWarning: The default value of `n_init` will change from 10 to 'auto' in 1.4. Set the value of `n_init` explicitly to suppress the warning\n",
      "  warnings.warn(\n",
      "/opt/miniconda3/envs/dsi_participant/lib/python3.9/site-packages/sklearn/cluster/_kmeans.py:870: FutureWarning: The default value of `n_init` will change from 10 to 'auto' in 1.4. Set the value of `n_init` explicitly to suppress the warning\n",
      "  warnings.warn(\n"
     ]
    },
    {
     "name": "stdout",
     "output_type": "stream",
     "text": [
      "k=2, silhouette score=0.967\n",
      "k=3, silhouette score=0.264\n"
     ]
    },
    {
     "name": "stderr",
     "output_type": "stream",
     "text": [
      "/opt/miniconda3/envs/dsi_participant/lib/python3.9/site-packages/sklearn/cluster/_kmeans.py:870: FutureWarning: The default value of `n_init` will change from 10 to 'auto' in 1.4. Set the value of `n_init` explicitly to suppress the warning\n",
      "  warnings.warn(\n",
      "/opt/miniconda3/envs/dsi_participant/lib/python3.9/site-packages/sklearn/cluster/_kmeans.py:870: FutureWarning: The default value of `n_init` will change from 10 to 'auto' in 1.4. Set the value of `n_init` explicitly to suppress the warning\n",
      "  warnings.warn(\n"
     ]
    },
    {
     "name": "stdout",
     "output_type": "stream",
     "text": [
      "k=4, silhouette score=0.266\n",
      "k=5, silhouette score=0.272\n"
     ]
    },
    {
     "name": "stderr",
     "output_type": "stream",
     "text": [
      "/opt/miniconda3/envs/dsi_participant/lib/python3.9/site-packages/sklearn/cluster/_kmeans.py:870: FutureWarning: The default value of `n_init` will change from 10 to 'auto' in 1.4. Set the value of `n_init` explicitly to suppress the warning\n",
      "  warnings.warn(\n",
      "/opt/miniconda3/envs/dsi_participant/lib/python3.9/site-packages/sklearn/cluster/_kmeans.py:870: FutureWarning: The default value of `n_init` will change from 10 to 'auto' in 1.4. Set the value of `n_init` explicitly to suppress the warning\n",
      "  warnings.warn(\n"
     ]
    },
    {
     "name": "stdout",
     "output_type": "stream",
     "text": [
      "k=6, silhouette score=0.248\n",
      "k=7, silhouette score=0.258\n",
      "k=8, silhouette score=0.259\n"
     ]
    },
    {
     "name": "stderr",
     "output_type": "stream",
     "text": [
      "/opt/miniconda3/envs/dsi_participant/lib/python3.9/site-packages/sklearn/cluster/_kmeans.py:870: FutureWarning: The default value of `n_init` will change from 10 to 'auto' in 1.4. Set the value of `n_init` explicitly to suppress the warning\n",
      "  warnings.warn(\n",
      "/opt/miniconda3/envs/dsi_participant/lib/python3.9/site-packages/sklearn/cluster/_kmeans.py:870: FutureWarning: The default value of `n_init` will change from 10 to 'auto' in 1.4. Set the value of `n_init` explicitly to suppress the warning\n",
      "  warnings.warn(\n"
     ]
    },
    {
     "name": "stdout",
     "output_type": "stream",
     "text": [
      "k=9, silhouette score=0.246\n"
     ]
    },
    {
     "name": "stderr",
     "output_type": "stream",
     "text": [
      "/opt/miniconda3/envs/dsi_participant/lib/python3.9/site-packages/sklearn/cluster/_kmeans.py:870: FutureWarning: The default value of `n_init` will change from 10 to 'auto' in 1.4. Set the value of `n_init` explicitly to suppress the warning\n",
      "  warnings.warn(\n"
     ]
    },
    {
     "name": "stdout",
     "output_type": "stream",
     "text": [
      "k=10, silhouette score=0.257\n"
     ]
    },
    {
     "name": "stderr",
     "output_type": "stream",
     "text": [
      "/opt/miniconda3/envs/dsi_participant/lib/python3.9/site-packages/sklearn/cluster/_kmeans.py:870: FutureWarning: The default value of `n_init` will change from 10 to 'auto' in 1.4. Set the value of `n_init` explicitly to suppress the warning\n",
      "  warnings.warn(\n"
     ]
    },
    {
     "name": "stdout",
     "output_type": "stream",
     "text": [
      "k=11, silhouette score=0.274\n"
     ]
    },
    {
     "name": "stderr",
     "output_type": "stream",
     "text": [
      "/opt/miniconda3/envs/dsi_participant/lib/python3.9/site-packages/sklearn/cluster/_kmeans.py:870: FutureWarning: The default value of `n_init` will change from 10 to 'auto' in 1.4. Set the value of `n_init` explicitly to suppress the warning\n",
      "  warnings.warn(\n",
      "/opt/miniconda3/envs/dsi_participant/lib/python3.9/site-packages/sklearn/cluster/_kmeans.py:870: FutureWarning: The default value of `n_init` will change from 10 to 'auto' in 1.4. Set the value of `n_init` explicitly to suppress the warning\n",
      "  warnings.warn(\n"
     ]
    },
    {
     "name": "stdout",
     "output_type": "stream",
     "text": [
      "k=12, silhouette score=0.280\n",
      "k=13, silhouette score=0.262\n"
     ]
    },
    {
     "name": "stderr",
     "output_type": "stream",
     "text": [
      "/opt/miniconda3/envs/dsi_participant/lib/python3.9/site-packages/sklearn/cluster/_kmeans.py:870: FutureWarning: The default value of `n_init` will change from 10 to 'auto' in 1.4. Set the value of `n_init` explicitly to suppress the warning\n",
      "  warnings.warn(\n"
     ]
    },
    {
     "name": "stdout",
     "output_type": "stream",
     "text": [
      "k=14, silhouette score=0.278\n"
     ]
    },
    {
     "name": "stderr",
     "output_type": "stream",
     "text": [
      "/opt/miniconda3/envs/dsi_participant/lib/python3.9/site-packages/sklearn/cluster/_kmeans.py:870: FutureWarning: The default value of `n_init` will change from 10 to 'auto' in 1.4. Set the value of `n_init` explicitly to suppress the warning\n",
      "  warnings.warn(\n"
     ]
    },
    {
     "name": "stdout",
     "output_type": "stream",
     "text": [
      "k=15, silhouette score=0.273\n"
     ]
    },
    {
     "name": "stderr",
     "output_type": "stream",
     "text": [
      "/opt/miniconda3/envs/dsi_participant/lib/python3.9/site-packages/sklearn/cluster/_kmeans.py:870: FutureWarning: The default value of `n_init` will change from 10 to 'auto' in 1.4. Set the value of `n_init` explicitly to suppress the warning\n",
      "  warnings.warn(\n"
     ]
    },
    {
     "name": "stdout",
     "output_type": "stream",
     "text": [
      "k=16, silhouette score=0.285\n"
     ]
    },
    {
     "name": "stderr",
     "output_type": "stream",
     "text": [
      "/opt/miniconda3/envs/dsi_participant/lib/python3.9/site-packages/sklearn/cluster/_kmeans.py:870: FutureWarning: The default value of `n_init` will change from 10 to 'auto' in 1.4. Set the value of `n_init` explicitly to suppress the warning\n",
      "  warnings.warn(\n"
     ]
    },
    {
     "name": "stdout",
     "output_type": "stream",
     "text": [
      "k=17, silhouette score=0.281\n"
     ]
    },
    {
     "name": "stderr",
     "output_type": "stream",
     "text": [
      "/opt/miniconda3/envs/dsi_participant/lib/python3.9/site-packages/sklearn/cluster/_kmeans.py:870: FutureWarning: The default value of `n_init` will change from 10 to 'auto' in 1.4. Set the value of `n_init` explicitly to suppress the warning\n",
      "  warnings.warn(\n"
     ]
    },
    {
     "name": "stdout",
     "output_type": "stream",
     "text": [
      "k=18, silhouette score=0.271\n"
     ]
    },
    {
     "name": "stderr",
     "output_type": "stream",
     "text": [
      "/opt/miniconda3/envs/dsi_participant/lib/python3.9/site-packages/sklearn/cluster/_kmeans.py:870: FutureWarning: The default value of `n_init` will change from 10 to 'auto' in 1.4. Set the value of `n_init` explicitly to suppress the warning\n",
      "  warnings.warn(\n"
     ]
    },
    {
     "name": "stdout",
     "output_type": "stream",
     "text": [
      "k=19, silhouette score=0.238\n"
     ]
    },
    {
     "name": "stderr",
     "output_type": "stream",
     "text": [
      "/opt/miniconda3/envs/dsi_participant/lib/python3.9/site-packages/sklearn/cluster/_kmeans.py:870: FutureWarning: The default value of `n_init` will change from 10 to 'auto' in 1.4. Set the value of `n_init` explicitly to suppress the warning\n",
      "  warnings.warn(\n"
     ]
    },
    {
     "name": "stdout",
     "output_type": "stream",
     "text": [
      "k=20, silhouette score=0.251\n"
     ]
    },
    {
     "name": "stderr",
     "output_type": "stream",
     "text": [
      "/opt/miniconda3/envs/dsi_participant/lib/python3.9/site-packages/sklearn/cluster/_kmeans.py:870: FutureWarning: The default value of `n_init` will change from 10 to 'auto' in 1.4. Set the value of `n_init` explicitly to suppress the warning\n",
      "  warnings.warn(\n"
     ]
    },
    {
     "name": "stdout",
     "output_type": "stream",
     "text": [
      "k=21, silhouette score=0.243\n"
     ]
    },
    {
     "name": "stderr",
     "output_type": "stream",
     "text": [
      "/opt/miniconda3/envs/dsi_participant/lib/python3.9/site-packages/sklearn/cluster/_kmeans.py:870: FutureWarning: The default value of `n_init` will change from 10 to 'auto' in 1.4. Set the value of `n_init` explicitly to suppress the warning\n",
      "  warnings.warn(\n"
     ]
    },
    {
     "name": "stdout",
     "output_type": "stream",
     "text": [
      "k=22, silhouette score=0.257\n"
     ]
    },
    {
     "name": "stderr",
     "output_type": "stream",
     "text": [
      "/opt/miniconda3/envs/dsi_participant/lib/python3.9/site-packages/sklearn/cluster/_kmeans.py:870: FutureWarning: The default value of `n_init` will change from 10 to 'auto' in 1.4. Set the value of `n_init` explicitly to suppress the warning\n",
      "  warnings.warn(\n"
     ]
    },
    {
     "name": "stdout",
     "output_type": "stream",
     "text": [
      "k=23, silhouette score=0.259\n"
     ]
    },
    {
     "name": "stderr",
     "output_type": "stream",
     "text": [
      "/opt/miniconda3/envs/dsi_participant/lib/python3.9/site-packages/sklearn/cluster/_kmeans.py:870: FutureWarning: The default value of `n_init` will change from 10 to 'auto' in 1.4. Set the value of `n_init` explicitly to suppress the warning\n",
      "  warnings.warn(\n"
     ]
    },
    {
     "name": "stdout",
     "output_type": "stream",
     "text": [
      "k=24, silhouette score=0.234\n"
     ]
    }
   ],
   "source": [
    "from sklearn.metrics import silhouette_score\n",
    "\n",
    "for k in range(2, 25):\n",
    "    kmeans = KMeans(n_clusters=k, random_state=42)\n",
    "    labels = kmeans.fit_predict(scaled_feature_df)\n",
    "    score = silhouette_score(scaled_feature_df, labels)\n",
    "    print(f\"k={k}, silhouette score={score:.3f}\")\n",
    "\n",
    "pca = PCA(n_components=2)\n",
    "X_pca = pca.fit_transform(scaled_feature_df)\n"
   ]
  },
  {
   "cell_type": "code",
   "execution_count": 25,
   "id": "c25afdc5",
   "metadata": {},
   "outputs": [
    {
     "name": "stderr",
     "output_type": "stream",
     "text": [
      "/opt/miniconda3/envs/dsi_participant/lib/python3.9/site-packages/sklearn/cluster/_kmeans.py:870: FutureWarning: The default value of `n_init` will change from 10 to 'auto' in 1.4. Set the value of `n_init` explicitly to suppress the warning\n",
      "  warnings.warn(\n"
     ]
    },
    {
     "data": {
      "image/png": "[encoded data removed]",
      "text/plain": [
       "<Figure size 640x480 with 1 Axes>"
      ]
     },
     "metadata": {},
     "output_type": "display_data"
    }
   ],
   "source": [
    "kmeans = KMeans(n_clusters=4)\n",
    "clusters = kmeans.fit_predict(scaled_feature_df)\n",
    "\n",
    "plt.scatter(X_pca[:, 0], X_pca[:, 1], c=clusters, cmap='tab10')\n",
    "plt.title(\"Cluster Visualization (PCA)\")\n",
    "plt.xlabel(\"PC1\")\n",
    "plt.ylabel(\"PC2\")\n",
    "plt.show()"
   ]
  },
  {
   "cell_type": "code",
   "execution_count": 27,
   "id": "aaa9814e",
   "metadata": {},
   "outputs": [
    {
     "name": "stdout",
     "output_type": "stream",
     "text": [
      "\n",
      "🟢 Cluster 0 (813 coins):\n",
      "$$$, 1337, 300, 42, 611, 8BIT, ABBC, ABC, ABDT, AC, ACC, ACDC, ACED, ACES, ACOIN, ACP, ACRE, ACTP, ADCN, ADK, ADL, ADZ, AEC, AEG, AGLT, AI, AIB, ALC, ALL, ALT, ALTX, AMMO, AMS, ANC, ANI, ANON, APC, APOT, ARB, ARCO, AREPA, ARGUS, ARI, ARION, ASA, ASAFE2, AT, ATC, ATD, ATH, ATOM, ATP, ATS, AV, AVH, AXIOM, AZART, B2X, B@, BAAS, BANK, BBS, BC, BCARD, BCDN, BCDT, BCF, BCV, BCX, BDL, BEAT, BENJI, BENZ, BERN, BET, BFF, BGG, BIFI, BIGUP, BIRDS, BIT, BITBTC, BITCF, BITEUR, BITF, BITGOLD, BITS, BITSILVER, BKBT, BLACK, BLAST, BLAZR, BLC, BLN, BLU, BNK, BNN, BOAT, BOC, BOLI, BOST, BQT, BRAT, BRIA, BRIT, BRO, BSC, BSM, BSN, BSTY, BSX, BTA, BTAD, BTB, BTBC, BTCM, BTCN, BTCONE, BTCRED, BTCS, BTDX, BTNT, BTPL, BTQ, BTRN, BU, BUB, BUBO, BUMBA, BUN, BUT, BUZZ, BWS, BZL, BZX, C2, C2C, C2P, C8, CAB, CANDY, CAR, CARAT, CARBON, CARE, CASH, CAZ, CBX, CCC, CCO, CCT, CDC, CDN, CDX, CEDEX, CEFS, CEL, CEN, CET, CF, CFC, CGEN, CHE, CHEESE, CHESS, CHEX, CHIPS, CIF, CIT, CIV, CJ, CJS, CJT, CKUSD, CLUB, CMIT, CMM, CMPCO, CMS, CNET, CNNC, CNO, CNT, COAL, COBRA, COMP, CONI, CONX, COR, COTN, COU, COUPE, CPN, CRAVE, CRB, CRD, CRE, CRED, CREVA, CRM, CROAT, CROP, CRYP, CSM, CTIC2, CTIC3, CTL, CTRT, CTX, CWV, CXT, DAC, DACC, DALC, DAR, DART, DASC, DATP, DAXT, DAXX, DAY, DCY, DDX, DEAL, DEEX, DELIZ, DELTA, DEX, DGC, DGS, DIX, DKPC, DLC, DMB, DMC, DML, DNZ, DOLLAR, DOW, DPN, DRG, DRM, DRPU, DRXNE, DT, DTC, DTEM, DUO, DUTCH, DWS, EAG, EBET, ECASH, ECO, ECT, EDS, EDT, EDU, EFL, EGCC, EGX, EJOY, EL, ELE, ELI, ELITE, ELLA, ELLI, ELS, EMB, EMD, EMPR, ENT, EPLUS, EPY, ERA, ERC20, ERY, ESCE, ESCO, ESS, EST, ESZ, ETBS, ETHM, ETHO, ETI, ETZ, EUC, EVIL, EXT, EZW, F1C, FANS, FBN, FGC, FID, FIL, FJC, FKX, FLAX, FLIK, FLM, FLT, FND, FNTB, FOIN, FOOD, FOR, FOX, FRC, FRGC, FRN, FST, FT, FTO, FUNDZ, FUZZ, GAP, GARY, GB, GBG, GCC, GCN, GCS, GDC, GEERT, GIO, GLT, GMCN, GOD, GOLF, GOOD, GRIM, GRMD, GRPH, GRWI, GRX, GSE, GSR, GST, GVE, GZE, HAC, HAL, HALLO, HAND, HAVY, HBC, HBT, HDAC, HERO, HIRE, HIT, HNC, HNDC, HODL, HONEY, HORSE, HPY, HQT, HRC, HSN, HTH, HVCO, HYB, HYC, I0C, IBANK, IBTC, ICNQ, ICOB, ICON, ICOO, IDOL, IDT, IFC, IFLT, IFP, IHF, IIC, ILC, IMP, IMS, IMX, INC, INCO, INCX, INDI, INFX, INN, INSN, INSUR, IOV, IPC, IQT, IRD, IRL, ISR, ITI, ITZ, IXC, IXE, J, JC, JEW, JIN, JIYO, JIYOX, JOINT, JS, KARMA, KBC, KBR, KED, KEK, KIND, KNDC, KNOW, KOBO, KRONE, KST, KUN, KURT, KWH, KXC, KZC, LABH, LANA, LBTC, LCP, LDOGE, LEMO, LIGHT, LIVE, LST, LSTR, LTB, LTCR, LTCU, LUNA, LYNX, MAG, MAGE, MAGN, MANNA, MAR, MARS, MAX, MAY, MBC, MBI, MCC, MCI, MCRN, MCT, MEC, MEDIBIT, MEET, MEETONE, MERO, MESSE, MEX, MFTU, MGM, MICRO, MILO, MINEX, MIR, MNC, MNE, MODX, MOF, MOIN, MOJO, MOLK, MOON, MOTO, MRI, MRQ, MRT, MSCN, MSD, MST, MT, MTNC, MXM, MXT, NAM, NCP, NEOG, NER, NETKO, NEVA, NEWOS, NKA, NOBL, NOKU, NOR, NOX, NRO, NRP, NSR, NTO, NUG, NUKO, NYAN, NYEX, OBT, OBTC, OBX, OC, OCL, ODN, OF, OLMP, OMEN, ONG, ONX, OPAL, OPC, OPCX, OPEN, ORB, ORI, ORS, OTB, OUR, PAK, PASL, PASS, PAWS, PC, PCN, PCO, PCOIN, PCS, PDX, PEX, PGN, PHI, PHO, PIGGY, PING, PIPL, PKB, PKC, PLACO, PLC, PLNC, PLURA, PLUS1, PLX, PLY, PNDM, PNT, PNX, PNY, PONZI, POP, POS, POSS, POST, PRC, PRES, PRIV, PROUD, PRS, PRTX, PTC, PTN, PTS, PUREX, PWR, PXC, PXI, PYX, Q2C, QAC, QBC, QBIC, QBT, QTL, QUBE, QURO, QVT, RAGNA, RBBT, RBIES, RBMC, RBT, RC, RCD, RDC, READ, REAL, REC, RED, REX, RGS, RIYA, RKC, RNS, ROBET, ROCK, RPC, RPI, RPL, RRC, RUNNERS, SAC, SAGA, SAKE, SAL, SANDG, SBTC, SCC, SCRT, SCS, SDRN, SDS, SEAL, SEER, SETH, SGN, SGP, SHADE, SHDW, SHE, SHOW, SHPING, SIGMA, SIGT, SIM, SJCX, SJW, SKC, SKR, SMC, SMLY, SMOKE, SMQ, SMS, SNIP, SNO, SNR, SNRG, SOCC, SOIL, SOL, SONG, SONIQ, SONO, SOON, SOP, SPK, SPND, SPR, SRC, STA, STACS, STAK, START, STC, STEX, STN, STR, SUBX, SUP, SUPER, SURE, SWING, SWTC, SZC, TAG, TAJ, TALAO, TALK, TCN, TDC, TDX, TEK, TELL, TER, TES, TESLA, TGT, TIG, TIT, TKR, TKT, TMTG, TOK, TOKC, TOPC, TOS, TRAID, TRCT, TRDT, TRI, TRK, TROLL, TRUMP, TSC, TTC, TV, TWIST, TYPE, UBTC, UC, UCT, UIP, UIS, UNI, UNRC, URALS, USC, USE, UST, UTC, V, VCT, VDG, VEC2, VEST, VIDZ, VIKKY, VIVID, VIVO, VLC, VLT, VLU, VNX, VOLT, VOT, VPRC, VSC, VSL, VSTR, VSX, VTA, VTHO, W3C, WA, WAGE, WBB, WBL, WC, WELL, WETH, WGO, WIC, WIKI, WILD, WIN, WINK, WIZ, WOMEN, WSP, WT, WXC, WYS, X12, XBTC21, XCD, XCG, XCN, XCO, XCT, XCXT, XG, XID, XIND, XJO, XLC, XMC, XMG, XMO, XNV, XOT, XPAT, XPD, XPTX, XPY, XQN, XRA, XRE, XRH, XRT, XSD, XSTC, XTRD, XUC, XUN, XXX, YCC, YOU, YTN, YUKI, YUP, ZB, ZBA, ZEIT, ZENGOLD, ZENI, ZEST, ZEUS, ZINC, ZNT, ZT, ZUR, ZYD, ZZC\n",
      "\n",
      "🟢 Cluster 1 (1 coins):\n",
      "BTWTY\n",
      "\n",
      "🟢 Cluster 2 (1190 coins):\n",
      "$PAC, 0XBTC, 1ST, 1WO, 2GIVE, 2GO, 808, AAA, AAC, ABL, ABS, ABT, ABX, ABY, ABYSS, AC3, ACAT, ACE, ACM, ACT, ADA, ADB, ADC, ADH, ADI, ADST, ADT, ADX, AE, AEON, AGI, AID, AIDOC, AION, AIT, AIX, AKA, ALI, ALIS, ALX, AMB, AMLT, AMM, AMN, AMO, AMP, ANT, AOA, AOG, APH, APIS, APL, APPC, APR, APX, ARC, ARCT, ARDR, ARG, ARK, ARN, ARO, ART, ARY, AST, ATB, ATCC, ATL, ATM, ATMI, ATMOS, ATN, ATX, AU, AUC, AUR, AURA, AUTO, AUX, AVA, AVINOC, AVT, AXPR, B2B, BANCA, BAT, BAX, BAY, BBC, BBK, BBN, BBO, BBP, BBR, BCA, BCAC, BCD, BCH, BCI, BCN, BCO, BCPT, BCY, BCZERO, BDG, BDT, BEE, BEET, BELA, BEN, BERRY, BETHER, BETR, BEZ, BFT, BHPC, BIO, BIR, BIS, BITB, BITCNY, BITG, BITUSD, BITX, BIX, BKX, BLK, BLOC, BLOCK, BLT, BLUE, BLZ, BMC, BMH, BMX, BNB, BNC, BND, BNT, BNTY, BOB, BOE, BON, BOS, BOT, BOUTS, BOX, BOXX, BPL, BPT, BQ, BRD, BRK, BRM, BRX, BRZC, BSD, BSTN, BSV, BTC, BTCP, BTCZ, BTG, BTK, BTM, BTN, BTO, BTR, BTS, BTT, BTW, BTX, BTXC, BUNNY, BURST, BWK, BWT, BWX, BZ, BZNT, C20, CAG, CAN, CANN, CAPP, CARD, CAS, CAT, CATO, CBC, CBT, CCCX, CCL, CCRB, CDM, CDT, CEEK, CENNZ, CFI, CFL, CFUN, CHAT, CHP, CHSB, CHX, CL, CLAM, CLN, CLO, CLOAK, CMCT, CMT, CND, CNN, CNX, COB, COFI, COIN, COLX, COSM, COSS, COV, COVAL, CPAY, CPC, CPLO, CPT, CPX, CPY, CRBT, CRC, CREA, CREDO, CRPT, CRW, CS, CSC, CSNO, CST, CSTL, CTC, CTXC, CURE, CV, CVC, CVN, CVT, CXO, CYFM, CYL, CYMT, CZR, D, DACH, DACS, DADI, DAG, DAGT, DAI, DAN, DAPS, DASH, DAT, DATA, DATX, DAV, DAX, DBC, DBET, DBIX, DCC, DCN, DCR, DCT, DDD, DEB, DEC, DEM, DENT, DERO, DEUS, DEV, DEW, DFT, DGB, DGD, DGTX, DGX, DICE, DIG, DIM, DIME, DIN, DIT, DIVI, DIVX, DLT, DMD, DMT, DNA, DNT, DOCK, DOGE, DOPE, DOR, DOT, DOV, DP, DPY, DRGN, DROP, DRT, DSR, DTA, DTB, DTH, DTR, DTRC, DTX, DX, DXT, DYN, EARTH, EBC, EBST, EBTC, ECA, ECC, ECOB, ECOM, ECOREAL, EDG, EDN, EDO, EDR, EDRC, EFX, EFYT, EGC, EGEM, EGT, EKO, EKT, ELA, ELEC, ELF, ELIX, ELTCOIN, ELY, EMC, EMC2, ENG, ENGT, ENJ, ENTS, EOS, EOSDAC, EQL, EQT, ERO, ERT, ESN, ESP, ETA, ETC, ETG, ETH, ETHD, ETHOS, ETK, ETN, ETP, ETT, EUNO, EURS, EVC, EVE, EVI, EVN, EVR, EVX, EXC, EXCL, EXMR, EXP, EXRN, EXY, EZT, FACE, FAIR, FCT, FDX, FDZ, FLASH, FLDC, FLIXX, FLO, FLOT, FLP, FLUZ, FMF, FNKOS, FORK, FOTA, FOXT, FREC, FREE, FRST, FSBT, FSN, FTC, FTI, FTM, FTT, FTX, FTXT, FUEL, FUN, FXT, FYP, GAM, GAME, GARD, GAS, GAT, GBC, GBX, GBYTE, GCR, GEM, GEN, GENE, GEO, GET, GETX, GIC, GIN, GLA, GLD, GNO, GNR, GNT, GNX, GO, GOLOS, GOSS, GOT, GPKR, GRC, GRFT, GRID, GRLC, GRS, GSC, GTC, GTM, GTO, GUESS, GUP, GUSD, GVT, GXS, GZRO, HAV, HB, HBZ, HC, HEAT, HELP, HER, HGT, HKN, HLC, HLM, HMC, HMQ, HOLD, HORUS, HOT, HPB, HPC, HQX, HSC, HST, HT, HTML, HUC, HUM, HUR, HUSH, HUZU, HVN, HWC, HXX, HYDRO, HYP, IC, ICN, ICR, ICX, IDH, IDXM, IETH, IFOOD, IFT, IG, IGNIS, IHT, IMT, INB, INCNT, IND, ING, INK, INO, INS, INSTAR, INT, INV, INVE, INXT, IOC, IOG, ION, IONC, IOP, IOST, IOTX, IPL, IPSX, IQ, IQN, ITC, ITL, ITT, IVY, IXT, J8T, JET, JNT, JOT, JSE, KAN, KB3, KCASH, KCS, KEY, KICK, KIN, KLKS, KLN, KMD, KNC, KNT, KORE, KRB, KRL, KRM, KWATT, LA, LALA, LATX, LBA, LBC, LCC, LCS, LDC, LEDU, LEND, LEO, LET, LEV, LFT, LGO, LGS, LIF, LIFE, LIKE, LINA, LINDA, LINK, LINX, LION, LKK, LKY, LMC, LNC, LND, LOBS, LOC, LOCI, LOG, LOKI, LOOM, LPC, LQD, LRC, LRN, LSK, LTC, LTHN, LUC, LUN, LUX, LWF, LXT, LYL, LYM, MAID, MAN, MANA, MAO, MAS, MASH, MBRS, MCAP, MCO, MDA, MDS, MDT, MED, MEDIC, MEDX, MEME, MER, MET, META, METM, MFG, MFIT, MFT, MGD, MGO, MIB, MIC, MINT, MIOTA, MITH, MITX, MKR, MLC, MLM, MLN, MMO, MNP, MNTP, MNX, MOAC, MOBI, MOC, MOD, MOL, MONA, MONK, MORE, MOT, MRK, MRPH, MSP, MSR, MTC, MTH, MTL, MTN, MTRC, MTX, MUE, MUSIC, MVC, MVL, MVP, MWAT, MYB, MYST, NANJ, NANO, NAS, NAV, NAVI, NBAI, NBC, NBR, NCASH, NCC, NCT, NDC, NDX, NEBL, NEC, NEO, NEOS, NET, NEU, NEXO, NGC, NIM, NIO, NIX, NKC, NKN, NLC2, NLG, NLX, NMC, NMR, NMS, NOAH, NOBS, NOTE, NPER, NPW, NPX, NPXS, NPXSXEM, NRG, NRVE, NSD, NTK, NTRN, NTY, NULS, NUSD, NVC, NXC, NXS, NXT, NYC, OAX, OBITS, OCC, OCN, OCT, ODE, OK, OLE, OLT, OMG, OMNI, OMX, ONE, ONION, ONL, ONT, OOT, OPT, OPTI, ORE, ORME, OSA, OST, OTN, OWN, OXY, PAI, PAL, PARETO, PART, PASC, PAT, PAX, PAXEX, PAY, PAYX, PBL, PBT, PCH, PCL, PEDI, PENG, PEPECASH, PFR, PGT, PHON, PHR, PHX, PINK, PIRL, PIVX, PIX, PKG, PKT, PLAN, PLAY, PLBT, PLR, PLU, PMA, PMNT, PND, PNK, POA, POE, POLIS, POLL, POLY, POSW, POT, POWR, PPC, PPP, PPT, PPY, PRA, PRE, PRG, PRIX, PRJ, PRL, PRO, PROC, PSC, PSM, PST, PTOY, PTT, PURA, PUT, PYLNT, PYN, PZM, QASH, QBIT, QCH, QKC, QLC, QNO, QNT, QNTU, QRK, QRL, QSP, QTUM, QUAN, QUN, QWARK, R, RADS, RAIN, RATING, RBLX, RBY, RCN, RCT, RDD, RDN, REBL, REF, REM, REN, REP, REPO, REQ, RET, RFR, RHOC, RISE, RKT, RLC, RLT, RLX, RMC, RMESH, RMT, RNT, RNTB, ROCK2, ROX, RPD, RPM, RSTR, RTB, RTE, RTH, RUFF, RUP, RUPX, RVN, RVR, RVT, RYO, S, SAFEX, SALT, SAN, SBD, SC, SCL, SCR, SCRIV, SCRL, SCT, SDA, SEELE, SEM, SEN, SENC, SEND, SENSE, SENT, SEQ, SEXC, SGR, SHARD, SHB, SHIFT, SHIP, SHND, SHP, SIB, SIC, SIG, SINS, SIX, SKB, SKIN, SKM, SKY, SLR, SLS, SLT, SMART, SMT, SNC, SND, SNET, SNGLS, SNM, SNOV, SNT, SNTR, SOAR, SOC, SOUL, SPANK, SPC, SPD, SPF, SPHR, SPHTX, SPN, SPRTS, SPX, SRCOIN, SRN, SS, SSC, SSP, SSS, STAC, STAR, STEEM, STK, STORJ, STORM, STQ, STRAT, STU, STX, SUB, SUMO, SUQA, SUR, SVD, SWFTC, SWM, SWT, SWTH, SXDT, SXUT, SYNX, SYS, TAAS, TAC, TAU, TBX, TCC, TCH, TCT, TDP, TDS, TEAM, TEL, TELOS, TEN, TERN, TFD, TFL, TGAME, THC, THETA, THR, THRT, TIC, TIE, TIME, TIPS, TIX, TKA, TKN, TKS, TKY, TMC, TMT, TNB, TNC, TNS, TNT, TOA, TOL, TOLL, TOMO, TOTO, TPAY, TRAC, TRAK, TRC, TRF, TRIO, TRST, TRTL, TRTT, TRUE, TRX, TRXC, TSL, TTT, TTU, TTV, TUBE, TUSD, TX, TZC, UBC, UBEX, UBQ, UBT, UCASH, UCN, UDOO, UFO, UFR, UGC, UKG, UNIFY, UNIT, UNO, UP, UPP, UQC, USDC, USDT, USNBT, UT, UTK, UTNP, UTT, UUU, VEE, VERI, VET, VEX, VIA, VIB, VIBE, VIN, VIPS, VIT, VITAE, VITE, VITES, VIU, VLD, VME, VOCO, VOISE, VRC, VRM, VRS, VTC, VULC, VZT, WAB, WABI, WAN, WAND, WAVES, WAX, WCT, WDC, WEB, WET, WGR, WHL, WICC, WINGS, WIRE, WISH, WIT, WIX, WPR, WRC, WSD, WSX, WTC, WTL, WTN, WWB, X8X, XAP, XAS, XAUR, XBC, XBI, XBL, XBP, XBY, XCASH, XCEL, XCLR, XCP, XDCE, XDN, XDNA, XEL, XEM, XES, XET, XGOX, XGS, XHI, XHV, XIN, XLM, XLQ, XLR, XMCC, XMCT, XMR, XMX, XMY, XNK, XNN, XOV, XP, XPA, XPM, XPX, XRL, XRP, XSG, XSH, XSN, XSPEC, XST, XTL, XTO, XTZ, XVG, XWC, XYO, XZC, YEE, YEED, YLC, YOC, YOYOW, ZAP, ZCL, ZCN, ZCO, ZCR, ZEC, ZEL, ZEN, ZEPH, ZER, ZET, ZIL, ZIP, ZIPT, ZLA, ZMN, ZNY, ZP, ZPR, ZPT, ZRC, ZRX, ZSC, ZXC\n",
      "\n",
      "🟢 Cluster 3 (1 coins):\n",
      "NANOX\n"
     ]
    }
   ],
   "source": [
    "clustered_df = pd.DataFrame({\n",
    "    'symbol': feature_df.index, \n",
    "    'cluster': clusters\n",
    "})\n",
    "\n",
    "for cluster_id in sorted(clustered_df['cluster'].unique()):\n",
    "    group = clustered_df[clustered_df['cluster'] == cluster_id]\n",
    "    symbols = group['symbol'].tolist()\n",
    "    print(f\"\\n🟢 Cluster {cluster_id} ({len(symbols)} coins):\")\n",
    "    print(\", \".join(symbols))"
   ]
  }
 ],
 "metadata": {
  "kernelspec": {
   "display_name": "dsi_participant",
   "language": "python",
   "name": "python3"
  },
  "language_info": {
   "codemirror_mode": {
    "name": "ipython",
    "version": 3
   },
   "file_extension": ".py",
   "mimetype": "text/x-python",
   "name": "python",
   "nbconvert_exporter": "python",
   "pygments_lexer": "ipython3",
   "version": "3.9.7"
  }
 },
 "nbformat": 4,
 "nbformat_minor": 5
}
