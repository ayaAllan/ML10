{
 "cells": [
  {
   "cell_type": "code",
   "execution_count": null,
   "id": "273ff49d",
   "metadata": {},
   "outputs": [
    {
     "name": "stdout",
     "output_type": "stream",
     "text": [
      "      slug symbol     name        date  ranknow    open    high     low  \\\n",
      "0  bitcoin    BTC  Bitcoin  2013-04-28        1  135.30  135.98  132.10   \n",
      "1  bitcoin    BTC  Bitcoin  2013-04-29        1  134.44  147.49  134.00   \n",
      "2  bitcoin    BTC  Bitcoin  2013-04-30        1  144.00  146.93  134.05   \n",
      "3  bitcoin    BTC  Bitcoin  2013-05-01        1  139.00  139.89  107.72   \n",
      "4  bitcoin    BTC  Bitcoin  2013-05-02        1  116.38  125.60   92.28   \n",
      "\n",
      "    close  volume        market  close_ratio  spread  \n",
      "0  134.21     0.0  1.488567e+09       0.5438    3.88  \n",
      "1  144.54     0.0  1.603769e+09       0.7813   13.49  \n",
      "2  139.00     0.0  1.542813e+09       0.3843   12.88  \n",
      "3  116.99     0.0  1.298955e+09       0.2882   32.17  \n",
      "4  105.21     0.0  1.168517e+09       0.3881   33.32  \n"
     ]
    }
   ],
   "source": [
    "import pandas as pd\n",
    "\n",
    "df = pd.read_csv(\"../data/crypto-markets.csv\")\n",
    "\n",
    "# Display the first few rows of the DataFrame\n",
    "print(df.head())"
   ]
  },
  {
   "cell_type": "code",
   "execution_count": 2,
   "id": "19178e4f",
   "metadata": {},
   "outputs": [
    {
     "name": "stdout",
     "output_type": "stream",
     "text": [
      "<class 'pandas.core.frame.DataFrame'>\n",
      "RangeIndex: 942297 entries, 0 to 942296\n",
      "Data columns (total 13 columns):\n",
      " #   Column       Non-Null Count   Dtype  \n",
      "---  ------       --------------   -----  \n",
      " 0   slug         942297 non-null  object \n",
      " 1   symbol       942297 non-null  object \n",
      " 2   name         942297 non-null  object \n",
      " 3   date         942297 non-null  object \n",
      " 4   ranknow      942297 non-null  int64  \n",
      " 5   open         942297 non-null  float64\n",
      " 6   high         942297 non-null  float64\n",
      " 7   low          942297 non-null  float64\n",
      " 8   close        942297 non-null  float64\n",
      " 9   volume       942297 non-null  float64\n",
      " 10  market       942297 non-null  float64\n",
      " 11  close_ratio  942297 non-null  float64\n",
      " 12  spread       942297 non-null  float64\n",
      "dtypes: float64(8), int64(1), object(4)\n",
      "memory usage: 93.5+ MB\n",
      "None\n"
     ]
    }
   ],
   "source": [
    "# info() provides a concise summary of the DataFrame\n",
    "print(df.info())"
   ]
  },
  {
   "cell_type": "code",
   "execution_count": 3,
   "id": "a0ce2883",
   "metadata": {},
   "outputs": [],
   "source": [
    "import pandas as pd\n",
    "import numpy as np\n",
    "from sklearn.preprocessing import StandardScaler\n",
    "from sklearn.cluster import KMeans\n",
    "from sklearn.decomposition import PCA\n",
    "import matplotlib.pyplot as plt"
   ]
  },
  {
   "cell_type": "code",
   "execution_count": 5,
   "id": "0a260243",
   "metadata": {},
   "outputs": [
    {
     "name": "stderr",
     "output_type": "stream",
     "text": [
      "C:\\Users\\user\\AppData\\Local\\Temp\\ipykernel_26228\\966604927.py:23: FutureWarning: DataFrame.fillna with 'method' is deprecated and will raise in a future version. Use obj.ffill() or obj.bfill() instead.\n",
      "  pivot = pivot.fillna(method='ffill').fillna(method='bfill')\n",
      "c:\\Users\\user\\miniconda3\\envs\\dsi_participant\\lib\\site-packages\\sklearn\\cluster\\_kmeans.py:870: FutureWarning: The default value of `n_init` will change from 10 to 'auto' in 1.4. Set the value of `n_init` explicitly to suppress the warning\n",
      "  warnings.warn(\n",
      "c:\\Users\\user\\miniconda3\\envs\\dsi_participant\\lib\\site-packages\\sklearn\\cluster\\_kmeans.py:1382: UserWarning: KMeans is known to have a memory leak on Windows with MKL, when there are less chunks than available threads. You can avoid it by setting the environment variable OMP_NUM_THREADS=1.\n",
      "  warnings.warn(\n",
      "c:\\Users\\user\\miniconda3\\envs\\dsi_participant\\lib\\site-packages\\sklearn\\cluster\\_kmeans.py:870: FutureWarning: The default value of `n_init` will change from 10 to 'auto' in 1.4. Set the value of `n_init` explicitly to suppress the warning\n",
      "  warnings.warn(\n",
      "c:\\Users\\user\\miniconda3\\envs\\dsi_participant\\lib\\site-packages\\sklearn\\cluster\\_kmeans.py:1382: UserWarning: KMeans is known to have a memory leak on Windows with MKL, when there are less chunks than available threads. You can avoid it by setting the environment variable OMP_NUM_THREADS=1.\n",
      "  warnings.warn(\n",
      "c:\\Users\\user\\miniconda3\\envs\\dsi_participant\\lib\\site-packages\\sklearn\\cluster\\_kmeans.py:870: FutureWarning: The default value of `n_init` will change from 10 to 'auto' in 1.4. Set the value of `n_init` explicitly to suppress the warning\n",
      "  warnings.warn(\n",
      "c:\\Users\\user\\miniconda3\\envs\\dsi_participant\\lib\\site-packages\\sklearn\\cluster\\_kmeans.py:1382: UserWarning: KMeans is known to have a memory leak on Windows with MKL, when there are less chunks than available threads. You can avoid it by setting the environment variable OMP_NUM_THREADS=1.\n",
      "  warnings.warn(\n",
      "c:\\Users\\user\\miniconda3\\envs\\dsi_participant\\lib\\site-packages\\sklearn\\cluster\\_kmeans.py:870: FutureWarning: The default value of `n_init` will change from 10 to 'auto' in 1.4. Set the value of `n_init` explicitly to suppress the warning\n",
      "  warnings.warn(\n",
      "c:\\Users\\user\\miniconda3\\envs\\dsi_participant\\lib\\site-packages\\sklearn\\cluster\\_kmeans.py:1382: UserWarning: KMeans is known to have a memory leak on Windows with MKL, when there are less chunks than available threads. You can avoid it by setting the environment variable OMP_NUM_THREADS=1.\n",
      "  warnings.warn(\n",
      "c:\\Users\\user\\miniconda3\\envs\\dsi_participant\\lib\\site-packages\\sklearn\\cluster\\_kmeans.py:870: FutureWarning: The default value of `n_init` will change from 10 to 'auto' in 1.4. Set the value of `n_init` explicitly to suppress the warning\n",
      "  warnings.warn(\n",
      "c:\\Users\\user\\miniconda3\\envs\\dsi_participant\\lib\\site-packages\\sklearn\\cluster\\_kmeans.py:1382: UserWarning: KMeans is known to have a memory leak on Windows with MKL, when there are less chunks than available threads. You can avoid it by setting the environment variable OMP_NUM_THREADS=1.\n",
      "  warnings.warn(\n",
      "c:\\Users\\user\\miniconda3\\envs\\dsi_participant\\lib\\site-packages\\sklearn\\cluster\\_kmeans.py:870: FutureWarning: The default value of `n_init` will change from 10 to 'auto' in 1.4. Set the value of `n_init` explicitly to suppress the warning\n",
      "  warnings.warn(\n",
      "c:\\Users\\user\\miniconda3\\envs\\dsi_participant\\lib\\site-packages\\sklearn\\cluster\\_kmeans.py:1382: UserWarning: KMeans is known to have a memory leak on Windows with MKL, when there are less chunks than available threads. You can avoid it by setting the environment variable OMP_NUM_THREADS=1.\n",
      "  warnings.warn(\n",
      "c:\\Users\\user\\miniconda3\\envs\\dsi_participant\\lib\\site-packages\\sklearn\\cluster\\_kmeans.py:870: FutureWarning: The default value of `n_init` will change from 10 to 'auto' in 1.4. Set the value of `n_init` explicitly to suppress the warning\n",
      "  warnings.warn(\n",
      "c:\\Users\\user\\miniconda3\\envs\\dsi_participant\\lib\\site-packages\\sklearn\\cluster\\_kmeans.py:1382: UserWarning: KMeans is known to have a memory leak on Windows with MKL, when there are less chunks than available threads. You can avoid it by setting the environment variable OMP_NUM_THREADS=1.\n",
      "  warnings.warn(\n",
      "c:\\Users\\user\\miniconda3\\envs\\dsi_participant\\lib\\site-packages\\sklearn\\cluster\\_kmeans.py:870: FutureWarning: The default value of `n_init` will change from 10 to 'auto' in 1.4. Set the value of `n_init` explicitly to suppress the warning\n",
      "  warnings.warn(\n",
      "c:\\Users\\user\\miniconda3\\envs\\dsi_participant\\lib\\site-packages\\sklearn\\cluster\\_kmeans.py:1382: UserWarning: KMeans is known to have a memory leak on Windows with MKL, when there are less chunks than available threads. You can avoid it by setting the environment variable OMP_NUM_THREADS=1.\n",
      "  warnings.warn(\n",
      "c:\\Users\\user\\miniconda3\\envs\\dsi_participant\\lib\\site-packages\\sklearn\\cluster\\_kmeans.py:870: FutureWarning: The default value of `n_init` will change from 10 to 'auto' in 1.4. Set the value of `n_init` explicitly to suppress the warning\n",
      "  warnings.warn(\n",
      "c:\\Users\\user\\miniconda3\\envs\\dsi_participant\\lib\\site-packages\\sklearn\\cluster\\_kmeans.py:1382: UserWarning: KMeans is known to have a memory leak on Windows with MKL, when there are less chunks than available threads. You can avoid it by setting the environment variable OMP_NUM_THREADS=1.\n",
      "  warnings.warn(\n"
     ]
    },
    {
     "data": {
      "image/png": "[encoded data removed]",
      "text/plain": [
       "<Figure size 640x480 with 1 Axes>"
      ]
     },
     "metadata": {},
     "output_type": "display_data"
    },
    {
     "name": "stderr",
     "output_type": "stream",
     "text": [
      "c:\\Users\\user\\miniconda3\\envs\\dsi_participant\\lib\\site-packages\\sklearn\\cluster\\_kmeans.py:870: FutureWarning: The default value of `n_init` will change from 10 to 'auto' in 1.4. Set the value of `n_init` explicitly to suppress the warning\n",
      "  warnings.warn(\n",
      "c:\\Users\\user\\miniconda3\\envs\\dsi_participant\\lib\\site-packages\\sklearn\\cluster\\_kmeans.py:1382: UserWarning: KMeans is known to have a memory leak on Windows with MKL, when there are less chunks than available threads. You can avoid it by setting the environment variable OMP_NUM_THREADS=1.\n",
      "  warnings.warn(\n"
     ]
    },
    {
     "name": "stdout",
     "output_type": "stream",
     "text": [
      "   symbol  cluster\n",
      "0    NANO        0\n",
      "1     WTC        0\n",
      "2     WAN        0\n",
      "3    VERI        0\n",
      "4   STRAT        0\n",
      "5     PPT        0\n",
      "6    IOST        0\n",
      "7     ICX        0\n",
      "8      HC        0\n",
      "9     GNT        0\n",
      "10    ZRX        0\n",
      "11   ARDR        0\n",
      "12    ARK        0\n",
      "13    BAT        0\n",
      "14    BCD        0\n",
      "15    XRP        1\n",
      "16    XLM        1\n",
      "17    EOS        2\n",
      "18    XTZ        2\n",
      "19    XMR        2\n",
      "20     AE        2\n",
      "21  WAVES        2\n",
      "22    VET        2\n",
      "23    TRX        2\n",
      "24  STEEM        2\n",
      "25    SNT        2\n",
      "26   DASH        2\n",
      "27   QTUM        2\n",
      "28    OMG        2\n",
      "29    ETC        2\n",
      "30    ETH        2\n",
      "31    BTC        2\n",
      "32    BNB        2\n",
      "33    ONT        2\n",
      "34    KMD        2\n",
      "35    LSK        2\n",
      "36    KCS        2\n",
      "37    LTC        2\n",
      "38  MIOTA        2\n",
      "39    ZIL        2\n",
      "40    NEO        2\n",
      "41    ADA        2\n",
      "42   USDT        3\n",
      "43    BCH        4\n",
      "44    MKR        4\n",
      "45    BTG        4\n",
      "46   RHOC        4\n",
      "47    ZEC        4\n",
      "48    XEM        5\n"
     ]
    },
    {
     "data": {
      "image/png": "[encoded data removed]",
      "text/plain": [
       "<Figure size 800x600 with 2 Axes>"
      ]
     },
     "metadata": {},
     "output_type": "display_data"
    }
   ],
   "source": [
    "# Preprocess\n",
    "df['date'] = pd.to_datetime(df['date'])\n",
    "df.sort_values(['symbol', 'date'], inplace=True)\n",
    "\n",
    "# Step 1: Filter to Top 50 Coins by Average Market Cap\n",
    "top_symbols = df.groupby('symbol')['market'].mean().sort_values(ascending=False).head(50).index\n",
    "df = df[df['symbol'].isin(top_symbols)]\n",
    "\n",
    "# Step 2: Aggregate duplicates by (date, symbol) using mean close price\n",
    "df_agg = df.groupby(['date', 'symbol'])['close'].mean().reset_index()\n",
    "\n",
    "# Step 3: Create pivot table (rows: dates, columns: symbols, values: close prices)\n",
    "pivot = df_agg.pivot(index='date', columns='symbol', values='close')\n",
    "\n",
    "# Step 4: Select a fixed window of recent days\n",
    "lookback_days = 30\n",
    "pivot = pivot.tail(lookback_days)\n",
    "\n",
    "# Step 5: Drop cryptos (columns) with insufficient data in the lookback window\n",
    "pivot = pivot.dropna(axis=1, thresh=lookback_days)\n",
    "\n",
    "# Optional: fill small gaps if you want to preserve more coins\n",
    "pivot = pivot.fillna(method='ffill').fillna(method='bfill')\n",
    "\n",
    "# Step 6: Normalize each crypto's close price (z-score)\n",
    "normalized = pivot.apply(lambda x: (x - x.mean()) / x.std(), axis=0)\n",
    "\n",
    "# Step 7: Transpose so each row is a crypto\n",
    "X = normalized.T.dropna()\n",
    "\n",
    "# Step 8: Scale features (not mandatory after z-score, but good practice)\n",
    "scaler = StandardScaler()\n",
    "X_scaled = scaler.fit_transform(X)\n",
    "\n",
    "# Step 9: Elbow method to choose number of clusters\n",
    "inertia = []\n",
    "K_range = range(2, min(11, len(X_scaled)))  # Avoid k > n_samples\n",
    "for k in K_range:\n",
    "    km = KMeans(n_clusters=k, random_state=42)\n",
    "    km.fit(X_scaled)\n",
    "    inertia.append(km.inertia_)\n",
    "\n",
    "plt.plot(K_range, inertia, marker='o')\n",
    "plt.xlabel('k')\n",
    "plt.ylabel('Inertia')\n",
    "plt.title('Elbow Method')\n",
    "plt.grid(True)\n",
    "plt.show()\n",
    "\n",
    "# Step 10: Final clustering with chosen k (e.g., k=4)\n",
    "k = 6\n",
    "if len(X_scaled) >= k:\n",
    "    kmeans = KMeans(n_clusters=k, random_state=42)\n",
    "    clusters = kmeans.fit_predict(X_scaled)\n",
    "\n",
    "    # Add cluster labels to DataFrame\n",
    "    clustered_df = pd.DataFrame({'symbol': X.index, 'cluster': clusters})\n",
    "    print(clustered_df.sort_values('cluster').reset_index(drop=True))\n",
    "\n",
    "    # Step 11: Visualize using PCA\n",
    "    pca = PCA(n_components=2)\n",
    "    components = pca.fit_transform(X_scaled)\n",
    "\n",
    "    plt.figure(figsize=(8, 6))\n",
    "    scatter = plt.scatter(components[:, 0], components[:, 1], c=clusters, cmap='tab10', s=100, alpha=0.8)\n",
    "    plt.title('Cryptocurrency Clusters (based on behavior)')\n",
    "    plt.xlabel('PCA Component 1')\n",
    "    plt.ylabel('PCA Component 2')\n",
    "    plt.colorbar(scatter, label='Cluster')\n",
    "    plt.grid(True)\n",
    "    plt.show()\n",
    "else:\n",
    "    print(f\"Not enough cryptos with complete data to form {k} clusters.\")"
   ]
  },
  {
   "cell_type": "code",
   "execution_count": 19,
   "id": "c8621391",
   "metadata": {},
   "outputs": [
    {
     "name": "stderr",
     "output_type": "stream",
     "text": [
      "c:\\Users\\LENOVO\\miniconda3\\envs\\dsi_participant\\lib\\site-packages\\sklearn\\cluster\\_kmeans.py:1429: UserWarning: KMeans is known to have a memory leak on Windows with MKL, when there are less chunks than available threads. You can avoid it by setting the environment variable OMP_NUM_THREADS=1.\n",
      "  warnings.warn(\n"
     ]
    },
    {
     "name": "stdout",
     "output_type": "stream",
     "text": [
      "   symbol  cluster\n",
      "0     KCS        0\n",
      "1     XTZ        0\n",
      "2    USDT        1\n",
      "3    RHOC        2\n",
      "4     BCH        2\n",
      "5     BTG        2\n",
      "6     ZEC        2\n",
      "7   WAVES        3\n",
      "8     VET        3\n",
      "9    VERI        3\n",
      "10    LSK        3\n",
      "11    WTC        3\n",
      "12  STRAT        3\n",
      "13  STEEM        3\n",
      "14    SNT        3\n",
      "15    PPT        3\n",
      "16    ZIL        3\n",
      "17    WAN        3\n",
      "18   NANO        3\n",
      "19    ZRX        3\n",
      "20   IOST        3\n",
      "21     AE        3\n",
      "22   ARDR        3\n",
      "23    ICX        3\n",
      "24     HC        3\n",
      "25    ARK        3\n",
      "26    GNT        3\n",
      "27    BAT        3\n",
      "28    BCD        3\n",
      "29    KMD        3\n",
      "30    XRP        4\n",
      "31    XLM        4\n",
      "32    XEM        4\n",
      "33    XMR        5\n",
      "34    BNB        5\n",
      "35    BTC        5\n",
      "36    TRX        5\n",
      "37    EOS        5\n",
      "38    ETC        5\n",
      "39    ETH        5\n",
      "40   QTUM        5\n",
      "41    ONT        5\n",
      "42    OMG        5\n",
      "43    NEO        5\n",
      "44    MKR        5\n",
      "45  MIOTA        5\n",
      "46    LTC        5\n",
      "47   DASH        5\n",
      "48    ADA        5\n"
     ]
    },
    {
     "data": {
      "image/png": "[encoded data removed]",
      "text/plain": [
       "<Figure size 800x600 with 2 Axes>"
      ]
     },
     "metadata": {},
     "output_type": "display_data"
    }
   ],
   "source": [
    "\n",
    "# Step 10: Final clustering with chosen k (e.g., k=4)\n",
    "k = 6\n",
    "if len(X_scaled) >= k:\n",
    "    kmeans = KMeans(n_clusters=k, random_state=42)\n",
    "    clusters = kmeans.fit_predict(X_scaled)\n",
    "\n",
    "    # Add cluster labels to DataFrame\n",
    "    clustered_df = pd.DataFrame({'symbol': X.index, 'cluster': clusters})\n",
    "    print(clustered_df.sort_values('cluster').reset_index(drop=True))\n",
    "\n",
    "    # Step 11: Visualize using PCA\n",
    "    pca = PCA(n_components=2)\n",
    "    components = pca.fit_transform(X_scaled)\n",
    "\n",
    "    plt.figure(figsize=(8, 6))\n",
    "    scatter = plt.scatter(components[:, 0], components[:, 1], c=clusters, cmap='tab10', s=100, alpha=0.8)\n",
    "    plt.title('Cryptocurrency Clusters (based on behavior)')\n",
    "    plt.xlabel('PCA Component 1')\n",
    "    plt.ylabel('PCA Component 2')\n",
    "    plt.colorbar(scatter, label='Cluster')\n",
    "    plt.grid(True)\n",
    "    plt.show()\n",
    "else:\n",
    "    print(f\"Not enough cryptos with complete data to form {k} clusters.\")"
   ]
  },
  {
   "cell_type": "code",
   "execution_count": null,
   "id": "4ee2a84d",
   "metadata": {},
   "outputs": [],
   "source": []
  },
  {
   "cell_type": "code",
   "execution_count": 20,
   "id": "3f0f46cf",
   "metadata": {},
   "outputs": [
    {
     "name": "stdout",
     "output_type": "stream",
     "text": [
      "\n",
      "🟢 Cluster 0 (2 coins):\n",
      "KCS, XTZ\n",
      "\n",
      "🟢 Cluster 1 (1 coins):\n",
      "USDT\n",
      "\n",
      "🟢 Cluster 2 (4 coins):\n",
      "BCH, BTG, RHOC, ZEC\n",
      "\n",
      "🟢 Cluster 3 (23 coins):\n",
      "AE, ARDR, ARK, BAT, BCD, GNT, HC, ICX, IOST, KMD, LSK, NANO, PPT, SNT, STEEM, STRAT, VERI, VET, WAN, WAVES, WTC, ZIL, ZRX\n",
      "\n",
      "🟢 Cluster 4 (3 coins):\n",
      "XEM, XLM, XRP\n",
      "\n",
      "🟢 Cluster 5 (16 coins):\n",
      "ADA, BNB, BTC, DASH, EOS, ETC, ETH, LTC, MIOTA, MKR, NEO, OMG, ONT, QTUM, TRX, XMR\n"
     ]
    }
   ],
   "source": [
    "# Print coins grouped by cluster\n",
    "for cluster_id in sorted(clustered_df['cluster'].unique()):\n",
    "    group = clustered_df[clustered_df['cluster'] == cluster_id]\n",
    "    symbols = group['symbol'].tolist()\n",
    "    print(f\"\\n🟢 Cluster {cluster_id} ({len(symbols)} coins):\")\n",
    "    print(\", \".join(symbols))"
   ]
  },
  {
   "cell_type": "code",
   "execution_count": 6,
   "id": "71ce30f7",
   "metadata": {},
   "outputs": [
    {
     "name": "stdout",
     "output_type": "stream",
     "text": [
      "\n",
      "🟢 DBSCAN Cluster -1 (49 coins):\n",
      "ADA, AE, ARDR, ARK, BAT, BCD, BCH, BNB, BTC, BTG, DASH, EOS, ETC, ETH, GNT, HC, ICX, IOST, KCS, KMD, LSK, LTC, MIOTA, MKR, NANO, NEO, OMG, ONT, PPT, QTUM, RHOC, SNT, STEEM, STRAT, TRX, USDT, VERI, VET, WAN, WAVES, WTC, XEM, XLM, XMR, XRP, XTZ, ZEC, ZIL, ZRX\n"
     ]
    },
    {
     "data": {
      "image/png": "[encoded data removed]",
      "text/plain": [
       "<Figure size 800x600 with 2 Axes>"
      ]
     },
     "metadata": {},
     "output_type": "display_data"
    }
   ],
   "source": [
    "from sklearn.cluster import DBSCAN\n",
    "\n",
    "# Step 1: Apply DBSCAN\n",
    "dbscan = DBSCAN(eps=1.5, min_samples=2)\n",
    "dbscan_labels = dbscan.fit_predict(X_scaled)\n",
    "\n",
    "# Step 2: Create DataFrame with DBSCAN cluster results\n",
    "dbscan_df = pd.DataFrame({'symbol': X.index, 'cluster': dbscan_labels})\n",
    "\n",
    "# Step 3: Display cluster members\n",
    "for cluster_id in sorted(dbscan_df['cluster'].unique()):\n",
    "    symbols = dbscan_df[dbscan_df['cluster'] == cluster_id]['symbol'].tolist()\n",
    "    print(f\"\\n🟢 DBSCAN Cluster {cluster_id} ({len(symbols)} coins):\")\n",
    "    print(\", \".join(symbols))\n",
    "\n",
    "# Step 4 (optional): Visualize with PCA\n",
    "from sklearn.decomposition import PCA\n",
    "import matplotlib.pyplot as plt\n",
    "\n",
    "pca = PCA(n_components=2)\n",
    "components = pca.fit_transform(X_scaled)\n",
    "\n",
    "plt.figure(figsize=(8, 6))\n",
    "scatter = plt.scatter(components[:, 0], components[:, 1], c=dbscan_labels, cmap='tab10', s=100, alpha=0.8)\n",
    "plt.title(\"Cryptocurrency Clusters with DBSCAN (PCA View)\")\n",
    "plt.xlabel(\"PCA Component 1\")\n",
    "plt.ylabel(\"PCA Component 2\")\n",
    "plt.colorbar(scatter, label='Cluster')\n",
    "plt.grid(True)\n",
    "plt.show()\n"
   ]
  },
  {
   "cell_type": "code",
   "execution_count": 7,
   "id": "e663d0d5",
   "metadata": {},
   "outputs": [
    {
     "name": "stdout",
     "output_type": "stream",
     "text": [
      "\n",
      "Cluster 0 (3 coins):\n",
      "XEM, XLM, XRP\n",
      "\n",
      "Cluster 1 (20 coins):\n",
      "ADA, BCH, BNB, BTC, BTG, DASH, EOS, ETC, ETH, KCS, MIOTA, MKR, NEO, OMG, ONT, QTUM, RHOC, XMR, XTZ, ZEC\n",
      "\n",
      "Cluster 2 (25 coins):\n",
      "AE, ARDR, ARK, BAT, BCD, GNT, HC, ICX, IOST, KMD, LSK, LTC, NANO, PPT, SNT, STEEM, STRAT, TRX, VERI, VET, WAN, WAVES, WTC, ZIL, ZRX\n",
      "\n",
      "Cluster 3 (1 coins):\n",
      "USDT\n"
     ]
    },
    {
     "data": {
      "image/png": "[encoded data removed]",
      "text/plain": [
       "<Figure size 800x600 with 2 Axes>"
      ]
     },
     "metadata": {},
     "output_type": "display_data"
    }
   ],
   "source": [
    "from sklearn.cluster import AgglomerativeClustering\n",
    "from sklearn.decomposition import PCA\n",
    "import matplotlib.pyplot as plt\n",
    "\n",
    "# Step 1: Apply Agglomerative Clustering\n",
    "agglo = AgglomerativeClustering(n_clusters=4)\n",
    "agglo_labels = agglo.fit_predict(X_scaled)\n",
    "\n",
    "# Step 2: Attach cluster labels to DataFrame\n",
    "agglo_df = pd.DataFrame({'symbol': X.index, 'cluster': agglo_labels})\n",
    "\n",
    "# Step 3: Display coins per cluster\n",
    "for cluster_id in sorted(agglo_df['cluster'].unique()):\n",
    "    symbols = agglo_df[agglo_df['cluster'] == cluster_id]['symbol'].tolist()\n",
    "    print(f\"\\nCluster {cluster_id} ({len(symbols)} coins):\")\n",
    "    print(\", \".join(symbols))\n",
    "\n",
    "# Step 4 (Optional): PCA visualization\n",
    "pca = PCA(n_components=2)\n",
    "components = pca.fit_transform(X_scaled)\n",
    "\n",
    "plt.figure(figsize=(8, 6))\n",
    "scatter = plt.scatter(components[:, 0], components[:, 1], c=agglo_labels, cmap='tab10', s=100, alpha=0.8)\n",
    "plt.title(\"Cryptocurrency Clusters with Agglomerative Clustering (PCA View)\")\n",
    "plt.xlabel(\"PCA Component 1\")\n",
    "plt.ylabel(\"PCA Component 2\")\n",
    "plt.colorbar(scatter, label='Cluster')\n",
    "plt.grid(True)\n",
    "plt.show()\n"
   ]
  },
  {
   "cell_type": "code",
   "execution_count": 24,
   "id": "2d7dc4f0",
   "metadata": {},
   "outputs": [
    {
     "name": "stderr",
     "output_type": "stream",
     "text": [
      "C:\\Users\\LENOVO\\AppData\\Local\\Temp\\ipykernel_9364\\3794985004.py:14: FutureWarning:\n",
      "\n",
      "Setting an item of incompatible dtype is deprecated and will raise an error in a future version of pandas. Value '[26.         25.92387953 25.70710678 25.38268343 25.         24.61731657\n",
      " 24.29289322 24.07612047 24.         24.07612047 24.29289322 24.61731657\n",
      " 25.         25.38268343 25.70710678 25.92387953]' has dtype incompatible with int64, please explicitly cast to a compatible dtype first.\n",
      "\n",
      "C:\\Users\\LENOVO\\AppData\\Local\\Temp\\ipykernel_9364\\3794985004.py:15: FutureWarning:\n",
      "\n",
      "Setting an item of incompatible dtype is deprecated and will raise an error in a future version of pandas. Value '[ 0.00000000e+00  3.82683432e-01  7.07106781e-01  9.23879533e-01\n",
      "  1.00000000e+00  9.23879533e-01  7.07106781e-01  3.82683432e-01\n",
      "  1.22464680e-16 -3.82683432e-01 -7.07106781e-01 -9.23879533e-01\n",
      " -1.00000000e+00 -9.23879533e-01 -7.07106781e-01 -3.82683432e-01]' has dtype incompatible with int64, please explicitly cast to a compatible dtype first.\n",
      "\n"
     ]
    },
    {
     "data": {
      "application/vnd.plotly.v1+json": {
       "config": {
        "plotlyServerURL": "https://plot.ly"
       },
       "data": [
        {
         "hovertemplate": "<b>%{hovertext}</b><br><br>x=%{x}<br>y=%{y}<br>bubble_size=%{marker.size}<br>cluster=%{marker.color}<extra></extra>",
         "hovertext": [
          "ADA",
          "AE",
          "ARDR",
          "ARK",
          "BAT",
          "BCD",
          "BCH",
          "BNB",
          "BTC",
          "BTG",
          "DASH",
          "EOS",
          "ETC",
          "ETH",
          "GNT",
          "HC",
          "ICX",
          "IOST",
          "KCS",
          "KMD",
          "LSK",
          "LTC",
          "MIOTA",
          "MKR",
          "NANO",
          "NEO",
          "OMG",
          "ONT",
          "PPT",
          "QTUM",
          "RHOC",
          "SNT",
          "STEEM",
          "STRAT",
          "TRX",
          "USDT",
          "VERI",
          "VET",
          "WAN",
          "WAVES",
          "WTC",
          "XEM",
          "XLM",
          "XMR",
          "XRP",
          "XTZ",
          "ZEC",
          "ZIL",
          "ZRX"
         ],
         "legendgroup": "",
         "marker": {
          "color": [
           5,
           3,
           3,
           3,
           3,
           3,
           2,
           5,
           5,
           2,
           5,
           5,
           5,
           5,
           3,
           3,
           3,
           3,
           0,
           3,
           3,
           5,
           5,
           5,
           3,
           5,
           5,
           5,
           3,
           5,
           2,
           3,
           3,
           3,
           5,
           1,
           3,
           3,
           3,
           3,
           3,
           4,
           4,
           5,
           4,
           0,
           2,
           3,
           3
          ],
          "coloraxis": "coloraxis",
          "size": [
           10,
           10,
           10,
           10,
           10,
           10,
           10,
           10,
           10,
           10,
           10,
           10,
           10,
           10,
           10,
           10,
           10,
           10,
           10,
           10,
           10,
           10,
           10,
           10,
           10,
           10,
           10,
           10,
           10,
           10,
           10,
           10,
           10,
           10,
           10,
           10,
           10,
           10,
           10,
           10,
           10,
           10,
           10,
           10,
           10,
           10,
           10,
           10,
           10
          ],
          "sizemode": "diameter",
          "sizeref": 0.15625,
          "symbol": "circle"
         },
         "mode": "markers",
         "name": "",
         "orientation": "v",
         "showlegend": false,
         "type": "scatter",
         "x": [
          26,
          16,
          15.9629172873478,
          15.854419404546489,
          15.682553143218653,
          15.460065037731152,
          11,
          25.923879532511286,
          25.707106781186546,
          10,
          25.38268343236509,
          25,
          24.61731656763491,
          24.292893218813454,
          15.203456013052634,
          14.93175758663533,
          14.665120387829013,
          14.423319677885132,
          1,
          14.22428870929558,
          14.082788698494547,
          24.076120467488714,
          24,
          24.076120467488714,
          14.009314053963669,
          24.292893218813454,
          24.61731656763491,
          25,
          14.009314053963669,
          25.38268343236509,
          9,
          14.082788698494547,
          14.22428870929558,
          14.423319677885132,
          25.707106781186546,
          6,
          14.665120387829013,
          14.931757586635328,
          15.203456013052634,
          15.460065037731152,
          15.682553143218653,
          21,
          19.5,
          25.923879532511286,
          19.5,
          -1,
          10,
          15.854419404546489,
          15.9629172873478
         ],
         "xaxis": "x",
         "y": [
          0,
          0,
          0.2697967711570243,
          0.5195839500354336,
          0.730835964278124,
          0.8878852184023752,
          0,
          0.3826834323650898,
          0.7071067811865476,
          1,
          0.9238795325112867,
          1,
          0.9238795325112867,
          0.7071067811865476,
          0.9790840876823228,
          0.9976687691905392,
          0.9422609221188205,
          0.8169698930104421,
          0,
          0.631087944326053,
          0.3984010898462418,
          0.3826834323650899,
          1.2246467991473532e-16,
          -0.38268343236508967,
          0.13616664909624665,
          -0.7071067811865475,
          -0.9238795325112865,
          -1,
          -0.1361666490962464,
          -0.9238795325112866,
          1.2246467991473532e-16,
          -0.3984010898462412,
          -0.6310879443260528,
          -0.816969893010442,
          -0.7071067811865477,
          0,
          -0.9422609221188204,
          -0.9976687691905392,
          -0.979084087682323,
          -0.8878852184023756,
          -0.7308359642781246,
          0,
          0.8660254037844387,
          -0.3826834323650904,
          -0.8660254037844385,
          1.2246467991473532e-16,
          -1,
          -0.5195839500354336,
          -0.2697967711570244
         ],
         "yaxis": "y"
        }
       ],
       "layout": {
        "coloraxis": {
         "colorbar": {
          "title": {
           "text": "cluster"
          }
         },
         "colorscale": [
          [
           0,
           "#0d0887"
          ],
          [
           0.1111111111111111,
           "#46039f"
          ],
          [
           0.2222222222222222,
           "#7201a8"
          ],
          [
           0.3333333333333333,
           "#9c179e"
          ],
          [
           0.4444444444444444,
           "#bd3786"
          ],
          [
           0.5555555555555556,
           "#d8576b"
          ],
          [
           0.6666666666666666,
           "#ed7953"
          ],
          [
           0.7777777777777778,
           "#fb9f3a"
          ],
          [
           0.8888888888888888,
           "#fdca26"
          ],
          [
           1,
           "#f0f921"
          ]
         ]
        },
        "legend": {
         "itemsizing": "constant",
         "tracegroupgap": 0
        },
        "showlegend": true,
        "template": {
         "data": {
          "bar": [
           {
            "error_x": {
             "color": "#f2f5fa"
            },
            "error_y": {
             "color": "#f2f5fa"
            },
            "marker": {
             "line": {
              "color": "rgb(17,17,17)",
              "width": 0.5
             },
             "pattern": {
              "fillmode": "overlay",
              "size": 10,
              "solidity": 0.2
             }
            },
            "type": "bar"
           }
          ],
          "barpolar": [
           {
            "marker": {
             "line": {
              "color": "rgb(17,17,17)",
              "width": 0.5
             },
             "pattern": {
              "fillmode": "overlay",
              "size": 10,
              "solidity": 0.2
             }
            },
            "type": "barpolar"
           }
          ],
          "carpet": [
           {
            "aaxis": {
             "endlinecolor": "#A2B1C6",
             "gridcolor": "#506784",
             "linecolor": "#506784",
             "minorgridcolor": "#506784",
             "startlinecolor": "#A2B1C6"
            },
            "baxis": {
             "endlinecolor": "#A2B1C6",
             "gridcolor": "#506784",
             "linecolor": "#506784",
             "minorgridcolor": "#506784",
             "startlinecolor": "#A2B1C6"
            },
            "type": "carpet"
           }
          ],
          "choropleth": [
           {
            "colorbar": {
             "outlinewidth": 0,
             "ticks": ""
            },
            "type": "choropleth"
           }
          ],
          "contour": [
           {
            "colorbar": {
             "outlinewidth": 0,
             "ticks": ""
            },
            "colorscale": [
             [
              0,
              "#0d0887"
             ],
             [
              0.1111111111111111,
              "#46039f"
             ],
             [
              0.2222222222222222,
              "#7201a8"
             ],
             [
              0.3333333333333333,
              "#9c179e"
             ],
             [
              0.4444444444444444,
              "#bd3786"
             ],
             [
              0.5555555555555556,
              "#d8576b"
             ],
             [
              0.6666666666666666,
              "#ed7953"
             ],
             [
              0.7777777777777778,
              "#fb9f3a"
             ],
             [
              0.8888888888888888,
              "#fdca26"
             ],
             [
              1,
              "#f0f921"
             ]
            ],
            "type": "contour"
           }
          ],
          "contourcarpet": [
           {
            "colorbar": {
             "outlinewidth": 0,
             "ticks": ""
            },
            "type": "contourcarpet"
           }
          ],
          "heatmap": [
           {
            "colorbar": {
             "outlinewidth": 0,
             "ticks": ""
            },
            "colorscale": [
             [
              0,
              "#0d0887"
             ],
             [
              0.1111111111111111,
              "#46039f"
             ],
             [
              0.2222222222222222,
              "#7201a8"
             ],
             [
              0.3333333333333333,
              "#9c179e"
             ],
             [
              0.4444444444444444,
              "#bd3786"
             ],
             [
              0.5555555555555556,
              "#d8576b"
             ],
             [
              0.6666666666666666,
              "#ed7953"
             ],
             [
              0.7777777777777778,
              "#fb9f3a"
             ],
             [
              0.8888888888888888,
              "#fdca26"
             ],
             [
              1,
              "#f0f921"
             ]
            ],
            "type": "heatmap"
           }
          ],
          "heatmapgl": [
           {
            "colorbar": {
             "outlinewidth": 0,
             "ticks": ""
            },
            "colorscale": [
             [
              0,
              "#0d0887"
             ],
             [
              0.1111111111111111,
              "#46039f"
             ],
             [
              0.2222222222222222,
              "#7201a8"
             ],
             [
              0.3333333333333333,
              "#9c179e"
             ],
             [
              0.4444444444444444,
              "#bd3786"
             ],
             [
              0.5555555555555556,
              "#d8576b"
             ],
             [
              0.6666666666666666,
              "#ed7953"
             ],
             [
              0.7777777777777778,
              "#fb9f3a"
             ],
             [
              0.8888888888888888,
              "#fdca26"
             ],
             [
              1,
              "#f0f921"
             ]
            ],
            "type": "heatmapgl"
           }
          ],
          "histogram": [
           {
            "marker": {
             "pattern": {
              "fillmode": "overlay",
              "size": 10,
              "solidity": 0.2
             }
            },
            "type": "histogram"
           }
          ],
          "histogram2d": [
           {
            "colorbar": {
             "outlinewidth": 0,
             "ticks": ""
            },
            "colorscale": [
             [
              0,
              "#0d0887"
             ],
             [
              0.1111111111111111,
              "#46039f"
             ],
             [
              0.2222222222222222,
              "#7201a8"
             ],
             [
              0.3333333333333333,
              "#9c179e"
             ],
             [
              0.4444444444444444,
              "#bd3786"
             ],
             [
              0.5555555555555556,
              "#d8576b"
             ],
             [
              0.6666666666666666,
              "#ed7953"
             ],
             [
              0.7777777777777778,
              "#fb9f3a"
             ],
             [
              0.8888888888888888,
              "#fdca26"
             ],
             [
              1,
              "#f0f921"
             ]
            ],
            "type": "histogram2d"
           }
          ],
          "histogram2dcontour": [
           {
            "colorbar": {
             "outlinewidth": 0,
             "ticks": ""
            },
            "colorscale": [
             [
              0,
              "#0d0887"
             ],
             [
              0.1111111111111111,
              "#46039f"
             ],
             [
              0.2222222222222222,
              "#7201a8"
             ],
             [
              0.3333333333333333,
              "#9c179e"
             ],
             [
              0.4444444444444444,
              "#bd3786"
             ],
             [
              0.5555555555555556,
              "#d8576b"
             ],
             [
              0.6666666666666666,
              "#ed7953"
             ],
             [
              0.7777777777777778,
              "#fb9f3a"
             ],
             [
              0.8888888888888888,
              "#fdca26"
             ],
             [
              1,
              "#f0f921"
             ]
            ],
            "type": "histogram2dcontour"
           }
          ],
          "mesh3d": [
           {
            "colorbar": {
             "outlinewidth": 0,
             "ticks": ""
            },
            "type": "mesh3d"
           }
          ],
          "parcoords": [
           {
            "line": {
             "colorbar": {
              "outlinewidth": 0,
              "ticks": ""
             }
            },
            "type": "parcoords"
           }
          ],
          "pie": [
           {
            "automargin": true,
            "type": "pie"
           }
          ],
          "scatter": [
           {
            "marker": {
             "line": {
              "color": "#283442"
             }
            },
            "type": "scatter"
           }
          ],
          "scatter3d": [
           {
            "line": {
             "colorbar": {
              "outlinewidth": 0,
              "ticks": ""
             }
            },
            "marker": {
             "colorbar": {
              "outlinewidth": 0,
              "ticks": ""
             }
            },
            "type": "scatter3d"
           }
          ],
          "scattercarpet": [
           {
            "marker": {
             "colorbar": {
              "outlinewidth": 0,
              "ticks": ""
             }
            },
            "type": "scattercarpet"
           }
          ],
          "scattergeo": [
           {
            "marker": {
             "colorbar": {
              "outlinewidth": 0,
              "ticks": ""
             }
            },
            "type": "scattergeo"
           }
          ],
          "scattergl": [
           {
            "marker": {
             "line": {
              "color": "#283442"
             }
            },
            "type": "scattergl"
           }
          ],
          "scattermapbox": [
           {
            "marker": {
             "colorbar": {
              "outlinewidth": 0,
              "ticks": ""
             }
            },
            "type": "scattermapbox"
           }
          ],
          "scatterpolar": [
           {
            "marker": {
             "colorbar": {
              "outlinewidth": 0,
              "ticks": ""
             }
            },
            "type": "scatterpolar"
           }
          ],
          "scatterpolargl": [
           {
            "marker": {
             "colorbar": {
              "outlinewidth": 0,
              "ticks": ""
             }
            },
            "type": "scatterpolargl"
           }
          ],
          "scatterternary": [
           {
            "marker": {
             "colorbar": {
              "outlinewidth": 0,
              "ticks": ""
             }
            },
            "type": "scatterternary"
           }
          ],
          "surface": [
           {
            "colorbar": {
             "outlinewidth": 0,
             "ticks": ""
            },
            "colorscale": [
             [
              0,
              "#0d0887"
             ],
             [
              0.1111111111111111,
              "#46039f"
             ],
             [
              0.2222222222222222,
              "#7201a8"
             ],
             [
              0.3333333333333333,
              "#9c179e"
             ],
             [
              0.4444444444444444,
              "#bd3786"
             ],
             [
              0.5555555555555556,
              "#d8576b"
             ],
             [
              0.6666666666666666,
              "#ed7953"
             ],
             [
              0.7777777777777778,
              "#fb9f3a"
             ],
             [
              0.8888888888888888,
              "#fdca26"
             ],
             [
              1,
              "#f0f921"
             ]
            ],
            "type": "surface"
           }
          ],
          "table": [
           {
            "cells": {
             "fill": {
              "color": "#506784"
             },
             "line": {
              "color": "rgb(17,17,17)"
             }
            },
            "header": {
             "fill": {
              "color": "#2a3f5f"
             },
             "line": {
              "color": "rgb(17,17,17)"
             }
            },
            "type": "table"
           }
          ]
         },
         "layout": {
          "annotationdefaults": {
           "arrowcolor": "#f2f5fa",
           "arrowhead": 0,
           "arrowwidth": 1
          },
          "autotypenumbers": "strict",
          "coloraxis": {
           "colorbar": {
            "outlinewidth": 0,
            "ticks": ""
           }
          },
          "colorscale": {
           "diverging": [
            [
             0,
             "#8e0152"
            ],
            [
             0.1,
             "#c51b7d"
            ],
            [
             0.2,
             "#de77ae"
            ],
            [
             0.3,
             "#f1b6da"
            ],
            [
             0.4,
             "#fde0ef"
            ],
            [
             0.5,
             "#f7f7f7"
            ],
            [
             0.6,
             "#e6f5d0"
            ],
            [
             0.7,
             "#b8e186"
            ],
            [
             0.8,
             "#7fbc41"
            ],
            [
             0.9,
             "#4d9221"
            ],
            [
             1,
             "#276419"
            ]
           ],
           "sequential": [
            [
             0,
             "#0d0887"
            ],
            [
             0.1111111111111111,
             "#46039f"
            ],
            [
             0.2222222222222222,
             "#7201a8"
            ],
            [
             0.3333333333333333,
             "#9c179e"
            ],
            [
             0.4444444444444444,
             "#bd3786"
            ],
            [
             0.5555555555555556,
             "#d8576b"
            ],
            [
             0.6666666666666666,
             "#ed7953"
            ],
            [
             0.7777777777777778,
             "#fb9f3a"
            ],
            [
             0.8888888888888888,
             "#fdca26"
            ],
            [
             1,
             "#f0f921"
            ]
           ],
           "sequentialminus": [
            [
             0,
             "#0d0887"
            ],
            [
             0.1111111111111111,
             "#46039f"
            ],
            [
             0.2222222222222222,
             "#7201a8"
            ],
            [
             0.3333333333333333,
             "#9c179e"
            ],
            [
             0.4444444444444444,
             "#bd3786"
            ],
            [
             0.5555555555555556,
             "#d8576b"
            ],
            [
             0.6666666666666666,
             "#ed7953"
            ],
            [
             0.7777777777777778,
             "#fb9f3a"
            ],
            [
             0.8888888888888888,
             "#fdca26"
            ],
            [
             1,
             "#f0f921"
            ]
           ]
          },
          "colorway": [
           "#636efa",
           "#EF553B",
           "#00cc96",
           "#ab63fa",
           "#FFA15A",
           "#19d3f3",
           "#FF6692",
           "#B6E880",
           "#FF97FF",
           "#FECB52"
          ],
          "font": {
           "color": "#f2f5fa"
          },
          "geo": {
           "bgcolor": "rgb(17,17,17)",
           "lakecolor": "rgb(17,17,17)",
           "landcolor": "rgb(17,17,17)",
           "showlakes": true,
           "showland": true,
           "subunitcolor": "#506784"
          },
          "hoverlabel": {
           "align": "left"
          },
          "hovermode": "closest",
          "mapbox": {
           "style": "dark"
          },
          "paper_bgcolor": "rgb(17,17,17)",
          "plot_bgcolor": "rgb(17,17,17)",
          "polar": {
           "angularaxis": {
            "gridcolor": "#506784",
            "linecolor": "#506784",
            "ticks": ""
           },
           "bgcolor": "rgb(17,17,17)",
           "radialaxis": {
            "gridcolor": "#506784",
            "linecolor": "#506784",
            "ticks": ""
           }
          },
          "scene": {
           "xaxis": {
            "backgroundcolor": "rgb(17,17,17)",
            "gridcolor": "#506784",
            "gridwidth": 2,
            "linecolor": "#506784",
            "showbackground": true,
            "ticks": "",
            "zerolinecolor": "#C8D4E3"
           },
           "yaxis": {
            "backgroundcolor": "rgb(17,17,17)",
            "gridcolor": "#506784",
            "gridwidth": 2,
            "linecolor": "#506784",
            "showbackground": true,
            "ticks": "",
            "zerolinecolor": "#C8D4E3"
           },
           "zaxis": {
            "backgroundcolor": "rgb(17,17,17)",
            "gridcolor": "#506784",
            "gridwidth": 2,
            "linecolor": "#506784",
            "showbackground": true,
            "ticks": "",
            "zerolinecolor": "#C8D4E3"
           }
          },
          "shapedefaults": {
           "line": {
            "color": "#f2f5fa"
           }
          },
          "sliderdefaults": {
           "bgcolor": "#C8D4E3",
           "bordercolor": "rgb(17,17,17)",
           "borderwidth": 1,
           "tickwidth": 0
          },
          "ternary": {
           "aaxis": {
            "gridcolor": "#506784",
            "linecolor": "#506784",
            "ticks": ""
           },
           "baxis": {
            "gridcolor": "#506784",
            "linecolor": "#506784",
            "ticks": ""
           },
           "bgcolor": "rgb(17,17,17)",
           "caxis": {
            "gridcolor": "#506784",
            "linecolor": "#506784",
            "ticks": ""
           }
          },
          "title": {
           "x": 0.05
          },
          "updatemenudefaults": {
           "bgcolor": "#506784",
           "borderwidth": 0
          },
          "xaxis": {
           "automargin": true,
           "gridcolor": "#283442",
           "linecolor": "#506784",
           "ticks": "",
           "title": {
            "standoff": 15
           },
           "zerolinecolor": "#283442",
           "zerolinewidth": 2
          },
          "yaxis": {
           "automargin": true,
           "gridcolor": "#283442",
           "linecolor": "#506784",
           "ticks": "",
           "title": {
            "standoff": 15
           },
           "zerolinecolor": "#283442",
           "zerolinewidth": 2
          }
         }
        },
        "title": {
         "text": "Cryptocurrency Clusters (Grouped by Behavior)",
         "x": 0.5
        },
        "xaxis": {
         "anchor": "y",
         "domain": [
          0,
          1
         ],
         "title": {
          "text": "x"
         },
         "visible": false
        },
        "yaxis": {
         "anchor": "x",
         "domain": [
          0,
          1
         ],
         "title": {
          "text": "y"
         },
         "visible": false
        }
       }
      }
     },
     "metadata": {},
     "output_type": "display_data"
    }
   ],
   "source": [
    "import plotly.express as px\n",
    "import numpy as np\n",
    "\n",
    "# Assign dummy x and y positions within each cluster\n",
    "clustered_df['x'] = 0\n",
    "clustered_df['y'] = 0\n",
    "\n",
    "# Offset positions by cluster (to keep them visually grouped)\n",
    "offset = 5\n",
    "for cid in clustered_df['cluster'].unique():\n",
    "    idx = clustered_df['cluster'] == cid\n",
    "    n = idx.sum()\n",
    "    angle = np.linspace(0, 2 * np.pi, n, endpoint=False)\n",
    "    clustered_df.loc[idx, 'x'] = np.cos(angle) + cid * offset\n",
    "    clustered_df.loc[idx, 'y'] = np.sin(angle)\n",
    "\n",
    "# Fixed bubble size\n",
    "clustered_df['bubble_size'] = 10\n",
    "\n",
    "# Interactive plot\n",
    "fig = px.scatter(\n",
    "    clustered_df,\n",
    "    x='x',\n",
    "    y='y',\n",
    "    color='cluster',\n",
    "    hover_name='symbol',\n",
    "    size='bubble_size',\n",
    "    size_max=8,\n",
    "    title='Cryptocurrency Clusters (Grouped by Behavior)',\n",
    ")\n",
    "\n",
    "fig.update_traces(marker=dict(sizemode='diameter'), selector=dict(mode='markers'))\n",
    "fig.update_layout(\n",
    "    showlegend=True,\n",
    "    xaxis=dict(visible=False),\n",
    "    yaxis=dict(visible=False),\n",
    "    template='plotly_dark',\n",
    "    title_x=0.5,\n",
    ")\n",
    "\n",
    "fig.show()\n"
   ]
  }
 ],
 "metadata": {
  "kernelspec": {
   "display_name": "DSI Participant",
   "language": "python",
   "name": "dsi_participant"
  },
  "language_info": {
   "codemirror_mode": {
    "name": "ipython",
    "version": 3
   },
   "file_extension": ".py",
   "mimetype": "text/x-python",
   "name": "python",
   "nbconvert_exporter": "python",
   "pygments_lexer": "ipython3",
   "version": "3.9.15"
  }
 },
 "nbformat": 4,
 "nbformat_minor": 5
}
