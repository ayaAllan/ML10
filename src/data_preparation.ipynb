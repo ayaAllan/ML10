{
 "cells": [
  {
   "cell_type": "markdown",
   "metadata": {},
   "source": [
    "# Data Preparation for Crypto Clustering Analysis\n",
    "\n",
    "This notebook handles data quality control and prepares the crypto-markets.csv dataset for clustering analysis."
   ]
  },
  {
   "cell_type": "code",
   "execution_count": 1,
   "id": "148ca526",
   "metadata": {},
   "outputs": [],
   "source": [
    "import pandas as pd\n",
    "import numpy as np\n",
    "import matplotlib.pyplot as plt\n",
    "import seaborn as sns\n",
    "from datetime import datetime\n",
    "import warnings\n",
    "warnings.filterwarnings('ignore')\n",
    "\n",
    "# Set display options\n",
    "pd.set_option('display.max_columns', None)\n",
    "pd.set_option('display.max_rows', 100)\n",
    "plt.style.use('seaborn-v0_8-darkgrid')"
   ]
  },
  {
   "cell_type": "markdown",
   "id": "f1401fa7",
   "metadata": {},
   "source": [
    "## 1. Load and Explore the Dataset"
   ]
  },
  {
   "cell_type": "code",
   "execution_count": 2,
   "id": "3e54fc38",
   "metadata": {},
   "outputs": [
    {
     "name": "stdout",
     "output_type": "stream",
     "text": [
      "Dataset shape: (942297, 13)\n",
      "\n",
      "Columns: ['slug', 'symbol', 'name', 'date', 'ranknow', 'open', 'high', 'low', 'close', 'volume', 'market', 'close_ratio', 'spread']\n",
      "\n",
      "Data types:\n",
      "slug            object\n",
      "symbol          object\n",
      "name            object\n",
      "date            object\n",
      "ranknow          int64\n",
      "open           float64\n",
      "high           float64\n",
      "low            float64\n",
      "close          float64\n",
      "volume         float64\n",
      "market         float64\n",
      "close_ratio    float64\n",
      "spread         float64\n",
      "dtype: object\n",
      "\n",
      "First few rows:\n"
     ]
    },
    {
     "data": {
      "text/html": [
       "<div>\n",
       "<style scoped>\n",
       "    .dataframe tbody tr th:only-of-type {\n",
       "        vertical-align: middle;\n",
       "    }\n",
       "\n",
       "    .dataframe tbody tr th {\n",
       "        vertical-align: top;\n",
       "    }\n",
       "\n",
       "    .dataframe thead th {\n",
       "        text-align: right;\n",
       "    }\n",
       "</style>\n",
       "<table border=\"1\" class=\"dataframe\">\n",
       "  <thead>\n",
       "    <tr style=\"text-align: right;\">\n",
       "      <th></th>\n",
       "      <th>slug</th>\n",
       "      <th>symbol</th>\n",
       "      <th>name</th>\n",
       "      <th>date</th>\n",
       "      <th>ranknow</th>\n",
       "      <th>open</th>\n",
       "      <th>high</th>\n",
       "      <th>low</th>\n",
       "      <th>close</th>\n",
       "      <th>volume</th>\n",
       "      <th>market</th>\n",
       "      <th>close_ratio</th>\n",
       "      <th>spread</th>\n",
       "    </tr>\n",
       "  </thead>\n",
       "  <tbody>\n",
       "    <tr>\n",
       "      <th>0</th>\n",
       "      <td>bitcoin</td>\n",
       "      <td>BTC</td>\n",
       "      <td>Bitcoin</td>\n",
       "      <td>2013-04-28</td>\n",
       "      <td>1</td>\n",
       "      <td>135.30</td>\n",
       "      <td>135.98</td>\n",
       "      <td>132.10</td>\n",
       "      <td>134.21</td>\n",
       "      <td>0.0</td>\n",
       "      <td>1.488567e+09</td>\n",
       "      <td>0.5438</td>\n",
       "      <td>3.88</td>\n",
       "    </tr>\n",
       "    <tr>\n",
       "      <th>1</th>\n",
       "      <td>bitcoin</td>\n",
       "      <td>BTC</td>\n",
       "      <td>Bitcoin</td>\n",
       "      <td>2013-04-29</td>\n",
       "      <td>1</td>\n",
       "      <td>134.44</td>\n",
       "      <td>147.49</td>\n",
       "      <td>134.00</td>\n",
       "      <td>144.54</td>\n",
       "      <td>0.0</td>\n",
       "      <td>1.603769e+09</td>\n",
       "      <td>0.7813</td>\n",
       "      <td>13.49</td>\n",
       "    </tr>\n",
       "    <tr>\n",
       "      <th>2</th>\n",
       "      <td>bitcoin</td>\n",
       "      <td>BTC</td>\n",
       "      <td>Bitcoin</td>\n",
       "      <td>2013-04-30</td>\n",
       "      <td>1</td>\n",
       "      <td>144.00</td>\n",
       "      <td>146.93</td>\n",
       "      <td>134.05</td>\n",
       "      <td>139.00</td>\n",
       "      <td>0.0</td>\n",
       "      <td>1.542813e+09</td>\n",
       "      <td>0.3843</td>\n",
       "      <td>12.88</td>\n",
       "    </tr>\n",
       "    <tr>\n",
       "      <th>3</th>\n",
       "      <td>bitcoin</td>\n",
       "      <td>BTC</td>\n",
       "      <td>Bitcoin</td>\n",
       "      <td>2013-05-01</td>\n",
       "      <td>1</td>\n",
       "      <td>139.00</td>\n",
       "      <td>139.89</td>\n",
       "      <td>107.72</td>\n",
       "      <td>116.99</td>\n",
       "      <td>0.0</td>\n",
       "      <td>1.298955e+09</td>\n",
       "      <td>0.2882</td>\n",
       "      <td>32.17</td>\n",
       "    </tr>\n",
       "    <tr>\n",
       "      <th>4</th>\n",
       "      <td>bitcoin</td>\n",
       "      <td>BTC</td>\n",
       "      <td>Bitcoin</td>\n",
       "      <td>2013-05-02</td>\n",
       "      <td>1</td>\n",
       "      <td>116.38</td>\n",
       "      <td>125.60</td>\n",
       "      <td>92.28</td>\n",
       "      <td>105.21</td>\n",
       "      <td>0.0</td>\n",
       "      <td>1.168517e+09</td>\n",
       "      <td>0.3881</td>\n",
       "      <td>33.32</td>\n",
       "    </tr>\n",
       "  </tbody>\n",
       "</table>\n",
       "</div>"
      ],
      "text/plain": [
       "      slug symbol     name        date  ranknow    open    high     low   \n",
       "0  bitcoin    BTC  Bitcoin  2013-04-28        1  135.30  135.98  132.10  \\\n",
       "1  bitcoin    BTC  Bitcoin  2013-04-29        1  134.44  147.49  134.00   \n",
       "2  bitcoin    BTC  Bitcoin  2013-04-30        1  144.00  146.93  134.05   \n",
       "3  bitcoin    BTC  Bitcoin  2013-05-01        1  139.00  139.89  107.72   \n",
       "4  bitcoin    BTC  Bitcoin  2013-05-02        1  116.38  125.60   92.28   \n",
       "\n",
       "    close  volume        market  close_ratio  spread  \n",
       "0  134.21     0.0  1.488567e+09       0.5438    3.88  \n",
       "1  144.54     0.0  1.603769e+09       0.7813   13.49  \n",
       "2  139.00     0.0  1.542813e+09       0.3843   12.88  \n",
       "3  116.99     0.0  1.298955e+09       0.2882   32.17  \n",
       "4  105.21     0.0  1.168517e+09       0.3881   33.32  "
      ]
     },
     "execution_count": 2,
     "metadata": {},
     "output_type": "execute_result"
    }
   ],
   "source": [
    "# Load the dataset\n",
    "df = pd.read_csv('../data/raw/crypto-markets.csv')\n",
    "\n",
    "# Basic information about the dataset\n",
    "print(f\"Dataset shape: {df.shape}\")\n",
    "print(f\"\\nColumns: {df.columns.tolist()}\")\n",
    "print(f\"\\nData types:\\n{df.dtypes}\")\n",
    "print(f\"\\nFirst few rows:\")\n",
    "df.head()"
   ]
  },
  {
   "cell_type": "code",
   "execution_count": 3,
   "id": "976b408b",
   "metadata": {},
   "outputs": [
    {
     "name": "stdout",
     "output_type": "stream",
     "text": [
      "Date range: 2013-04-28 00:00:00 to 2018-11-30 00:00:00\n",
      "Total days: 2042\n",
      "\n",
      "Unique cryptocurrencies (by slug): 2071\n",
      "Unique symbols: 2005\n",
      "Total records: 942297\n"
     ]
    }
   ],
   "source": [
    "# Convert date column to datetime\n",
    "df['date'] = pd.to_datetime(df['date'])\n",
    "\n",
    "# Get date range\n",
    "print(f\"Date range: {df['date'].min()} to {df['date'].max()}\")\n",
    "print(f\"Total days: {(df['date'].max() - df['date'].min()).days}\")\n",
    "\n",
    "# Unique cryptocurrencies\n",
    "print(f\"\\nUnique cryptocurrencies (by slug): {df['slug'].nunique()}\")\n",
    "print(f\"Unique symbols: {df['symbol'].nunique()}\")\n",
    "print(f\"Total records: {len(df)}\")"
   ]
  },
  {
   "cell_type": "markdown",
   "id": "119513f1",
   "metadata": {},
   "source": [
    "## 2. Data Quality Assessment"
   ]
  },
  {
   "cell_type": "code",
   "execution_count": 4,
   "id": "5681c8a7",
   "metadata": {},
   "outputs": [
    {
     "name": "stdout",
     "output_type": "stream",
     "text": [
      "Missing values analysis:\n",
      "Empty DataFrame\n",
      "Columns: [Missing_Count, Percentage]\n",
      "Index: []\n"
     ]
    }
   ],
   "source": [
    "# Check for missing values\n",
    "missing_values = df.isnull().sum()\n",
    "missing_percentage = (missing_values / len(df)) * 100\n",
    "missing_df = pd.DataFrame({\n",
    "    'Missing_Count': missing_values,\n",
    "    'Percentage': missing_percentage\n",
    "})\n",
    "print(\"Missing values analysis:\")\n",
    "print(missing_df[missing_df['Missing_Count'] > 0])"
   ]
  },
  {
   "cell_type": "code",
   "execution_count": 5,
   "id": "291d37ee",
   "metadata": {},
   "outputs": [
    {
     "name": "stdout",
     "output_type": "stream",
     "text": [
      "Symbols with multiple slugs: 63\n",
      "\n",
      "Top 10 symbols with most duplicates:\n",
      "symbol\n",
      "ACC     3\n",
      "BIT     3\n",
      "BITS    3\n",
      "LNC     2\n",
      "PXC     2\n",
      "EVN     2\n",
      "ETT     2\n",
      "CMCT    2\n",
      "BBK     2\n",
      "CMS     2\n",
      "Name: slug, dtype: int64\n"
     ]
    }
   ],
   "source": [
    "# Check for duplicate symbol issues mentioned in README\n",
    "symbol_analysis = df.groupby('symbol')['slug'].nunique().sort_values(ascending=False)\n",
    "duplicate_symbols = symbol_analysis[symbol_analysis > 1]\n",
    "print(f\"Symbols with multiple slugs: {len(duplicate_symbols)}\")\n",
    "print(\"\\nTop 10 symbols with most duplicates:\")\n",
    "print(duplicate_symbols.head(10))"
   ]
  },
  {
   "cell_type": "code",
   "execution_count": 6,
   "id": "6941cb90",
   "metadata": {},
   "outputs": [
    {
     "data": {
      "image/png": "[encoded data removed]",
      "text/plain": [
       "<Figure size 1200x600 with 2 Axes>"
      ]
     },
     "metadata": {},
     "output_type": "display_data"
    },
    {
     "name": "stdout",
     "output_type": "stream",
     "text": [
      "Cryptos with at least 180 days of data: 1383\n",
      "Cryptos with at least 365 days of data: 872\n"
     ]
    }
   ],
   "source": [
    "# Analyze data availability per cryptocurrency\n",
    "crypto_data_availability = df.groupby('slug').agg({\n",
    "    'date': ['min', 'max', 'count'],\n",
    "    'symbol': 'first',\n",
    "    'name': 'first'\n",
    "})\n",
    "crypto_data_availability.columns = ['start_date', 'end_date', 'days_available', 'symbol', 'name']\n",
    "crypto_data_availability['trading_duration'] = (crypto_data_availability['end_date'] - \n",
    "                                               crypto_data_availability['start_date']).dt.days\n",
    "\n",
    "# Distribution of available data days\n",
    "plt.figure(figsize=(12, 6))\n",
    "plt.subplot(1, 2, 1)\n",
    "plt.hist(crypto_data_availability['days_available'], bins=50, edgecolor='black')\n",
    "plt.xlabel('Number of Days Available')\n",
    "plt.ylabel('Number of Cryptocurrencies')\n",
    "plt.title('Distribution of Data Availability')\n",
    "\n",
    "plt.subplot(1, 2, 2)\n",
    "plt.hist(crypto_data_availability['trading_duration'], bins=50, edgecolor='black')\n",
    "plt.xlabel('Trading Duration (Days)')\n",
    "plt.ylabel('Number of Cryptocurrencies')\n",
    "plt.title('Distribution of Trading Duration')\n",
    "plt.tight_layout()\n",
    "plt.show()\n",
    "\n",
    "print(f\"Cryptos with at least 180 days of data: {len(crypto_data_availability[crypto_data_availability['days_available'] >= 180])}\")\n",
    "print(f\"Cryptos with at least 365 days of data: {len(crypto_data_availability[crypto_data_availability['days_available'] >= 365])}\")"
   ]
  },
  {
   "cell_type": "markdown",
   "id": "249320c0",
   "metadata": {},
   "source": [
    "## 3. Data Cleaning and Quality Control"
   ]
  },
  {
   "cell_type": "code",
   "execution_count": 7,
   "id": "e432db09",
   "metadata": {},
   "outputs": [
    {
     "name": "stdout",
     "output_type": "stream",
     "text": [
      "Records before cleaning: 942297\n",
      "Records after cleaning: 942249\n",
      "Records removed: 48 (0.01%)\n"
     ]
    }
   ],
   "source": [
    "# Remove records with zero or null prices\n",
    "print(f\"Records before cleaning: {len(df)}\")\n",
    "\n",
    "# Remove rows where critical price columns are zero or null\n",
    "price_columns = ['open', 'high', 'low', 'close']\n",
    "df_clean = df.copy()\n",
    "\n",
    "# Remove rows where all price columns are zero\n",
    "zero_price_mask = (df_clean[price_columns] == 0).all(axis=1)\n",
    "df_clean = df_clean[~zero_price_mask]\n",
    "\n",
    "# Remove rows with null values in critical columns\n",
    "df_clean = df_clean.dropna(subset=price_columns + ['date', 'slug', 'symbol'])\n",
    "\n",
    "# Remove rows with invalid price relationships (high < low, etc.)\n",
    "invalid_price_mask = (df_clean['high'] < df_clean['low']) | \\\n",
    "                    (df_clean['close'] > df_clean['high']) | \\\n",
    "                    (df_clean['close'] < df_clean['low']) | \\\n",
    "                    (df_clean['open'] > df_clean['high']) | \\\n",
    "                    (df_clean['open'] < df_clean['low'])\n",
    "df_clean = df_clean[~invalid_price_mask]\n",
    "\n",
    "print(f\"Records after cleaning: {len(df_clean)}\")\n",
    "print(f\"Records removed: {len(df) - len(df_clean)} ({((len(df) - len(df_clean)) / len(df) * 100):.2f}%)\")"
   ]
  },
  {
   "cell_type": "code",
   "execution_count": 9,
   "id": "e83c8609",
   "metadata": {},
   "outputs": [
    {
     "name": "stdout",
     "output_type": "stream",
     "text": [
      "Cryptocurrencies with at least 180 days: 1383\n",
      "Records after filtering: 879375\n"
     ]
    }
   ],
   "source": [
    "# Filter cryptocurrencies with sufficient data (at least 180 days)\n",
    "MIN_DAYS_REQUIRED = 180\n",
    "\n",
    "crypto_days = df_clean.groupby('slug')['date'].count()\n",
    "valid_cryptos = crypto_days[crypto_days >= MIN_DAYS_REQUIRED].index.tolist()\n",
    "\n",
    "df_filtered = df_clean[df_clean['slug'].isin(valid_cryptos)].copy()\n",
    "\n",
    "print(f\"Cryptocurrencies with at least {MIN_DAYS_REQUIRED} days: {len(valid_cryptos)}\")\n",
    "print(f\"Records after filtering: {len(df_filtered)}\")"
   ]
  },
  {
   "cell_type": "code",
   "execution_count": 10,
   "id": "ed4ee071",
   "metadata": {},
   "outputs": [
    {
     "name": "stdout",
     "output_type": "stream",
     "text": [
      "Handling 57 duplicate symbol cases...\n"
     ]
    }
   ],
   "source": [
    "# Handle duplicate symbols by creating unique identifiers\n",
    "# For cryptos with same symbol, append a suffix to make them unique\n",
    "symbol_counts = df_filtered.groupby(['symbol', 'slug']).size().reset_index(name='count')\n",
    "duplicate_symbols = symbol_counts.groupby('symbol').filter(lambda x: len(x) > 1)\n",
    "\n",
    "if len(duplicate_symbols) > 0:\n",
    "    print(f\"Handling {len(duplicate_symbols)} duplicate symbol cases...\")\n",
    "    \n",
    "    # Create a mapping for unique symbols\n",
    "    symbol_mapping = {}\n",
    "    for symbol in duplicate_symbols['symbol'].unique():\n",
    "        slugs = duplicate_symbols[duplicate_symbols['symbol'] == symbol]['slug'].values\n",
    "        for i, slug in enumerate(slugs):\n",
    "            if i > 0:\n",
    "                symbol_mapping[slug] = f\"{symbol}_{i}\"\n",
    "    \n",
    "    # Apply mapping\n",
    "    df_filtered['unique_symbol'] = df_filtered.apply(\n",
    "        lambda row: symbol_mapping.get(row['slug'], row['symbol']), axis=1\n",
    "    )\n",
    "else:\n",
    "    df_filtered['unique_symbol'] = df_filtered['symbol']"
   ]
  },
  {
   "cell_type": "markdown",
   "id": "b43abb45",
   "metadata": {},
   "source": [
    "## 4. Export Year-wise CSV Files"
   ]
  },
  {
   "cell_type": "code",
   "execution_count": 11,
   "id": "ad30fd44",
   "metadata": {},
   "outputs": [
    {
     "name": "stdout",
     "output_type": "stream",
     "text": [
      "Years in dataset: [2013, 2014, 2015, 2016, 2017, 2018]\n",
      "Exported 2013: 5483 records, 43 cryptocurrencies\n",
      "Exported 2014: 43211 records, 191 cryptocurrencies\n",
      "Exported 2015: 80053 records, 274 cryptocurrencies\n",
      "Exported 2016: 111994 records, 404 cryptocurrencies\n",
      "Exported 2017: 212894 records, 952 cryptocurrencies\n",
      "Exported 2018: 425740 records, 1383 cryptocurrencies\n"
     ]
    }
   ],
   "source": [
    "# Create year column\n",
    "df_filtered['year'] = df_filtered['date'].dt.year\n",
    "\n",
    "# Get unique years\n",
    "years = sorted(df_filtered['year'].unique())\n",
    "print(f\"Years in dataset: {years}\")\n",
    "\n",
    "# Export year-wise CSV files\n",
    "import os\n",
    "output_dir = '../data/processed/'\n",
    "os.makedirs(output_dir, exist_ok=True)\n",
    "\n",
    "for year in years:\n",
    "    year_data = df_filtered[df_filtered['year'] == year]\n",
    "    output_file = os.path.join(output_dir, f'crypto_data_{year}.csv')\n",
    "    year_data.to_csv(output_file, index=False)\n",
    "    print(f\"Exported {year}: {len(year_data)} records, {year_data['slug'].nunique()} cryptocurrencies\")"
   ]
  },
  {
   "cell_type": "code",
   "execution_count": 12,
   "id": "12a920c2",
   "metadata": {},
   "outputs": [
    {
     "name": "stdout",
     "output_type": "stream",
     "text": [
      "\n",
      "Complete cleaned dataset saved: 879375 records\n"
     ]
    }
   ],
   "source": [
    "# Also save the complete cleaned dataset\n",
    "df_filtered.to_csv('../data/processed/crypto_data_cleaned.csv', index=False)\n",
    "print(f\"\\nComplete cleaned dataset saved: {len(df_filtered)} records\")"
   ]
  },
  {
   "cell_type": "markdown",
   "id": "232f748f",
   "metadata": {},
   "source": [
    "## 5. Data Quality Summary Report"
   ]
  },
  {
   "cell_type": "code",
   "execution_count": 13,
   "id": "a6705bcd",
   "metadata": {},
   "outputs": [
    {
     "name": "stdout",
     "output_type": "stream",
     "text": [
      "=== DATA QUALITY SUMMARY REPORT ===\n",
      "\n",
      "1. Original Dataset:\n",
      "   - Total records: 942,297\n",
      "   - Unique cryptocurrencies: 2,071\n",
      "   - Date range: 2013-04-28 00:00:00 to 2018-11-30 00:00:00\n",
      "\n",
      "2. After Cleaning:\n",
      "   - Total records: 879,375\n",
      "   - Unique cryptocurrencies: 1,383\n",
      "   - Records removed: 62,922 (6.68%)\n",
      "\n",
      "3. Quality Metrics:\n",
      "   - Cryptos with >= 180 days: 1383\n",
      "   - Average days per crypto: 635.8\n",
      "   - Duplicate symbols resolved: 29\n",
      "\n",
      "4. Top 10 Cryptocurrencies by Data Availability:\n",
      "             days_available         name symbol\n",
      "slug                                           \n",
      "litecoin               2042     Litecoin    LTC\n",
      "namecoin               2042     Namecoin    NMC\n",
      "bitcoin                2042      Bitcoin    BTC\n",
      "peercoin               2041     Peercoin    PPC\n",
      "novacoin               2041     Novacoin    NVC\n",
      "feathercoin            2037  Feathercoin    FTC\n",
      "terracoin              2027    Terracoin    TRC\n",
      "bitbar                 2014       BitBar    BTB\n",
      "worldcoin              2003    WorldCoin    WDC\n",
      "digitalcoin            1999  Digitalcoin    DGC\n"
     ]
    }
   ],
   "source": [
    "# Generate summary statistics\n",
    "print(\"=== DATA QUALITY SUMMARY REPORT ===\")\n",
    "print(f\"\\n1. Original Dataset:\")\n",
    "print(f\"   - Total records: {len(df):,}\")\n",
    "print(f\"   - Unique cryptocurrencies: {df['slug'].nunique():,}\")\n",
    "print(f\"   - Date range: {df['date'].min()} to {df['date'].max()}\")\n",
    "\n",
    "print(f\"\\n2. After Cleaning:\")\n",
    "print(f\"   - Total records: {len(df_filtered):,}\")\n",
    "print(f\"   - Unique cryptocurrencies: {df_filtered['slug'].nunique():,}\")\n",
    "print(f\"   - Records removed: {len(df) - len(df_filtered):,} ({((len(df) - len(df_filtered)) / len(df) * 100):.2f}%)\")\n",
    "\n",
    "print(f\"\\n3. Quality Metrics:\")\n",
    "print(f\"   - Cryptos with >= {MIN_DAYS_REQUIRED} days: {len(valid_cryptos)}\")\n",
    "print(f\"   - Average days per crypto: {df_filtered.groupby('slug')['date'].count().mean():.1f}\")\n",
    "print(f\"   - Duplicate symbols resolved: {len(symbol_mapping) if 'symbol_mapping' in locals() else 0}\")\n",
    "\n",
    "# Top 10 cryptocurrencies by data availability\n",
    "top_cryptos = df_filtered.groupby('slug').agg({\n",
    "    'date': 'count',\n",
    "    'name': 'first',\n",
    "    'unique_symbol': 'first'\n",
    "}).sort_values('date', ascending=False).head(10)\n",
    "top_cryptos.columns = ['days_available', 'name', 'symbol']\n",
    "\n",
    "print(f\"\\n4. Top 10 Cryptocurrencies by Data Availability:\")\n",
    "print(top_cryptos)"
   ]
  },
  {
   "cell_type": "code",
   "execution_count": 14,
   "id": "fc2f5550",
   "metadata": {},
   "outputs": [
    {
     "data": {
      "image/png": "[encoded data removed]",
      "text/plain": [
       "<Figure size 1200x600 with 2 Axes>"
      ]
     },
     "metadata": {},
     "output_type": "display_data"
    }
   ],
   "source": [
    "# Visualize data distribution across years\n",
    "plt.figure(figsize=(12, 6))\n",
    "\n",
    "# Records per year\n",
    "plt.subplot(1, 2, 1)\n",
    "year_counts = df_filtered.groupby('year').size()\n",
    "year_counts.plot(kind='bar', color='skyblue', edgecolor='black')\n",
    "plt.xlabel('Year')\n",
    "plt.ylabel('Number of Records')\n",
    "plt.title('Records per Year')\n",
    "plt.xticks(rotation=45)\n",
    "\n",
    "# Unique cryptos per year\n",
    "plt.subplot(1, 2, 2)\n",
    "year_cryptos = df_filtered.groupby('year')['slug'].nunique()\n",
    "year_cryptos.plot(kind='bar', color='lightcoral', edgecolor='black')\n",
    "plt.xlabel('Year')\n",
    "plt.ylabel('Number of Unique Cryptocurrencies')\n",
    "plt.title('Unique Cryptocurrencies per Year')\n",
    "plt.xticks(rotation=45)\n",
    "\n",
    "plt.tight_layout()\n",
    "plt.show()"
   ]
  },
  {
   "cell_type": "code",
   "execution_count": 15,
   "id": "9bedc9bf",
   "metadata": {},
   "outputs": [
    {
     "name": "stdout",
     "output_type": "stream",
     "text": [
      "Checking data types in metadata:\n",
      "total_cryptos: <class 'int'>\n",
      "date_range: <class 'dict'>\n",
      "valid_cryptos: <class 'list'>\n",
      "  First crypto type: <class 'str'>\n",
      "years: <class 'list'>\n",
      "  First year type: <class 'int'>\n",
      "min_days_required: <class 'int'>\n",
      "\n",
      "Metadata saved for feature engineering phase.\n"
     ]
    }
   ],
   "source": [
    "# Save metadata for feature engineering\n",
    "# Helper function to convert numpy types to native Python types\n",
    "def convert_to_native_types(obj):\n",
    "    \"\"\"Convert numpy types to native Python types for JSON serialization\"\"\"\n",
    "    import numpy as np\n",
    "    if isinstance(obj, np.integer):\n",
    "        return int(obj)\n",
    "    elif isinstance(obj, np.floating):\n",
    "        return float(obj)\n",
    "    elif isinstance(obj, np.ndarray):\n",
    "        return obj.tolist()\n",
    "    elif isinstance(obj, list):\n",
    "        return [convert_to_native_types(item) for item in obj]\n",
    "    elif isinstance(obj, dict):\n",
    "        return {key: convert_to_native_types(value) for key, value in obj.items()}\n",
    "    else:\n",
    "        return obj\n",
    "\n",
    "# Create metadata dictionary\n",
    "metadata = {\n",
    "    'total_cryptos': df_filtered['slug'].nunique(),\n",
    "    'date_range': {\n",
    "        'start': str(df_filtered['date'].min()),\n",
    "        'end': str(df_filtered['date'].max())\n",
    "    },\n",
    "    'valid_cryptos': valid_cryptos,\n",
    "    'years': years,\n",
    "    'min_days_required': MIN_DAYS_REQUIRED\n",
    "}\n",
    "\n",
    "# Convert all numpy types to native Python types\n",
    "metadata = convert_to_native_types(metadata)\n",
    "\n",
    "# Debug: Check types\n",
    "print(\"Checking data types in metadata:\")\n",
    "for key, value in metadata.items():\n",
    "    print(f\"{key}: {type(value)}\")\n",
    "    if key == 'years':\n",
    "        print(f\"  First year type: {type(value[0]) if value else 'empty'}\")\n",
    "    if key == 'valid_cryptos':\n",
    "        print(f\"  First crypto type: {type(value[0]) if value else 'empty'}\")\n",
    "\n",
    "import json\n",
    "with open('../data/processed/metadata.json', 'w') as f:\n",
    "    json.dump(metadata, f, indent=4)\n",
    "\n",
    "print(\"\\nMetadata saved for feature engineering phase.\")"
   ]
  }
 ],
 "metadata": {
  "kernelspec": {
   "display_name": "dsi_participant",
   "language": "python",
   "name": "python3"
  },
  "language_info": {
   "codemirror_mode": {
    "name": "ipython",
    "version": 3
   },
   "file_extension": ".py",
   "mimetype": "text/x-python",
   "name": "python",
   "nbconvert_exporter": "python",
   "pygments_lexer": "ipython3",
   "version": "3.9.21"
  }
 },
 "nbformat": 4,
 "nbformat_minor": 5
}
